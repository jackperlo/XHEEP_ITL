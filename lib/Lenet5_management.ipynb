{
 "cells": [
  {
   "cell_type": "markdown",
   "metadata": {
    "id": "oS4veW4RiH5a"
   },
   "source": [
    "# Import libraries"
   ]
  },
  {
   "cell_type": "markdown",
   "metadata": {
    "id": "99Dj3g86-u4o"
   },
   "source": [
    "Import necessary libraries"
   ]
  },
  {
   "cell_type": "code",
   "execution_count": null,
   "metadata": {
    "colab": {
     "base_uri": "https://localhost:8080/"
    },
    "id": "dkepmwV5h9vK",
    "outputId": "b5201cbe-3a92-4ebf-d0a7-86578d80317f"
   },
   "outputs": [
    {
     "name": "stdout",
     "output_type": "stream",
     "text": [
      "Collecting tensorflow==2.15.0\n",
      "  Downloading tensorflow-2.15.0-cp310-cp310-manylinux_2_17_x86_64.manylinux2014_x86_64.whl.metadata (4.4 kB)\n",
      "Requirement already satisfied: absl-py>=1.0.0 in /usr/local/lib/python3.10/dist-packages (from tensorflow==2.15.0) (1.4.0)\n",
      "Requirement already satisfied: astunparse>=1.6.0 in /usr/local/lib/python3.10/dist-packages (from tensorflow==2.15.0) (1.6.3)\n",
      "Requirement already satisfied: flatbuffers>=23.5.26 in /usr/local/lib/python3.10/dist-packages (from tensorflow==2.15.0) (24.3.25)\n",
      "Requirement already satisfied: gast!=0.5.0,!=0.5.1,!=0.5.2,>=0.2.1 in /usr/local/lib/python3.10/dist-packages (from tensorflow==2.15.0) (0.6.0)\n",
      "Requirement already satisfied: google-pasta>=0.1.1 in /usr/local/lib/python3.10/dist-packages (from tensorflow==2.15.0) (0.2.0)\n",
      "Requirement already satisfied: h5py>=2.9.0 in /usr/local/lib/python3.10/dist-packages (from tensorflow==2.15.0) (3.11.0)\n",
      "Requirement already satisfied: libclang>=13.0.0 in /usr/local/lib/python3.10/dist-packages (from tensorflow==2.15.0) (18.1.1)\n",
      "Collecting ml-dtypes~=0.2.0 (from tensorflow==2.15.0)\n",
      "  Downloading ml_dtypes-0.2.0-cp310-cp310-manylinux_2_17_x86_64.manylinux2014_x86_64.whl.metadata (20 kB)\n",
      "Requirement already satisfied: numpy<2.0.0,>=1.23.5 in /usr/local/lib/python3.10/dist-packages (from tensorflow==2.15.0) (1.26.4)\n",
      "Requirement already satisfied: opt-einsum>=2.3.2 in /usr/local/lib/python3.10/dist-packages (from tensorflow==2.15.0) (3.4.0)\n",
      "Requirement already satisfied: packaging in /usr/local/lib/python3.10/dist-packages (from tensorflow==2.15.0) (24.1)\n",
      "Requirement already satisfied: protobuf!=4.21.0,!=4.21.1,!=4.21.2,!=4.21.3,!=4.21.4,!=4.21.5,<5.0.0dev,>=3.20.3 in /usr/local/lib/python3.10/dist-packages (from tensorflow==2.15.0) (3.20.3)\n",
      "Requirement already satisfied: setuptools in /usr/local/lib/python3.10/dist-packages (from tensorflow==2.15.0) (71.0.4)\n",
      "Requirement already satisfied: six>=1.12.0 in /usr/local/lib/python3.10/dist-packages (from tensorflow==2.15.0) (1.16.0)\n",
      "Requirement already satisfied: termcolor>=1.1.0 in /usr/local/lib/python3.10/dist-packages (from tensorflow==2.15.0) (2.4.0)\n",
      "Requirement already satisfied: typing-extensions>=3.6.6 in /usr/local/lib/python3.10/dist-packages (from tensorflow==2.15.0) (4.12.2)\n",
      "Collecting wrapt<1.15,>=1.11.0 (from tensorflow==2.15.0)\n",
      "  Downloading wrapt-1.14.1-cp310-cp310-manylinux_2_5_x86_64.manylinux1_x86_64.manylinux_2_17_x86_64.manylinux2014_x86_64.whl.metadata (6.7 kB)\n",
      "Requirement already satisfied: tensorflow-io-gcs-filesystem>=0.23.1 in /usr/local/lib/python3.10/dist-packages (from tensorflow==2.15.0) (0.37.1)\n",
      "Requirement already satisfied: grpcio<2.0,>=1.24.3 in /usr/local/lib/python3.10/dist-packages (from tensorflow==2.15.0) (1.64.1)\n",
      "Collecting tensorboard<2.16,>=2.15 (from tensorflow==2.15.0)\n",
      "  Downloading tensorboard-2.15.2-py3-none-any.whl.metadata (1.7 kB)\n",
      "Collecting tensorflow-estimator<2.16,>=2.15.0 (from tensorflow==2.15.0)\n",
      "  Downloading tensorflow_estimator-2.15.0-py2.py3-none-any.whl.metadata (1.3 kB)\n",
      "Collecting keras<2.16,>=2.15.0 (from tensorflow==2.15.0)\n",
      "  Downloading keras-2.15.0-py3-none-any.whl.metadata (2.4 kB)\n",
      "Requirement already satisfied: wheel<1.0,>=0.23.0 in /usr/local/lib/python3.10/dist-packages (from astunparse>=1.6.0->tensorflow==2.15.0) (0.44.0)\n",
      "Requirement already satisfied: google-auth<3,>=1.6.3 in /usr/local/lib/python3.10/dist-packages (from tensorboard<2.16,>=2.15->tensorflow==2.15.0) (2.27.0)\n",
      "Requirement already satisfied: google-auth-oauthlib<2,>=0.5 in /usr/local/lib/python3.10/dist-packages (from tensorboard<2.16,>=2.15->tensorflow==2.15.0) (1.2.1)\n",
      "Requirement already satisfied: markdown>=2.6.8 in /usr/local/lib/python3.10/dist-packages (from tensorboard<2.16,>=2.15->tensorflow==2.15.0) (3.7)\n",
      "Requirement already satisfied: requests<3,>=2.21.0 in /usr/local/lib/python3.10/dist-packages (from tensorboard<2.16,>=2.15->tensorflow==2.15.0) (2.32.3)\n",
      "Requirement already satisfied: tensorboard-data-server<0.8.0,>=0.7.0 in /usr/local/lib/python3.10/dist-packages (from tensorboard<2.16,>=2.15->tensorflow==2.15.0) (0.7.2)\n",
      "Requirement already satisfied: werkzeug>=1.0.1 in /usr/local/lib/python3.10/dist-packages (from tensorboard<2.16,>=2.15->tensorflow==2.15.0) (3.0.4)\n",
      "Requirement already satisfied: cachetools<6.0,>=2.0.0 in /usr/local/lib/python3.10/dist-packages (from google-auth<3,>=1.6.3->tensorboard<2.16,>=2.15->tensorflow==2.15.0) (5.5.0)\n",
      "Requirement already satisfied: pyasn1-modules>=0.2.1 in /usr/local/lib/python3.10/dist-packages (from google-auth<3,>=1.6.3->tensorboard<2.16,>=2.15->tensorflow==2.15.0) (0.4.1)\n",
      "Requirement already satisfied: rsa<5,>=3.1.4 in /usr/local/lib/python3.10/dist-packages (from google-auth<3,>=1.6.3->tensorboard<2.16,>=2.15->tensorflow==2.15.0) (4.9)\n",
      "Requirement already satisfied: requests-oauthlib>=0.7.0 in /usr/local/lib/python3.10/dist-packages (from google-auth-oauthlib<2,>=0.5->tensorboard<2.16,>=2.15->tensorflow==2.15.0) (1.3.1)\n",
      "Requirement already satisfied: charset-normalizer<4,>=2 in /usr/local/lib/python3.10/dist-packages (from requests<3,>=2.21.0->tensorboard<2.16,>=2.15->tensorflow==2.15.0) (3.3.2)\n",
      "Requirement already satisfied: idna<4,>=2.5 in /usr/local/lib/python3.10/dist-packages (from requests<3,>=2.21.0->tensorboard<2.16,>=2.15->tensorflow==2.15.0) (3.10)\n",
      "Requirement already satisfied: urllib3<3,>=1.21.1 in /usr/local/lib/python3.10/dist-packages (from requests<3,>=2.21.0->tensorboard<2.16,>=2.15->tensorflow==2.15.0) (2.2.3)\n",
      "Requirement already satisfied: certifi>=2017.4.17 in /usr/local/lib/python3.10/dist-packages (from requests<3,>=2.21.0->tensorboard<2.16,>=2.15->tensorflow==2.15.0) (2024.8.30)\n",
      "Requirement already satisfied: MarkupSafe>=2.1.1 in /usr/local/lib/python3.10/dist-packages (from werkzeug>=1.0.1->tensorboard<2.16,>=2.15->tensorflow==2.15.0) (2.1.5)\n",
      "Requirement already satisfied: pyasn1<0.7.0,>=0.4.6 in /usr/local/lib/python3.10/dist-packages (from pyasn1-modules>=0.2.1->google-auth<3,>=1.6.3->tensorboard<2.16,>=2.15->tensorflow==2.15.0) (0.6.1)\n",
      "Requirement already satisfied: oauthlib>=3.0.0 in /usr/local/lib/python3.10/dist-packages (from requests-oauthlib>=0.7.0->google-auth-oauthlib<2,>=0.5->tensorboard<2.16,>=2.15->tensorflow==2.15.0) (3.2.2)\n",
      "Downloading tensorflow-2.15.0-cp310-cp310-manylinux_2_17_x86_64.manylinux2014_x86_64.whl (475.2 MB)\n",
      "\u001b[2K   \u001b[90m━━━━━━━━━━━━━━━━━━━━━━━━━━━━━━━━━━━━━━━━\u001b[0m \u001b[32m475.2/475.2 MB\u001b[0m \u001b[31m2.9 MB/s\u001b[0m eta \u001b[36m0:00:00\u001b[0m\n",
      "\u001b[?25hDownloading keras-2.15.0-py3-none-any.whl (1.7 MB)\n",
      "\u001b[2K   \u001b[90m━━━━━━━━━━━━━━━━━━━━━━━━━━━━━━━━━━━━━━━━\u001b[0m \u001b[32m1.7/1.7 MB\u001b[0m \u001b[31m31.4 MB/s\u001b[0m eta \u001b[36m0:00:00\u001b[0m\n",
      "\u001b[?25hDownloading ml_dtypes-0.2.0-cp310-cp310-manylinux_2_17_x86_64.manylinux2014_x86_64.whl (1.0 MB)\n",
      "\u001b[2K   \u001b[90m━━━━━━━━━━━━━━━━━━━━━━━━━━━━━━━━━━━━━━━━\u001b[0m \u001b[32m1.0/1.0 MB\u001b[0m \u001b[31m12.9 MB/s\u001b[0m eta \u001b[36m0:00:00\u001b[0m\n",
      "\u001b[?25hDownloading tensorboard-2.15.2-py3-none-any.whl (5.5 MB)\n",
      "\u001b[2K   \u001b[90m━━━━━━━━━━━━━━━━━━━━━━━━━━━━━━━━━━━━━━━━\u001b[0m \u001b[32m5.5/5.5 MB\u001b[0m \u001b[31m40.1 MB/s\u001b[0m eta \u001b[36m0:00:00\u001b[0m\n",
      "\u001b[?25hDownloading tensorflow_estimator-2.15.0-py2.py3-none-any.whl (441 kB)\n",
      "\u001b[2K   \u001b[90m━━━━━━━━━━━━━━━━━━━━━━━━━━━━━━━━━━━━━━━━\u001b[0m \u001b[32m442.0/442.0 kB\u001b[0m \u001b[31m21.8 MB/s\u001b[0m eta \u001b[36m0:00:00\u001b[0m\n",
      "\u001b[?25hDownloading wrapt-1.14.1-cp310-cp310-manylinux_2_5_x86_64.manylinux1_x86_64.manylinux_2_17_x86_64.manylinux2014_x86_64.whl (77 kB)\n",
      "\u001b[2K   \u001b[90m━━━━━━━━━━━━━━━━━━━━━━━━━━━━━━━━━━━━━━━━\u001b[0m \u001b[32m77.9/77.9 kB\u001b[0m \u001b[31m4.9 MB/s\u001b[0m eta \u001b[36m0:00:00\u001b[0m\n",
      "\u001b[?25hInstalling collected packages: wrapt, tensorflow-estimator, ml-dtypes, keras, tensorboard, tensorflow\n",
      "  Attempting uninstall: wrapt\n",
      "    Found existing installation: wrapt 1.16.0\n",
      "    Uninstalling wrapt-1.16.0:\n",
      "      Successfully uninstalled wrapt-1.16.0\n",
      "  Attempting uninstall: ml-dtypes\n",
      "    Found existing installation: ml-dtypes 0.4.1\n",
      "    Uninstalling ml-dtypes-0.4.1:\n",
      "      Successfully uninstalled ml-dtypes-0.4.1\n",
      "  Attempting uninstall: keras\n",
      "    Found existing installation: keras 3.4.1\n",
      "    Uninstalling keras-3.4.1:\n",
      "      Successfully uninstalled keras-3.4.1\n",
      "  Attempting uninstall: tensorboard\n",
      "    Found existing installation: tensorboard 2.17.0\n",
      "    Uninstalling tensorboard-2.17.0:\n",
      "      Successfully uninstalled tensorboard-2.17.0\n",
      "  Attempting uninstall: tensorflow\n",
      "    Found existing installation: tensorflow 2.17.0\n",
      "    Uninstalling tensorflow-2.17.0:\n",
      "      Successfully uninstalled tensorflow-2.17.0\n",
      "\u001b[31mERROR: pip's dependency resolver does not currently take into account all the packages that are installed. This behaviour is the source of the following dependency conflicts.\n",
      "tensorstore 0.1.66 requires ml-dtypes>=0.3.1, but you have ml-dtypes 0.2.0 which is incompatible.\n",
      "tf-keras 2.17.0 requires tensorflow<2.18,>=2.17, but you have tensorflow 2.15.0 which is incompatible.\u001b[0m\u001b[31m\n",
      "\u001b[0mSuccessfully installed keras-2.15.0 ml-dtypes-0.2.0 tensorboard-2.15.2 tensorflow-2.15.0 tensorflow-estimator-2.15.0 wrapt-1.14.1\n"
     ]
    }
   ],
   "source": [
    "#!pip install tensorflow==2.15.0\n",
    "import os\n",
    "import subprocess\n",
    "import tensorflow as tf\n",
    "import keras\n",
    "from keras import datasets, layers, models, losses\n",
    "import numpy as np"
   ]
  },
  {
   "cell_type": "markdown",
   "metadata": {
    "id": "MtJz7wpnMvIn"
   },
   "source": [
    "# Helpers"
   ]
  },
  {
   "cell_type": "code",
   "execution_count": null,
   "metadata": {
    "id": "ZVCidP2XM5Ou"
   },
   "outputs": [],
   "source": [
    "def get_file_size(file_path):\n",
    "    size = os.path.getsize(file_path)\n",
    "    return size"
   ]
  },
  {
   "cell_type": "code",
   "execution_count": null,
   "metadata": {
    "id": "uv81eDa2M-1x"
   },
   "outputs": [],
   "source": [
    "def convert_bytes(size, unit=None):\n",
    "    if unit == \"KB\":\n",
    "        return print('File size: ' + str(round(size / 1024, 3)) + ' Kilobytes')\n",
    "    elif unit == \"MB\":\n",
    "        return print('File size: ' + str(round(size / (1024 * 1024), 3)) + ' Megabytes')\n",
    "    else:\n",
    "        return print('File size: ' + str(size) + ' bytes')"
   ]
  },
  {
   "cell_type": "markdown",
   "metadata": {
    "id": "rzND315giZMJ"
   },
   "source": [
    "# Model"
   ]
  },
  {
   "cell_type": "markdown",
   "metadata": {
    "id": "OnD3f0ad-yRi"
   },
   "source": [
    "\n",
    "Define the keras model for Lenet5"
   ]
  },
  {
   "cell_type": "code",
   "execution_count": null,
   "metadata": {
    "id": "JleDRgO2ia_o"
   },
   "outputs": [],
   "source": [
    "import os\n",
    "import subprocess\n",
    "import tensorflow as tf\n",
    "import keras\n",
    "from keras import datasets, layers, models, losses\n",
    "import numpy as np\n",
    "@keras.saving.register_keras_serializable(package=\"Lenet\", name=\"Lenet\")\n",
    "class Lenet(tf.keras.Model):\n",
    "  def __init__(self, **kwargs):\n",
    "    super().__init__(**kwargs)\n",
    "    self.conv1 = self._make_conv_layer(6, 5, input_shape=[32, 32, 1])\n",
    "    self.conv2 = self._make_conv_layer(16, 5)\n",
    "    self.conv3 = self._make_conv_layer(120, 5, pooling=False, flatten=True)\n",
    "    self.dense1 = layers.Dense(84, activation='tanh')\n",
    "    self.dense2 = layers.Dense(10, activation='softmax')\n",
    "\n",
    "  def call(self, inputs, dense_inputs=tf.zeros((1,120))):\n",
    "    x = self.conv1(inputs)\n",
    "    x = self.conv2(x)\n",
    "    conv_res = self.conv3(x)\n",
    "    dense_out = self.dense2(self.dense1(dense_inputs))\n",
    "    dense1 = self.dense1(conv_res)\n",
    "    out = self.dense2(dense1)\n",
    "    return {'out': out, 'out_dense': dense_out}\n",
    "\n",
    "  def _make_conv_layer(self, filters, kernel_size, input_shape=None, pooling=True, flatten=False):\n",
    "    l = keras.Sequential()\n",
    "    if input_shape is not None:\n",
    "      l.add(layers.Conv2D(filters, kernel_size, activation='tanh', input_shape=input_shape))\n",
    "    else:\n",
    "      l.add(layers.Conv2D(filters, kernel_size, activation='tanh'))\n",
    "    if pooling:\n",
    "      l.add(layers.AveragePooling2D(2))\n",
    "      l.add(layers.Activation('sigmoid'))\n",
    "    if flatten:\n",
    "      l.add(layers.Flatten())\n",
    "    return l\n",
    "\n",
    "  def get_config(self):\n",
    "    config = super().get_config()\n",
    "    config.update({\n",
    "        \"conv1\": keras.saving.serialize_keras_object(self.conv1),\n",
    "        \"conv2\": keras.saving.serialize_keras_object(self.conv2),\n",
    "        \"conv3\": keras.saving.serialize_keras_object(self.conv3),\n",
    "        \"dense1\": keras.saving.serialize_keras_object(self.dense1),\n",
    "        \"dense2\": keras.saving.serialize_keras_object(self.dense2)\n",
    "    })\n",
    "    return config\n",
    "\n"
   ]
  },
  {
   "cell_type": "code",
   "execution_count": null,
   "metadata": {
    "id": "TrmbyO5C_Xg-"
   },
   "outputs": [],
   "source": []
  },
  {
   "cell_type": "markdown",
   "metadata": {
    "id": "iKfi63YYk-Md"
   },
   "source": [
    "# Data"
   ]
  },
  {
   "cell_type": "markdown",
   "metadata": {
    "id": "R0Sjt8_j-8N9"
   },
   "source": [
    "## Preprocessing\n",
    "\n",
    "Build the dataset. Images need to be in floating point format, so the values are divided by 255. They are also padded so that height and width are a power of 2."
   ]
  },
  {
   "cell_type": "code",
   "execution_count": null,
   "metadata": {
    "colab": {
     "base_uri": "https://localhost:8080/",
     "height": 487
    },
    "id": "AaU3KF9fk_2F",
    "outputId": "b3381e29-2c13-4335-d2b6-10bb8b3976e2"
   },
   "outputs": [
    {
     "name": "stdout",
     "output_type": "stream",
     "text": [
      "Downloading data from https://storage.googleapis.com/tensorflow/tf-keras-datasets/mnist.npz\n",
      "11490434/11490434 [==============================] - 2s 0us/step\n"
     ]
    },
    {
     "data": {
      "image/png": "[encoded data removed]",
      "text/plain": [
       "<Figure size 640x480 with 1 Axes>"
      ]
     },
     "metadata": {},
     "output_type": "display_data"
    }
   ],
   "source": [
    "(x_train, y_train), (x_test, y_test) = datasets.mnist.load_data()\n",
    "x_train = tf.pad(x_train, [[0, 0], [2, 2], [2, 2]]) / 255\n",
    "x_test = tf.pad(x_test, [[0, 0], [2, 2], [2, 2]]) / 255\n",
    "x_train = tf.expand_dims(x_train, axis=3, name=None)\n",
    "x_test = tf.expand_dims(x_test, axis=3, name=None)\n",
    "\n",
    "import matplotlib.pyplot as plt\n",
    "\n",
    "# Print the first 10 images\n",
    "for i in range(1):\n",
    "    plt.imshow(x_train[i], cmap='gray')\n",
    "    plt.title(y_train[i])\n",
    "    plt.show()\n",
    "\n",
    "# Select an image\n",
    "image = x_train[0]\n",
    "\n",
    "# Convert the image to bytes\n",
    "image_bytes = bytes(image)\n",
    "\n",
    "# Convert the bytes to hex\n",
    "image_hex = ' '.join(format(byte, '02x') for byte in image_bytes)\n",
    "\n",
    "#print(image_hex)\n",
    "with open('image_grey.hex', 'w') as f:\n",
    "    f.write(image_hex)"
   ]
  },
  {
   "cell_type": "markdown",
   "metadata": {
    "id": "CQ9BgcHb_Qnk"
   },
   "source": [
    "Take some images for the validation set"
   ]
  },
  {
   "cell_type": "code",
   "execution_count": null,
   "metadata": {
    "id": "SlOt523xlnfQ"
   },
   "outputs": [],
   "source": [
    "x_val = x_train[-2000:,:,:,:]\n",
    "y_val = y_train[-2000:]\n",
    "x_train = x_train[:-2000,:,:,:]\n",
    "y_train = y_train[:-2000]"
   ]
  },
  {
   "cell_type": "markdown",
   "metadata": {
    "id": "oQJnxR1A_YDD"
   },
   "source": [
    "## Build"
   ]
  },
  {
   "cell_type": "code",
   "execution_count": null,
   "metadata": {
    "colab": {
     "base_uri": "https://localhost:8080/"
    },
    "id": "AFUpaCFdlqne",
    "outputId": "86e7b138-10a6-4d90-b50a-b7e76ad65a2e"
   },
   "outputs": [
    {
     "name": "stdout",
     "output_type": "stream",
     "text": [
      "Model: \"lenet\"\n",
      "_________________________________________________________________\n",
      " Layer (type)                Output Shape              Param #   \n",
      "=================================================================\n",
      " sequential (Sequential)     (None, 14, 14, 6)         156       \n",
      "                                                                 \n",
      " sequential_1 (Sequential)   (1, 5, 5, 16)             2416      \n",
      "                                                                 \n",
      " sequential_2 (Sequential)   (1, 120)                  48120     \n",
      "                                                                 \n",
      " dense (Dense)               multiple                  10164     \n",
      "                                                                 \n",
      " dense_1 (Dense)             multiple                  850       \n",
      "                                                                 \n",
      "=================================================================\n",
      "Total params: 61706 (241.04 KB)\n",
      "Trainable params: 61706 (241.04 KB)\n",
      "Non-trainable params: 0 (0.00 Byte)\n",
      "_________________________________________________________________\n"
     ]
    }
   ],
   "source": [
    "model = Lenet()\n",
    "model(x_train[0][None,:,:,:], tf.ones((1,120)))\n",
    "model.summary()"
   ]
  },
  {
   "cell_type": "markdown",
   "metadata": {
    "id": "G_HSsyyVO9ps"
   },
   "source": [
    "## Train"
   ]
  },
  {
   "cell_type": "code",
   "execution_count": null,
   "metadata": {
    "colab": {
     "base_uri": "https://localhost:8080/"
    },
    "id": "2HvqmggMoHKN",
    "outputId": "0ad81109-1e9b-419b-ce9d-a167b6d693b8"
   },
   "outputs": [
    {
     "name": "stdout",
     "output_type": "stream",
     "text": [
      "Epoch 1/5\n",
      "454/454 [==============================] - 7s 5ms/step - loss: 1.9327 - accuracy: 0.2848 - val_loss: 0.5252 - val_accuracy: 0.8705\n",
      "Epoch 2/5\n",
      "454/454 [==============================] - 2s 4ms/step - loss: 0.4610 - accuracy: 0.8572 - val_loss: 0.2364 - val_accuracy: 0.9335\n",
      "Epoch 3/5\n",
      "454/454 [==============================] - 2s 5ms/step - loss: 0.3208 - accuracy: 0.8997 - val_loss: 0.1986 - val_accuracy: 0.9420\n",
      "Epoch 4/5\n",
      "454/454 [==============================] - 2s 4ms/step - loss: 0.2651 - accuracy: 0.9167 - val_loss: 0.2093 - val_accuracy: 0.9360\n",
      "Epoch 5/5\n",
      "454/454 [==============================] - 2s 5ms/step - loss: 0.2337 - accuracy: 0.9274 - val_loss: 0.1476 - val_accuracy: 0.9600\n"
     ]
    }
   ],
   "source": [
    "EPOCHS = 5\n",
    "BATCH_SIZE = 128\n",
    "\n",
    "model.compile(optimizer='adam', loss=losses.sparse_categorical_crossentropy, metrics=['accuracy'])\n",
    "history = model.fit(x_train, y_train, batch_size=BATCH_SIZE, epochs=EPOCHS, validation_data=(x_val, y_val))\n",
    "model.save('lenet5.keras')"
   ]
  },
  {
   "cell_type": "markdown",
   "metadata": {
    "id": "hRt8m7PhPSam"
   },
   "source": [
    "Get dimension of .keras trained model"
   ]
  },
  {
   "cell_type": "code",
   "execution_count": null,
   "metadata": {
    "colab": {
     "base_uri": "https://localhost:8080/"
    },
    "id": "tvNgMfWsPDKG",
    "outputId": "25756061-6c3e-45d4-db76-d28b0e3c5ca0"
   },
   "outputs": [
    {
     "name": "stdout",
     "output_type": "stream",
     "text": [
      "File size: 771.019 Kilobytes\n"
     ]
    }
   ],
   "source": [
    "convert_bytes(get_file_size(\"lenet5.keras\"), \"KB\")"
   ]
  },
  {
   "cell_type": "code",
   "execution_count": null,
   "metadata": {
    "colab": {
     "base_uri": "https://localhost:8080/"
    },
    "id": "Z-CPkIKl4dYx",
    "outputId": "f6240c78-074c-4cce-e2b7-86ae9548537c"
   },
   "outputs": [
    {
     "name": "stdout",
     "output_type": "stream",
     "text": [
      "1/1 [==============================] - 1s 808ms/step\n"
     ]
    },
    {
     "data": {
      "text/plain": [
       "{'out': array([[4.8833364e-04, 8.0063578e-04, 7.0460519e-04, 2.7555346e-01,\n",
       "         6.7719259e-07, 7.1977901e-01, 9.9687782e-08, 1.1022899e-03,\n",
       "         1.2780941e-03, 2.9276474e-04]], dtype=float32),\n",
       " 'out_dense': array([[0.09420101, 0.09051015, 0.11445776, 0.10434542, 0.09869833,\n",
       "         0.11275383, 0.08072697, 0.09569866, 0.10742386, 0.10118403]],\n",
       "       dtype=float32)}"
      ]
     },
     "execution_count": 5,
     "metadata": {},
     "output_type": "execute_result"
    }
   ],
   "source": [
    "model.load_weights('lenet5.keras')\n",
    "model.predict(x_train[0][None,:,:,:])"
   ]
  },
  {
   "cell_type": "code",
   "execution_count": null,
   "metadata": {
    "colab": {
     "base_uri": "https://localhost:8080/",
     "height": 374
    },
    "id": "tL_wfaFeUkOf",
    "outputId": "5018e324-1cb9-4539-8a1d-e0670aa2447a"
   },
   "outputs": [
    {
     "name": "stderr",
     "output_type": "stream",
     "text": [
      "WARNING:absl:Please consider providing the trackable_obj argument in the from_concrete_functions. Providing without the trackable_obj argument is deprecated and it will use the deprecated conversion path.\n"
     ]
    },
    {
     "ename": "ValueError",
     "evalue": "The inference_input_type and inference_output_type must be in ['tf.float32', 'tf.int8', 'tf.uint8'].",
     "output_type": "error",
     "traceback": [
      "\u001b[0;31m---------------------------------------------------------------------------\u001b[0m",
      "\u001b[0;31mValueError\u001b[0m                                Traceback (most recent call last)",
      "\u001b[0;32m<ipython-input-6-15b6f7a2fe15>\u001b[0m in \u001b[0;36m<cell line: 55>\u001b[0;34m()\u001b[0m\n\u001b[1;32m     62\u001b[0m   \u001b[0mconverter\u001b[0m\u001b[0;34m.\u001b[0m\u001b[0minference_output_type\u001b[0m \u001b[0;34m=\u001b[0m \u001b[0mtf\u001b[0m\u001b[0;34m.\u001b[0m\u001b[0mint8\u001b[0m\u001b[0;34m\u001b[0m\u001b[0;34m\u001b[0m\u001b[0m\n\u001b[1;32m     63\u001b[0m \u001b[0;34m\u001b[0m\u001b[0m\n\u001b[0;32m---> 64\u001b[0;31m   \u001b[0mtflite_quant_model\u001b[0m \u001b[0;34m=\u001b[0m \u001b[0mconverter\u001b[0m\u001b[0;34m.\u001b[0m\u001b[0mconvert\u001b[0m\u001b[0;34m(\u001b[0m\u001b[0;34m)\u001b[0m\u001b[0;34m\u001b[0m\u001b[0;34m\u001b[0m\u001b[0m\n\u001b[0m\u001b[1;32m     65\u001b[0m \u001b[0;34m\u001b[0m\u001b[0m\n\u001b[1;32m     66\u001b[0m   \u001b[0;32mwith\u001b[0m \u001b[0mopen\u001b[0m\u001b[0;34m(\u001b[0m\u001b[0;34mf'{layer_name}.tflite'\u001b[0m\u001b[0;34m,\u001b[0m \u001b[0;34m'wb'\u001b[0m\u001b[0;34m)\u001b[0m \u001b[0;32mas\u001b[0m \u001b[0mf\u001b[0m\u001b[0;34m:\u001b[0m\u001b[0;34m\u001b[0m\u001b[0;34m\u001b[0m\u001b[0m\n",
      "\u001b[0;32m/usr/local/lib/python3.10/dist-packages/tensorflow/lite/python/lite.py\u001b[0m in \u001b[0;36mconvert\u001b[0;34m(self)\u001b[0m\n\u001b[1;32m   2183\u001b[0m         \u001b[0mInvalid\u001b[0m \u001b[0mquantization\u001b[0m \u001b[0mparameters\u001b[0m\u001b[0;34m.\u001b[0m\u001b[0;34m\u001b[0m\u001b[0;34m\u001b[0m\u001b[0m\n\u001b[1;32m   2184\u001b[0m     \"\"\"\n\u001b[0;32m-> 2185\u001b[0;31m     \u001b[0;32mreturn\u001b[0m \u001b[0msuper\u001b[0m\u001b[0;34m(\u001b[0m\u001b[0mTFLiteConverterV2\u001b[0m\u001b[0;34m,\u001b[0m \u001b[0mself\u001b[0m\u001b[0;34m)\u001b[0m\u001b[0;34m.\u001b[0m\u001b[0mconvert\u001b[0m\u001b[0;34m(\u001b[0m\u001b[0;34m)\u001b[0m\u001b[0;34m\u001b[0m\u001b[0;34m\u001b[0m\u001b[0m\n\u001b[0m\u001b[1;32m   2186\u001b[0m \u001b[0;34m\u001b[0m\u001b[0m\n\u001b[1;32m   2187\u001b[0m \u001b[0;34m\u001b[0m\u001b[0m\n",
      "\u001b[0;32m/usr/local/lib/python3.10/dist-packages/tensorflow/lite/python/lite.py\u001b[0m in \u001b[0;36mwrapper\u001b[0;34m(self, *args, **kwargs)\u001b[0m\n\u001b[1;32m   1137\u001b[0m   \u001b[0;32mdef\u001b[0m \u001b[0mwrapper\u001b[0m\u001b[0;34m(\u001b[0m\u001b[0mself\u001b[0m\u001b[0;34m,\u001b[0m \u001b[0;34m*\u001b[0m\u001b[0margs\u001b[0m\u001b[0;34m,\u001b[0m \u001b[0;34m**\u001b[0m\u001b[0mkwargs\u001b[0m\u001b[0;34m)\u001b[0m\u001b[0;34m:\u001b[0m\u001b[0;34m\u001b[0m\u001b[0;34m\u001b[0m\u001b[0m\n\u001b[1;32m   1138\u001b[0m     \u001b[0;31m# pylint: disable=protected-access\u001b[0m\u001b[0;34m\u001b[0m\u001b[0;34m\u001b[0m\u001b[0m\n\u001b[0;32m-> 1139\u001b[0;31m     \u001b[0;32mreturn\u001b[0m \u001b[0mself\u001b[0m\u001b[0;34m.\u001b[0m\u001b[0m_convert_and_export_metrics\u001b[0m\u001b[0;34m(\u001b[0m\u001b[0mconvert_func\u001b[0m\u001b[0;34m,\u001b[0m \u001b[0;34m*\u001b[0m\u001b[0margs\u001b[0m\u001b[0;34m,\u001b[0m \u001b[0;34m**\u001b[0m\u001b[0mkwargs\u001b[0m\u001b[0;34m)\u001b[0m\u001b[0;34m\u001b[0m\u001b[0;34m\u001b[0m\u001b[0m\n\u001b[0m\u001b[1;32m   1140\u001b[0m     \u001b[0;31m# pylint: enable=protected-access\u001b[0m\u001b[0;34m\u001b[0m\u001b[0;34m\u001b[0m\u001b[0m\n\u001b[1;32m   1141\u001b[0m \u001b[0;34m\u001b[0m\u001b[0m\n",
      "\u001b[0;32m/usr/local/lib/python3.10/dist-packages/tensorflow/lite/python/lite.py\u001b[0m in \u001b[0;36m_convert_and_export_metrics\u001b[0;34m(self, convert_func, *args, **kwargs)\u001b[0m\n\u001b[1;32m   1091\u001b[0m     \u001b[0mself\u001b[0m\u001b[0;34m.\u001b[0m\u001b[0m_save_conversion_params_metric\u001b[0m\u001b[0;34m(\u001b[0m\u001b[0;34m)\u001b[0m\u001b[0;34m\u001b[0m\u001b[0;34m\u001b[0m\u001b[0m\n\u001b[1;32m   1092\u001b[0m     \u001b[0mstart_time\u001b[0m \u001b[0;34m=\u001b[0m \u001b[0mtime\u001b[0m\u001b[0;34m.\u001b[0m\u001b[0mprocess_time\u001b[0m\u001b[0;34m(\u001b[0m\u001b[0;34m)\u001b[0m\u001b[0;34m\u001b[0m\u001b[0;34m\u001b[0m\u001b[0m\n\u001b[0;32m-> 1093\u001b[0;31m     \u001b[0mresult\u001b[0m \u001b[0;34m=\u001b[0m \u001b[0mconvert_func\u001b[0m\u001b[0;34m(\u001b[0m\u001b[0mself\u001b[0m\u001b[0;34m,\u001b[0m \u001b[0;34m*\u001b[0m\u001b[0margs\u001b[0m\u001b[0;34m,\u001b[0m \u001b[0;34m**\u001b[0m\u001b[0mkwargs\u001b[0m\u001b[0;34m)\u001b[0m\u001b[0;34m\u001b[0m\u001b[0;34m\u001b[0m\u001b[0m\n\u001b[0m\u001b[1;32m   1094\u001b[0m     \u001b[0melapsed_time_ms\u001b[0m \u001b[0;34m=\u001b[0m \u001b[0;34m(\u001b[0m\u001b[0mtime\u001b[0m\u001b[0;34m.\u001b[0m\u001b[0mprocess_time\u001b[0m\u001b[0;34m(\u001b[0m\u001b[0;34m)\u001b[0m \u001b[0;34m-\u001b[0m \u001b[0mstart_time\u001b[0m\u001b[0;34m)\u001b[0m \u001b[0;34m*\u001b[0m \u001b[0;36m1000\u001b[0m\u001b[0;34m\u001b[0m\u001b[0;34m\u001b[0m\u001b[0m\n\u001b[1;32m   1095\u001b[0m     \u001b[0;32mif\u001b[0m \u001b[0mresult\u001b[0m\u001b[0;34m:\u001b[0m\u001b[0;34m\u001b[0m\u001b[0;34m\u001b[0m\u001b[0m\n",
      "\u001b[0;32m/usr/local/lib/python3.10/dist-packages/tensorflow/lite/python/lite.py\u001b[0m in \u001b[0;36mconvert\u001b[0;34m(self)\u001b[0m\n\u001b[1;32m   1790\u001b[0m     )\n\u001b[1;32m   1791\u001b[0m \u001b[0;34m\u001b[0m\u001b[0m\n\u001b[0;32m-> 1792\u001b[0;31m     return super(TFLiteFrozenGraphConverterV2, self).convert(\n\u001b[0m\u001b[1;32m   1793\u001b[0m         \u001b[0mgraph_def\u001b[0m\u001b[0;34m,\u001b[0m \u001b[0minput_tensors\u001b[0m\u001b[0;34m,\u001b[0m \u001b[0moutput_tensors\u001b[0m\u001b[0;34m\u001b[0m\u001b[0;34m\u001b[0m\u001b[0m\n\u001b[1;32m   1794\u001b[0m     )\n",
      "\u001b[0;32m/usr/local/lib/python3.10/dist-packages/tensorflow/lite/python/lite.py\u001b[0m in \u001b[0;36mconvert\u001b[0;34m(self, graph_def, input_tensors, output_tensors)\u001b[0m\n\u001b[1;32m   1352\u001b[0m         \u001b[0mInvalid\u001b[0m \u001b[0mquantization\u001b[0m \u001b[0mparameters\u001b[0m\u001b[0;34m.\u001b[0m\u001b[0;34m\u001b[0m\u001b[0;34m\u001b[0m\u001b[0m\n\u001b[1;32m   1353\u001b[0m     \"\"\"\n\u001b[0;32m-> 1354\u001b[0;31m     \u001b[0mself\u001b[0m\u001b[0;34m.\u001b[0m\u001b[0m_validate_inputs\u001b[0m\u001b[0;34m(\u001b[0m\u001b[0mgraph_def\u001b[0m\u001b[0;34m,\u001b[0m \u001b[0minput_tensors\u001b[0m\u001b[0;34m)\u001b[0m\u001b[0;34m\u001b[0m\u001b[0;34m\u001b[0m\u001b[0m\n\u001b[0m\u001b[1;32m   1355\u001b[0m     \u001b[0mconverter_kwargs\u001b[0m \u001b[0;34m=\u001b[0m \u001b[0mself\u001b[0m\u001b[0;34m.\u001b[0m\u001b[0m_get_base_converter_args\u001b[0m\u001b[0;34m(\u001b[0m\u001b[0;34m)\u001b[0m\u001b[0;34m\u001b[0m\u001b[0;34m\u001b[0m\u001b[0m\n\u001b[1;32m   1356\u001b[0m     \u001b[0mconverter_kwargs\u001b[0m\u001b[0;34m.\u001b[0m\u001b[0mupdate\u001b[0m\u001b[0;34m(\u001b[0m\u001b[0mself\u001b[0m\u001b[0;34m.\u001b[0m\u001b[0m_quant_mode\u001b[0m\u001b[0;34m.\u001b[0m\u001b[0mconverter_flags\u001b[0m\u001b[0;34m(\u001b[0m\u001b[0;34m)\u001b[0m\u001b[0;34m)\u001b[0m\u001b[0;34m\u001b[0m\u001b[0;34m\u001b[0m\u001b[0m\n",
      "\u001b[0;32m/usr/local/lib/python3.10/dist-packages/tensorflow/lite/python/convert_phase.py\u001b[0m in \u001b[0;36mwrapper\u001b[0;34m(*args, **kwargs)\u001b[0m\n\u001b[1;32m    213\u001b[0m       \u001b[0;32mexcept\u001b[0m \u001b[0mException\u001b[0m \u001b[0;32mas\u001b[0m \u001b[0merror\u001b[0m\u001b[0;34m:\u001b[0m\u001b[0;34m\u001b[0m\u001b[0;34m\u001b[0m\u001b[0m\n\u001b[1;32m    214\u001b[0m         \u001b[0mreport_error_message\u001b[0m\u001b[0;34m(\u001b[0m\u001b[0mstr\u001b[0m\u001b[0;34m(\u001b[0m\u001b[0merror\u001b[0m\u001b[0;34m)\u001b[0m\u001b[0;34m)\u001b[0m\u001b[0;34m\u001b[0m\u001b[0;34m\u001b[0m\u001b[0m\n\u001b[0;32m--> 215\u001b[0;31m         \u001b[0;32mraise\u001b[0m \u001b[0merror\u001b[0m \u001b[0;32mfrom\u001b[0m \u001b[0;32mNone\u001b[0m  \u001b[0;31m# Re-throws the exception.\u001b[0m\u001b[0;34m\u001b[0m\u001b[0;34m\u001b[0m\u001b[0m\n\u001b[0m\u001b[1;32m    216\u001b[0m \u001b[0;34m\u001b[0m\u001b[0m\n\u001b[1;32m    217\u001b[0m     \u001b[0;32mreturn\u001b[0m \u001b[0mwrapper\u001b[0m\u001b[0;34m\u001b[0m\u001b[0;34m\u001b[0m\u001b[0m\n",
      "\u001b[0;32m/usr/local/lib/python3.10/dist-packages/tensorflow/lite/python/convert_phase.py\u001b[0m in \u001b[0;36mwrapper\u001b[0;34m(*args, **kwargs)\u001b[0m\n\u001b[1;32m    203\u001b[0m     \u001b[0;32mdef\u001b[0m \u001b[0mwrapper\u001b[0m\u001b[0;34m(\u001b[0m\u001b[0;34m*\u001b[0m\u001b[0margs\u001b[0m\u001b[0;34m,\u001b[0m \u001b[0;34m**\u001b[0m\u001b[0mkwargs\u001b[0m\u001b[0;34m)\u001b[0m\u001b[0;34m:\u001b[0m\u001b[0;34m\u001b[0m\u001b[0;34m\u001b[0m\u001b[0m\n\u001b[1;32m    204\u001b[0m       \u001b[0;32mtry\u001b[0m\u001b[0;34m:\u001b[0m\u001b[0;34m\u001b[0m\u001b[0;34m\u001b[0m\u001b[0m\n\u001b[0;32m--> 205\u001b[0;31m         \u001b[0;32mreturn\u001b[0m \u001b[0mfunc\u001b[0m\u001b[0;34m(\u001b[0m\u001b[0;34m*\u001b[0m\u001b[0margs\u001b[0m\u001b[0;34m,\u001b[0m \u001b[0;34m**\u001b[0m\u001b[0mkwargs\u001b[0m\u001b[0;34m)\u001b[0m\u001b[0;34m\u001b[0m\u001b[0;34m\u001b[0m\u001b[0m\n\u001b[0m\u001b[1;32m    206\u001b[0m       \u001b[0;32mexcept\u001b[0m \u001b[0mConverterError\u001b[0m \u001b[0;32mas\u001b[0m \u001b[0mconverter_error\u001b[0m\u001b[0;34m:\u001b[0m\u001b[0;34m\u001b[0m\u001b[0;34m\u001b[0m\u001b[0m\n\u001b[1;32m    207\u001b[0m         \u001b[0;32mif\u001b[0m \u001b[0mconverter_error\u001b[0m\u001b[0;34m.\u001b[0m\u001b[0merrors\u001b[0m\u001b[0;34m:\u001b[0m\u001b[0;34m\u001b[0m\u001b[0;34m\u001b[0m\u001b[0m\n",
      "\u001b[0;32m/usr/local/lib/python3.10/dist-packages/tensorflow/lite/python/lite.py\u001b[0m in \u001b[0;36m_validate_inputs\u001b[0;34m(self, graph_def, input_tensors)\u001b[0m\n\u001b[1;32m   1236\u001b[0m         \u001b[0mself\u001b[0m\u001b[0;34m.\u001b[0m\u001b[0m_experimental_variable_quantization\u001b[0m\u001b[0;34m,\u001b[0m\u001b[0;34m\u001b[0m\u001b[0;34m\u001b[0m\u001b[0m\n\u001b[1;32m   1237\u001b[0m     )\n\u001b[0;32m-> 1238\u001b[0;31m     \u001b[0mself\u001b[0m\u001b[0;34m.\u001b[0m\u001b[0m_validate_inference_input_output_types\u001b[0m\u001b[0;34m(\u001b[0m\u001b[0mself\u001b[0m\u001b[0;34m.\u001b[0m\u001b[0m_quant_mode\u001b[0m\u001b[0;34m)\u001b[0m\u001b[0;34m\u001b[0m\u001b[0;34m\u001b[0m\u001b[0m\n\u001b[0m\u001b[1;32m   1239\u001b[0m \u001b[0;34m\u001b[0m\u001b[0m\n\u001b[1;32m   1240\u001b[0m     \u001b[0;32mif\u001b[0m \u001b[0;32mnot\u001b[0m \u001b[0mself\u001b[0m\u001b[0;34m.\u001b[0m\u001b[0m_is_unknown_shapes_allowed\u001b[0m\u001b[0;34m(\u001b[0m\u001b[0;34m)\u001b[0m\u001b[0;34m:\u001b[0m\u001b[0;34m\u001b[0m\u001b[0;34m\u001b[0m\u001b[0m\n",
      "\u001b[0;32m/usr/local/lib/python3.10/dist-packages/tensorflow/lite/python/lite.py\u001b[0m in \u001b[0;36m_validate_inference_input_output_types\u001b[0;34m(self, quant_mode)\u001b[0m\n\u001b[1;32m   1167\u001b[0m       ):\n\u001b[1;32m   1168\u001b[0m         \u001b[0mall_types_names\u001b[0m \u001b[0;34m=\u001b[0m \u001b[0;34m[\u001b[0m\u001b[0;34m\"tf.\"\u001b[0m \u001b[0;34m+\u001b[0m \u001b[0mt\u001b[0m\u001b[0;34m.\u001b[0m\u001b[0mname\u001b[0m \u001b[0;32mfor\u001b[0m \u001b[0mt\u001b[0m \u001b[0;32min\u001b[0m \u001b[0mall_types\u001b[0m\u001b[0;34m]\u001b[0m\u001b[0;34m\u001b[0m\u001b[0;34m\u001b[0m\u001b[0m\n\u001b[0;32m-> 1169\u001b[0;31m         raise ValueError(\n\u001b[0m\u001b[1;32m   1170\u001b[0m             \u001b[0;34m\"The inference_input_type and inference_output_type \"\u001b[0m\u001b[0;34m\u001b[0m\u001b[0;34m\u001b[0m\u001b[0m\n\u001b[1;32m   1171\u001b[0m             \u001b[0;34m\"must be in {}.\"\u001b[0m\u001b[0;34m.\u001b[0m\u001b[0mformat\u001b[0m\u001b[0;34m(\u001b[0m\u001b[0mall_types_names\u001b[0m\u001b[0;34m)\u001b[0m\u001b[0;34m\u001b[0m\u001b[0;34m\u001b[0m\u001b[0m\n",
      "\u001b[0;31mValueError\u001b[0m: The inference_input_type and inference_output_type must be in ['tf.float32', 'tf.int8', 'tf.uint8']."
     ]
    }
   ],
   "source": [
    "@tf.function(\n",
    "    input_signature=[tf.TensorSpec(shape=[1, 28, 28, 6], dtype=tf.float32)]\n",
    ")\n",
    "def activation_conv1(x):\n",
    "  out = tf.math.tanh(x)\n",
    "  out = tf.nn.avg_pool(out, ksize=2, strides=2, padding='VALID')\n",
    "  k = tf.math.sigmoid(out)\n",
    "  k = tf.nn.tanh(k)\n",
    "  return k\n",
    "\n",
    "@tf.function(\n",
    "    input_signature=[tf.TensorSpec(shape=[1, 10, 10, 16], dtype=tf.float32)]\n",
    ")\n",
    "def activation_conv2(x):\n",
    "  out = tf.math.tanh(x)\n",
    "  out = tf.nn.avg_pool(out, ksize=2, strides=2, padding='VALID')\n",
    "  k = tf.math.sigmoid(out)\n",
    "  k = tf.nn.tanh(k)\n",
    "  return k\n",
    "\n",
    "@tf.function(\n",
    "    input_signature=[tf.TensorSpec(shape=[1, 1, 1, 120], dtype=tf.float32)]\n",
    ")\n",
    "def activation_conv3(x):\n",
    "  out = tf.math.tanh(x)\n",
    "  k = tf.nn.tanh(out)\n",
    "  return k\n",
    "\n",
    "@tf.function(\n",
    "    input_signature=[tf.TensorSpec(shape=[1, 84], dtype=tf.float32)]\n",
    ")\n",
    "def activation_dense1(x):\n",
    "  out = tf.math.tanh(x)\n",
    "  return out\n",
    "\n",
    "@tf.function(\n",
    "    input_signature=[tf.TensorSpec(shape=[1, 10], dtype=tf.float32)]\n",
    ")\n",
    "def activation_dense2(x):\n",
    "  out = tf.nn.softmax(x)\n",
    "  return out\n",
    "\n",
    "def representative_dataset():\n",
    "  for data in tf.data.Dataset.from_tensor_slices((x_train)).batch(1).take(1000):\n",
    "    yield [data]\n",
    "\n",
    "activations = {\n",
    "    \"activation_conv1\": activation_conv1,\n",
    "    \"activation_conv2\": activation_conv2,\n",
    "    \"activation_conv3\": activation_conv3,\n",
    "    \"activation_dense1\": activation_dense1,\n",
    "    \"activation_dense2\": activation_dense2,\n",
    "}\n",
    "\n",
    "for layer_name, activation in activations.items():\n",
    "  converter = tf.lite.TFLiteConverter.from_concrete_functions([activation.get_concrete_function()])\n",
    "  converter.optimizations = [tf.lite.Optimize.DEFAULT] # Recommended optimization\n",
    "  converter.representative_dataset = representative_dataset\n",
    " # Specify that the quantized model should only support int8 operations\n",
    "  converter.target_spec.supported_ops = [tf.lite.OpsSet.TFLITE_BUILTINS_INT8]\n",
    "  converter.inference_input_type = tf.int32\n",
    "  converter.inference_output_type = tf.int8\n",
    "\n",
    "  tflite_quant_model = converter.convert()\n",
    "\n",
    "  with open(f'{layer_name}.tflite', 'wb') as f:\n",
    "    f.write(tflite_quant_model)"
   ]
  },
  {
   "cell_type": "code",
   "execution_count": null,
   "metadata": {
    "colab": {
     "base_uri": "https://localhost:8080/"
    },
    "id": "LHbj0UrLVM5g",
    "outputId": "a93c96fe-aacb-4fd9-eedc-bbafdcfef982"
   },
   "outputs": [
    {
     "name": "stdout",
     "output_type": "stream",
     "text": [
      "=== lenet5_edited.tflite ===\n",
      "\n",
      "Your TFLite model has '1' subgraph(s). In the subgraph description below,\n",
      "T# represents the Tensor numbers. For example, in Subgraph#0, the FULLY_CONNECTED op takes\n",
      "tensor #1 and tensor #14 and tensor #12 as input and produces tensor #15 as output.\n",
      "\n",
      "Subgraph#0 main(T#0, T#1) -> [T#33, T#18]\n",
      "  Op#0 FULLY_CONNECTED(T#1, T#14, T#12[-815, -67, -347, 943, -314, ...]) -> [T#15]\n",
      "  Op#1 TANH(T#15) -> [T#16]\n",
      "  Op#2 FULLY_CONNECTED(T#16, T#11, T#9[-79, -1298, 2288, -174, 493, ...]) -> [T#17]\n",
      "  Op#3 SOFTMAX(T#17) -> [T#18]\n",
      "  Op#4 CONV_2D(T#0, T#8, T#7[-28847, 16208, -15145, -21816, 15629, ...]) -> [T#19]\n",
      "  Op#5 TANH(T#19) -> [T#20]\n",
      "  Op#6 AVERAGE_POOL_2D(T#20) -> [T#21]\n",
      "  Op#7 LOGISTIC(T#21) -> [T#22]\n",
      "  Op#8 CONV_2D(T#22, T#6, T#5[271, 453, -12072, -13127, -44, ...]) -> [T#23]\n",
      "  Op#9 TANH(T#23) -> [T#24]\n",
      "  Op#10 AVERAGE_POOL_2D(T#24) -> [T#25]\n",
      "  Op#11 LOGISTIC(T#25) -> [T#26]\n",
      "  Op#12 CONV_2D(T#26, T#4, T#3[-103, -1609, -72, -528, -311, ...]) -> [T#27]\n",
      "  Op#13 TANH(T#27) -> [T#28]\n",
      "  Op#14 RESHAPE(T#28, T#2[-1, 120]) -> [T#29]\n",
      "  Op#15 FULLY_CONNECTED(T#29, T#14, T#13[-735, -60, -314, 851, -284, ...]) -> [T#30]\n",
      "  Op#16 TANH(T#30) -> [T#31]\n",
      "  Op#17 FULLY_CONNECTED(T#31, T#11, T#10[-79, -1298, 2288, -174, 493, ...]) -> [T#32]\n",
      "  Op#18 SOFTMAX(T#32) -> [T#33]\n",
      "\n",
      "Tensors of Subgraph#0\n",
      "  T#0(serving_default_args_0:0) shape_signature:[-1, 32, 32, 1], type:INT8\n",
      "  T#1(serving_default_args_1:0) shape_signature:[-1, 120], type:INT8\n",
      "  T#2(lenet_21/sequential_63/flatten_20/Const) shape:[2], type:INT32 RO 8 bytes, buffer: 3, data:[-1, 120]\n",
      "  T#3(lenet_21/sequential_63/conv2d_63/BiasAdd/ReadVariableOp) shape:[120], type:INT32 RO 480 bytes, buffer: 4, data:[-103, -1609, -72, -528, -311, ...]\n",
      "  T#4(lenet_21/sequential_63/conv2d_63/Conv2D) shape:[120, 5, 5, 16], type:INT8 RO 48000 bytes, buffer: 5, data:[., ., ., ., ., ...]\n",
      "  T#5(lenet_21/sequential_62/conv2d_62/BiasAdd/ReadVariableOp) shape:[16], type:INT32 RO 64 bytes, buffer: 6, data:[271, 453, -12072, -13127, -44, ...]\n",
      "  T#6(lenet_21/sequential_62/conv2d_62/Conv2D) shape:[16, 5, 5, 6], type:INT8 RO 2400 bytes, buffer: 7, data:[., \n",
      ", ., ., ., ...]\n",
      "  T#7(lenet_21/sequential_61/conv2d_61/BiasAdd/ReadVariableOp) shape:[6], type:INT32 RO 24 bytes, buffer: 8, data:[-28847, 16208, -15145, -21816, 15629, ...]\n",
      "  T#8(lenet_21/sequential_61/conv2d_61/Conv2D) shape:[6, 5, 5, 1], type:INT8 RO 150 bytes, buffer: 9, data:[., ., ., ., -, ...]\n",
      "  T#9(lenet_21/dense_41/BiasAdd/ReadVariableOp) shape:[10], type:INT32 RO 40 bytes, buffer: 10, data:[-79, -1298, 2288, -174, 493, ...]\n",
      "  T#10(lenet_21/dense_41/BiasAdd/ReadVariableOp1) shape:[10], type:INT32 RO 40 bytes, buffer: 10, data:[-79, -1298, 2288, -174, 493, ...]\n",
      "  T#11(lenet_21/dense_41/MatMul_1) shape:[10, 84], type:INT8 RO 840 bytes, buffer: 12, data:[3, ., ., ., ., ...]\n",
      "  T#12(lenet_21/dense_40/BiasAdd/ReadVariableOp) shape:[84], type:INT32 RO 336 bytes, buffer: 13, data:[-815, -67, -347, 943, -314, ...]\n",
      "  T#13(lenet_21/dense_40/BiasAdd/ReadVariableOp1) shape:[84], type:INT32 RO 336 bytes, buffer: 14, data:[-735, -60, -314, 851, -284, ...]\n",
      "  T#14(lenet_21/dense_40/MatMul_1) shape:[84, 120], type:INT8 RO 10080 bytes, buffer: 15, data:[\n",
      ", ., ., ., ., ...]\n",
      "  T#15(lenet_21/dense_40/MatMul;lenet_21/dense_40/BiasAdd) shape_signature:[-1, 84], type:INT8\n",
      "  T#16(lenet_21/dense_40/Tanh) shape_signature:[-1, 84], type:INT8\n",
      "  T#17(lenet_21/dense_41/MatMul;lenet_21/dense_41/BiasAdd) shape_signature:[-1, 10], type:INT8\n",
      "  T#18(StatefulPartitionedCall:1) shape_signature:[-1, 10], type:INT8\n",
      "  T#19(lenet_21/sequential_61/conv2d_61/BiasAdd;lenet_21/sequential_61/conv2d_61/Conv2D;lenet_21/sequential_61/conv2d_61/BiasAdd/ReadVariableOp) shape_signature:[-1, 28, 28, 6], type:INT8\n",
      "  T#20(lenet_21/sequential_61/conv2d_61/Tanh) shape_signature:[-1, 28, 28, 6], type:INT8\n",
      "  T#21(lenet_21/sequential_61/average_pooling2d_41/AvgPool) shape_signature:[-1, 14, 14, 6], type:INT8\n",
      "  T#22(lenet_21/sequential_61/activation_40/Sigmoid) shape_signature:[-1, 14, 14, 6], type:INT8\n",
      "  T#23(lenet_21/sequential_62/conv2d_62/BiasAdd;lenet_21/sequential_62/conv2d_62/Conv2D;lenet_21/sequential_62/conv2d_62/BiasAdd/ReadVariableOp) shape_signature:[-1, 10, 10, 16], type:INT8\n",
      "  T#24(lenet_21/sequential_62/conv2d_62/Tanh) shape_signature:[-1, 10, 10, 16], type:INT8\n",
      "  T#25(lenet_21/sequential_62/average_pooling2d_42/AvgPool) shape_signature:[-1, 5, 5, 16], type:INT8\n",
      "  T#26(lenet_21/sequential_62/activation_41/Sigmoid) shape_signature:[-1, 5, 5, 16], type:INT8\n",
      "  T#27(lenet_21/sequential_63/conv2d_63/BiasAdd;lenet_21/sequential_63/conv2d_63/Conv2D;lenet_21/sequential_63/conv2d_63/BiasAdd/ReadVariableOp) shape_signature:[-1, 1, 1, 120], type:INT8\n",
      "  T#28(lenet_21/sequential_63/conv2d_63/Tanh) shape_signature:[-1, 1, 1, 120], type:INT8\n",
      "  T#29(lenet_21/sequential_63/flatten_20/Reshape) shape_signature:[-1, 120], type:INT8\n",
      "  T#30(lenet_21/dense_40/MatMul_1;lenet_21/dense_40/BiasAdd_1) shape_signature:[-1, 84], type:INT8\n",
      "  T#31(lenet_21/dense_40/Tanh_1) shape_signature:[-1, 84], type:INT8\n",
      "  T#32(lenet_21/dense_41/MatMul_1;lenet_21/dense_41/BiasAdd_1) shape_signature:[-1, 10], type:INT8\n",
      "  T#33(StatefulPartitionedCall:0) shape_signature:[-1, 10], type:INT8\n",
      "\n",
      "---------------------------------------------------------------\n",
      "Your TFLite model has '1' signature_def(s).\n",
      "\n",
      "Signature#0 key: 'serving_default'\n",
      "- Subgraph: Subgraph#0\n",
      "- Inputs: \n",
      "    'args_0' : T#0\n",
      "    'args_1' : T#1\n",
      "- Outputs: \n",
      "    'out' : T#33\n",
      "    'out_dense' : T#18\n",
      "\n",
      "---------------------------------------------------------------\n",
      "              Model size:      73272 bytes\n",
      "    Non-data buffer size:      10410 bytes (14.21 %)\n",
      "  Total data buffer size:      62862 bytes (85.79 %)\n",
      "    (Zero value buffers):          0 bytes (00.00 %)\n",
      "\n",
      "* Buffers of TFLite model are mostly used for constant tensors.\n",
      "  And zero value buffers are buffers filled with zeros.\n",
      "  Non-data buffers area are used to store operators, subgraphs and etc.\n",
      "  You can find more details from https://github.com/tensorflow/tensorflow/blob/master/tensorflow/lite/schema/schema.fbs\n",
      "\n"
     ]
    },
    {
     "data": {
      "text/plain": [
       "{'name': 'lenet_21/sequential_61/activation_40/Sigmoid',\n",
       " 'index': 22,\n",
       " 'shape': array([ 1, 14, 14,  6], dtype=int32),\n",
       " 'shape_signature': array([-1, 14, 14,  6], dtype=int32),\n",
       " 'dtype': numpy.int8,\n",
       " 'quantization': (0.00390625, -128),\n",
       " 'quantization_parameters': {'scales': array([0.00390625], dtype=float32),\n",
       "  'zero_points': array([-128], dtype=int32),\n",
       "  'quantized_dimension': 0},\n",
       " 'sparsity_parameters': {}}"
      ]
     },
     "execution_count": 11,
     "metadata": {},
     "output_type": "execute_result"
    }
   ],
   "source": [
    "import tensorflow as tf\n",
    "tf.lite.experimental.Analyzer.analyze(model_path=\"lenet5_edited.tflite\")\n",
    "interpreter = tf.lite.Interpreter(model_path=\"lenet5_edited.tflite\")\n",
    "interpreter.allocate_tensors()\n",
    "# Get names of input and output\n",
    "interpreter.get_tensor_details()[22]"
   ]
  },
  {
   "cell_type": "markdown",
   "metadata": {
    "id": "sUhVTH0L_8qt"
   },
   "source": [
    "## Quantization"
   ]
  },
  {
   "cell_type": "code",
   "execution_count": null,
   "metadata": {
    "colab": {
     "base_uri": "https://localhost:8080/",
     "height": 391
    },
    "id": "XrHuyctGq_kE",
    "outputId": "42c54138-8798-41f2-ac11-5893cde1061f"
   },
   "outputs": [
    {
     "name": "stderr",
     "output_type": "stream",
     "text": [
      "/usr/local/lib/python3.10/dist-packages/tensorflow/lite/python/convert.py:953: UserWarning: Statistics for quantized inputs were expected, but not specified; continuing anyway.\n",
      "  warnings.warn(\n"
     ]
    },
    {
     "ename": "AttributeError",
     "evalue": "'Lenet' object has no attribute 'conv_out'",
     "output_type": "error",
     "traceback": [
      "\u001b[0;31m---------------------------------------------------------------------------\u001b[0m",
      "\u001b[0;31mAttributeError\u001b[0m                            Traceback (most recent call last)",
      "\u001b[0;32m<ipython-input-6-4806a5fca210>\u001b[0m in \u001b[0;36m<cell line: 56>\u001b[0;34m()\u001b[0m\n\u001b[1;32m     54\u001b[0m \u001b[0mconverter\u001b[0m\u001b[0;34m.\u001b[0m\u001b[0minference_output_type\u001b[0m \u001b[0;34m=\u001b[0m \u001b[0mtf\u001b[0m\u001b[0;34m.\u001b[0m\u001b[0mint8\u001b[0m\u001b[0;34m\u001b[0m\u001b[0;34m\u001b[0m\u001b[0m\n\u001b[1;32m     55\u001b[0m \u001b[0;34m\u001b[0m\u001b[0m\n\u001b[0;32m---> 56\u001b[0;31m \u001b[0mtflite_quant_model\u001b[0m \u001b[0;34m=\u001b[0m \u001b[0mconverter\u001b[0m\u001b[0;34m.\u001b[0m\u001b[0mconvert\u001b[0m\u001b[0;34m(\u001b[0m\u001b[0;34m)\u001b[0m\u001b[0;34m\u001b[0m\u001b[0;34m\u001b[0m\u001b[0m\n\u001b[0m\u001b[1;32m     57\u001b[0m \u001b[0;34m\u001b[0m\u001b[0m\n\u001b[1;32m     58\u001b[0m \u001b[0;32mwith\u001b[0m \u001b[0mopen\u001b[0m\u001b[0;34m(\u001b[0m\u001b[0;34m'lenet5_mnist.tflite'\u001b[0m\u001b[0;34m,\u001b[0m \u001b[0;34m'wb'\u001b[0m\u001b[0;34m)\u001b[0m \u001b[0;32mas\u001b[0m \u001b[0mf\u001b[0m\u001b[0;34m:\u001b[0m\u001b[0;34m\u001b[0m\u001b[0;34m\u001b[0m\u001b[0m\n",
      "\u001b[0;32m/usr/local/lib/python3.10/dist-packages/tensorflow/lite/python/lite.py\u001b[0m in \u001b[0;36mwrapper\u001b[0;34m(self, *args, **kwargs)\u001b[0m\n\u001b[1;32m   1137\u001b[0m   \u001b[0;32mdef\u001b[0m \u001b[0mwrapper\u001b[0m\u001b[0;34m(\u001b[0m\u001b[0mself\u001b[0m\u001b[0;34m,\u001b[0m \u001b[0;34m*\u001b[0m\u001b[0margs\u001b[0m\u001b[0;34m,\u001b[0m \u001b[0;34m**\u001b[0m\u001b[0mkwargs\u001b[0m\u001b[0;34m)\u001b[0m\u001b[0;34m:\u001b[0m\u001b[0;34m\u001b[0m\u001b[0;34m\u001b[0m\u001b[0m\n\u001b[1;32m   1138\u001b[0m     \u001b[0;31m# pylint: disable=protected-access\u001b[0m\u001b[0;34m\u001b[0m\u001b[0;34m\u001b[0m\u001b[0m\n\u001b[0;32m-> 1139\u001b[0;31m     \u001b[0;32mreturn\u001b[0m \u001b[0mself\u001b[0m\u001b[0;34m.\u001b[0m\u001b[0m_convert_and_export_metrics\u001b[0m\u001b[0;34m(\u001b[0m\u001b[0mconvert_func\u001b[0m\u001b[0;34m,\u001b[0m \u001b[0;34m*\u001b[0m\u001b[0margs\u001b[0m\u001b[0;34m,\u001b[0m \u001b[0;34m**\u001b[0m\u001b[0mkwargs\u001b[0m\u001b[0;34m)\u001b[0m\u001b[0;34m\u001b[0m\u001b[0;34m\u001b[0m\u001b[0m\n\u001b[0m\u001b[1;32m   1140\u001b[0m     \u001b[0;31m# pylint: enable=protected-access\u001b[0m\u001b[0;34m\u001b[0m\u001b[0;34m\u001b[0m\u001b[0m\n\u001b[1;32m   1141\u001b[0m \u001b[0;34m\u001b[0m\u001b[0m\n",
      "\u001b[0;32m/usr/local/lib/python3.10/dist-packages/tensorflow/lite/python/lite.py\u001b[0m in \u001b[0;36m_convert_and_export_metrics\u001b[0;34m(self, convert_func, *args, **kwargs)\u001b[0m\n\u001b[1;32m   1091\u001b[0m     \u001b[0mself\u001b[0m\u001b[0;34m.\u001b[0m\u001b[0m_save_conversion_params_metric\u001b[0m\u001b[0;34m(\u001b[0m\u001b[0;34m)\u001b[0m\u001b[0;34m\u001b[0m\u001b[0;34m\u001b[0m\u001b[0m\n\u001b[1;32m   1092\u001b[0m     \u001b[0mstart_time\u001b[0m \u001b[0;34m=\u001b[0m \u001b[0mtime\u001b[0m\u001b[0;34m.\u001b[0m\u001b[0mprocess_time\u001b[0m\u001b[0;34m(\u001b[0m\u001b[0;34m)\u001b[0m\u001b[0;34m\u001b[0m\u001b[0;34m\u001b[0m\u001b[0m\n\u001b[0;32m-> 1093\u001b[0;31m     \u001b[0mresult\u001b[0m \u001b[0;34m=\u001b[0m \u001b[0mconvert_func\u001b[0m\u001b[0;34m(\u001b[0m\u001b[0mself\u001b[0m\u001b[0;34m,\u001b[0m \u001b[0;34m*\u001b[0m\u001b[0margs\u001b[0m\u001b[0;34m,\u001b[0m \u001b[0;34m**\u001b[0m\u001b[0mkwargs\u001b[0m\u001b[0;34m)\u001b[0m\u001b[0;34m\u001b[0m\u001b[0;34m\u001b[0m\u001b[0m\n\u001b[0m\u001b[1;32m   1094\u001b[0m     \u001b[0melapsed_time_ms\u001b[0m \u001b[0;34m=\u001b[0m \u001b[0;34m(\u001b[0m\u001b[0mtime\u001b[0m\u001b[0;34m.\u001b[0m\u001b[0mprocess_time\u001b[0m\u001b[0;34m(\u001b[0m\u001b[0;34m)\u001b[0m \u001b[0;34m-\u001b[0m \u001b[0mstart_time\u001b[0m\u001b[0;34m)\u001b[0m \u001b[0;34m*\u001b[0m \u001b[0;36m1000\u001b[0m\u001b[0;34m\u001b[0m\u001b[0;34m\u001b[0m\u001b[0m\n\u001b[1;32m   1095\u001b[0m     \u001b[0;32mif\u001b[0m \u001b[0mresult\u001b[0m\u001b[0;34m:\u001b[0m\u001b[0;34m\u001b[0m\u001b[0;34m\u001b[0m\u001b[0m\n",
      "\u001b[0;32m/usr/local/lib/python3.10/dist-packages/tensorflow/lite/python/lite.py\u001b[0m in \u001b[0;36mconvert\u001b[0;34m(self)\u001b[0m\n\u001b[1;32m   1599\u001b[0m         \u001b[0mInvalid\u001b[0m \u001b[0mquantization\u001b[0m \u001b[0mparameters\u001b[0m\u001b[0;34m.\u001b[0m\u001b[0;34m\u001b[0m\u001b[0;34m\u001b[0m\u001b[0m\n\u001b[1;32m   1600\u001b[0m     \"\"\"\n\u001b[0;32m-> 1601\u001b[0;31m     \u001b[0msaved_model_convert_result\u001b[0m \u001b[0;34m=\u001b[0m \u001b[0mself\u001b[0m\u001b[0;34m.\u001b[0m\u001b[0m_convert_as_saved_model\u001b[0m\u001b[0;34m(\u001b[0m\u001b[0;34m)\u001b[0m\u001b[0;34m\u001b[0m\u001b[0;34m\u001b[0m\u001b[0m\n\u001b[0m\u001b[1;32m   1602\u001b[0m     \u001b[0;32mif\u001b[0m \u001b[0msaved_model_convert_result\u001b[0m\u001b[0;34m:\u001b[0m\u001b[0;34m\u001b[0m\u001b[0;34m\u001b[0m\u001b[0m\n\u001b[1;32m   1603\u001b[0m       \u001b[0;32mreturn\u001b[0m \u001b[0msaved_model_convert_result\u001b[0m\u001b[0;34m\u001b[0m\u001b[0;34m\u001b[0m\u001b[0m\n",
      "\u001b[0;32m/usr/local/lib/python3.10/dist-packages/tensorflow/lite/python/lite.py\u001b[0m in \u001b[0;36m_convert_as_saved_model\u001b[0;34m(self)\u001b[0m\n\u001b[1;32m   1580\u001b[0m       )\n\u001b[1;32m   1581\u001b[0m       \u001b[0;32mif\u001b[0m \u001b[0mself\u001b[0m\u001b[0;34m.\u001b[0m\u001b[0msaved_model_dir\u001b[0m\u001b[0;34m:\u001b[0m\u001b[0;34m\u001b[0m\u001b[0;34m\u001b[0m\u001b[0m\n\u001b[0;32m-> 1582\u001b[0;31m         return super(TFLiteKerasModelConverterV2, self).convert(\n\u001b[0m\u001b[1;32m   1583\u001b[0m             \u001b[0mgraph_def\u001b[0m\u001b[0;34m,\u001b[0m \u001b[0minput_tensors\u001b[0m\u001b[0;34m,\u001b[0m \u001b[0moutput_tensors\u001b[0m\u001b[0;34m\u001b[0m\u001b[0;34m\u001b[0m\u001b[0m\n\u001b[1;32m   1584\u001b[0m         )\n",
      "\u001b[0;32m/usr/local/lib/python3.10/dist-packages/tensorflow/lite/python/lite.py\u001b[0m in \u001b[0;36mconvert\u001b[0;34m(self, graph_def, input_tensors, output_tensors)\u001b[0m\n\u001b[1;32m   1376\u001b[0m     )\n\u001b[1;32m   1377\u001b[0m \u001b[0;34m\u001b[0m\u001b[0m\n\u001b[0;32m-> 1378\u001b[0;31m     return self._optimize_tflite_model(\n\u001b[0m\u001b[1;32m   1379\u001b[0m         \u001b[0mresult\u001b[0m\u001b[0;34m,\u001b[0m \u001b[0mself\u001b[0m\u001b[0;34m.\u001b[0m\u001b[0m_quant_mode\u001b[0m\u001b[0;34m,\u001b[0m \u001b[0mquant_io\u001b[0m\u001b[0;34m=\u001b[0m\u001b[0mself\u001b[0m\u001b[0;34m.\u001b[0m\u001b[0mexperimental_new_quantizer\u001b[0m\u001b[0;34m\u001b[0m\u001b[0;34m\u001b[0m\u001b[0m\n\u001b[1;32m   1380\u001b[0m     )\n",
      "\u001b[0;32m/usr/local/lib/python3.10/dist-packages/tensorflow/lite/python/convert_phase.py\u001b[0m in \u001b[0;36mwrapper\u001b[0;34m(*args, **kwargs)\u001b[0m\n\u001b[1;32m    213\u001b[0m       \u001b[0;32mexcept\u001b[0m \u001b[0mException\u001b[0m \u001b[0;32mas\u001b[0m \u001b[0merror\u001b[0m\u001b[0;34m:\u001b[0m\u001b[0;34m\u001b[0m\u001b[0;34m\u001b[0m\u001b[0m\n\u001b[1;32m    214\u001b[0m         \u001b[0mreport_error_message\u001b[0m\u001b[0;34m(\u001b[0m\u001b[0mstr\u001b[0m\u001b[0;34m(\u001b[0m\u001b[0merror\u001b[0m\u001b[0;34m)\u001b[0m\u001b[0;34m)\u001b[0m\u001b[0;34m\u001b[0m\u001b[0;34m\u001b[0m\u001b[0m\n\u001b[0;32m--> 215\u001b[0;31m         \u001b[0;32mraise\u001b[0m \u001b[0merror\u001b[0m \u001b[0;32mfrom\u001b[0m \u001b[0;32mNone\u001b[0m  \u001b[0;31m# Re-throws the exception.\u001b[0m\u001b[0;34m\u001b[0m\u001b[0;34m\u001b[0m\u001b[0m\n\u001b[0m\u001b[1;32m    216\u001b[0m \u001b[0;34m\u001b[0m\u001b[0m\n\u001b[1;32m    217\u001b[0m     \u001b[0;32mreturn\u001b[0m \u001b[0mwrapper\u001b[0m\u001b[0;34m\u001b[0m\u001b[0;34m\u001b[0m\u001b[0m\n",
      "\u001b[0;32m/usr/local/lib/python3.10/dist-packages/tensorflow/lite/python/convert_phase.py\u001b[0m in \u001b[0;36mwrapper\u001b[0;34m(*args, **kwargs)\u001b[0m\n\u001b[1;32m    203\u001b[0m     \u001b[0;32mdef\u001b[0m \u001b[0mwrapper\u001b[0m\u001b[0;34m(\u001b[0m\u001b[0;34m*\u001b[0m\u001b[0margs\u001b[0m\u001b[0;34m,\u001b[0m \u001b[0;34m**\u001b[0m\u001b[0mkwargs\u001b[0m\u001b[0;34m)\u001b[0m\u001b[0;34m:\u001b[0m\u001b[0;34m\u001b[0m\u001b[0;34m\u001b[0m\u001b[0m\n\u001b[1;32m    204\u001b[0m       \u001b[0;32mtry\u001b[0m\u001b[0;34m:\u001b[0m\u001b[0;34m\u001b[0m\u001b[0;34m\u001b[0m\u001b[0m\n\u001b[0;32m--> 205\u001b[0;31m         \u001b[0;32mreturn\u001b[0m \u001b[0mfunc\u001b[0m\u001b[0;34m(\u001b[0m\u001b[0;34m*\u001b[0m\u001b[0margs\u001b[0m\u001b[0;34m,\u001b[0m \u001b[0;34m**\u001b[0m\u001b[0mkwargs\u001b[0m\u001b[0;34m)\u001b[0m\u001b[0;34m\u001b[0m\u001b[0;34m\u001b[0m\u001b[0m\n\u001b[0m\u001b[1;32m    206\u001b[0m       \u001b[0;32mexcept\u001b[0m \u001b[0mConverterError\u001b[0m \u001b[0;32mas\u001b[0m \u001b[0mconverter_error\u001b[0m\u001b[0;34m:\u001b[0m\u001b[0;34m\u001b[0m\u001b[0;34m\u001b[0m\u001b[0m\n\u001b[1;32m    207\u001b[0m         \u001b[0;32mif\u001b[0m \u001b[0mconverter_error\u001b[0m\u001b[0;34m.\u001b[0m\u001b[0merrors\u001b[0m\u001b[0;34m:\u001b[0m\u001b[0;34m\u001b[0m\u001b[0;34m\u001b[0m\u001b[0m\n",
      "\u001b[0;32m/usr/local/lib/python3.10/dist-packages/tensorflow/lite/python/lite.py\u001b[0m in \u001b[0;36m_optimize_tflite_model\u001b[0;34m(self, model, quant_mode, quant_io)\u001b[0m\n\u001b[1;32m   1035\u001b[0m         \u001b[0mq_allow_float\u001b[0m \u001b[0;34m=\u001b[0m \u001b[0mquant_mode\u001b[0m\u001b[0;34m.\u001b[0m\u001b[0mis_allow_float\u001b[0m\u001b[0;34m(\u001b[0m\u001b[0;34m)\u001b[0m\u001b[0;34m\u001b[0m\u001b[0;34m\u001b[0m\u001b[0m\n\u001b[1;32m   1036\u001b[0m         \u001b[0mq_variable_quantization\u001b[0m \u001b[0;34m=\u001b[0m \u001b[0mquant_mode\u001b[0m\u001b[0;34m.\u001b[0m\u001b[0menable_mlir_variable_quantization\u001b[0m\u001b[0;34m\u001b[0m\u001b[0;34m\u001b[0m\u001b[0m\n\u001b[0;32m-> 1037\u001b[0;31m         model = self._quantize(\n\u001b[0m\u001b[1;32m   1038\u001b[0m             \u001b[0mmodel\u001b[0m\u001b[0;34m,\u001b[0m\u001b[0;34m\u001b[0m\u001b[0;34m\u001b[0m\u001b[0m\n\u001b[1;32m   1039\u001b[0m             \u001b[0mq_in_type\u001b[0m\u001b[0;34m,\u001b[0m\u001b[0;34m\u001b[0m\u001b[0;34m\u001b[0m\u001b[0m\n",
      "\u001b[0;32m/usr/local/lib/python3.10/dist-packages/tensorflow/lite/python/lite.py\u001b[0m in \u001b[0;36m_quantize\u001b[0;34m(self, result, input_type, output_type, activations_type, bias_type, allow_float, enable_variable_quantization)\u001b[0m\n\u001b[1;32m    733\u001b[0m     )\n\u001b[1;32m    734\u001b[0m     \u001b[0;32mif\u001b[0m \u001b[0mself\u001b[0m\u001b[0;34m.\u001b[0m\u001b[0m_experimental_calibrate_only\u001b[0m \u001b[0;32mor\u001b[0m \u001b[0mself\u001b[0m\u001b[0;34m.\u001b[0m\u001b[0mexperimental_new_quantizer\u001b[0m\u001b[0;34m:\u001b[0m\u001b[0;34m\u001b[0m\u001b[0;34m\u001b[0m\u001b[0m\n\u001b[0;32m--> 735\u001b[0;31m       calibrated = calibrate_quantize.calibrate(\n\u001b[0m\u001b[1;32m    736\u001b[0m           \u001b[0mself\u001b[0m\u001b[0;34m.\u001b[0m\u001b[0mrepresentative_dataset\u001b[0m\u001b[0;34m.\u001b[0m\u001b[0minput_gen\u001b[0m\u001b[0;34m\u001b[0m\u001b[0;34m\u001b[0m\u001b[0m\n\u001b[1;32m    737\u001b[0m       )\n",
      "\u001b[0;32m/usr/local/lib/python3.10/dist-packages/tensorflow/lite/python/convert_phase.py\u001b[0m in \u001b[0;36mwrapper\u001b[0;34m(*args, **kwargs)\u001b[0m\n\u001b[1;32m    213\u001b[0m       \u001b[0;32mexcept\u001b[0m \u001b[0mException\u001b[0m \u001b[0;32mas\u001b[0m \u001b[0merror\u001b[0m\u001b[0;34m:\u001b[0m\u001b[0;34m\u001b[0m\u001b[0;34m\u001b[0m\u001b[0m\n\u001b[1;32m    214\u001b[0m         \u001b[0mreport_error_message\u001b[0m\u001b[0;34m(\u001b[0m\u001b[0mstr\u001b[0m\u001b[0;34m(\u001b[0m\u001b[0merror\u001b[0m\u001b[0;34m)\u001b[0m\u001b[0;34m)\u001b[0m\u001b[0;34m\u001b[0m\u001b[0;34m\u001b[0m\u001b[0m\n\u001b[0;32m--> 215\u001b[0;31m         \u001b[0;32mraise\u001b[0m \u001b[0merror\u001b[0m \u001b[0;32mfrom\u001b[0m \u001b[0;32mNone\u001b[0m  \u001b[0;31m# Re-throws the exception.\u001b[0m\u001b[0;34m\u001b[0m\u001b[0;34m\u001b[0m\u001b[0m\n\u001b[0m\u001b[1;32m    216\u001b[0m \u001b[0;34m\u001b[0m\u001b[0m\n\u001b[1;32m    217\u001b[0m     \u001b[0;32mreturn\u001b[0m \u001b[0mwrapper\u001b[0m\u001b[0;34m\u001b[0m\u001b[0;34m\u001b[0m\u001b[0m\n",
      "\u001b[0;32m/usr/local/lib/python3.10/dist-packages/tensorflow/lite/python/convert_phase.py\u001b[0m in \u001b[0;36mwrapper\u001b[0;34m(*args, **kwargs)\u001b[0m\n\u001b[1;32m    203\u001b[0m     \u001b[0;32mdef\u001b[0m \u001b[0mwrapper\u001b[0m\u001b[0;34m(\u001b[0m\u001b[0;34m*\u001b[0m\u001b[0margs\u001b[0m\u001b[0;34m,\u001b[0m \u001b[0;34m**\u001b[0m\u001b[0mkwargs\u001b[0m\u001b[0;34m)\u001b[0m\u001b[0;34m:\u001b[0m\u001b[0;34m\u001b[0m\u001b[0;34m\u001b[0m\u001b[0m\n\u001b[1;32m    204\u001b[0m       \u001b[0;32mtry\u001b[0m\u001b[0;34m:\u001b[0m\u001b[0;34m\u001b[0m\u001b[0;34m\u001b[0m\u001b[0m\n\u001b[0;32m--> 205\u001b[0;31m         \u001b[0;32mreturn\u001b[0m \u001b[0mfunc\u001b[0m\u001b[0;34m(\u001b[0m\u001b[0;34m*\u001b[0m\u001b[0margs\u001b[0m\u001b[0;34m,\u001b[0m \u001b[0;34m**\u001b[0m\u001b[0mkwargs\u001b[0m\u001b[0;34m)\u001b[0m\u001b[0;34m\u001b[0m\u001b[0;34m\u001b[0m\u001b[0m\n\u001b[0m\u001b[1;32m    206\u001b[0m       \u001b[0;32mexcept\u001b[0m \u001b[0mConverterError\u001b[0m \u001b[0;32mas\u001b[0m \u001b[0mconverter_error\u001b[0m\u001b[0;34m:\u001b[0m\u001b[0;34m\u001b[0m\u001b[0;34m\u001b[0m\u001b[0m\n\u001b[1;32m    207\u001b[0m         \u001b[0;32mif\u001b[0m \u001b[0mconverter_error\u001b[0m\u001b[0;34m.\u001b[0m\u001b[0merrors\u001b[0m\u001b[0;34m:\u001b[0m\u001b[0;34m\u001b[0m\u001b[0;34m\u001b[0m\u001b[0m\n",
      "\u001b[0;32m/usr/local/lib/python3.10/dist-packages/tensorflow/lite/python/optimize/calibrator.py\u001b[0m in \u001b[0;36mcalibrate\u001b[0;34m(self, dataset_gen)\u001b[0m\n\u001b[1;32m    252\u001b[0m       \u001b[0mdataset_gen\u001b[0m\u001b[0;34m:\u001b[0m \u001b[0mA\u001b[0m \u001b[0mgenerator\u001b[0m \u001b[0mthat\u001b[0m \u001b[0mgenerates\u001b[0m \u001b[0mcalibration\u001b[0m \u001b[0msamples\u001b[0m\u001b[0;34m.\u001b[0m\u001b[0;34m\u001b[0m\u001b[0;34m\u001b[0m\u001b[0m\n\u001b[1;32m    253\u001b[0m     \"\"\"\n\u001b[0;32m--> 254\u001b[0;31m     \u001b[0mself\u001b[0m\u001b[0;34m.\u001b[0m\u001b[0m_feed_tensors\u001b[0m\u001b[0;34m(\u001b[0m\u001b[0mdataset_gen\u001b[0m\u001b[0;34m,\u001b[0m \u001b[0mresize_input\u001b[0m\u001b[0;34m=\u001b[0m\u001b[0;32mTrue\u001b[0m\u001b[0;34m)\u001b[0m\u001b[0;34m\u001b[0m\u001b[0;34m\u001b[0m\u001b[0m\n\u001b[0m\u001b[1;32m    255\u001b[0m     \u001b[0;32mreturn\u001b[0m \u001b[0mself\u001b[0m\u001b[0;34m.\u001b[0m\u001b[0m_calibrator\u001b[0m\u001b[0;34m.\u001b[0m\u001b[0mCalibrate\u001b[0m\u001b[0;34m(\u001b[0m\u001b[0;34m)\u001b[0m\u001b[0;34m\u001b[0m\u001b[0;34m\u001b[0m\u001b[0m\n",
      "\u001b[0;32m/usr/local/lib/python3.10/dist-packages/tensorflow/lite/python/optimize/calibrator.py\u001b[0m in \u001b[0;36m_feed_tensors\u001b[0;34m(self, dataset_gen, resize_input)\u001b[0m\n\u001b[1;32m     99\u001b[0m     \u001b[0minitialized\u001b[0m \u001b[0;34m=\u001b[0m \u001b[0;34m{\u001b[0m\u001b[0;34m}\u001b[0m\u001b[0;34m\u001b[0m\u001b[0;34m\u001b[0m\u001b[0m\n\u001b[1;32m    100\u001b[0m \u001b[0;34m\u001b[0m\u001b[0m\n\u001b[0;32m--> 101\u001b[0;31m     \u001b[0;32mfor\u001b[0m \u001b[0msample\u001b[0m \u001b[0;32min\u001b[0m \u001b[0mdataset_gen\u001b[0m\u001b[0;34m(\u001b[0m\u001b[0;34m)\u001b[0m\u001b[0;34m:\u001b[0m\u001b[0;34m\u001b[0m\u001b[0;34m\u001b[0m\u001b[0m\n\u001b[0m\u001b[1;32m    102\u001b[0m       \u001b[0;32mif\u001b[0m \u001b[0misinstance\u001b[0m\u001b[0;34m(\u001b[0m\u001b[0msample\u001b[0m\u001b[0;34m,\u001b[0m \u001b[0mtuple\u001b[0m\u001b[0;34m)\u001b[0m\u001b[0;34m:\u001b[0m\u001b[0;34m\u001b[0m\u001b[0;34m\u001b[0m\u001b[0m\n\u001b[1;32m    103\u001b[0m         \u001b[0;32mif\u001b[0m \u001b[0;32mnot\u001b[0m \u001b[0misinstance\u001b[0m\u001b[0;34m(\u001b[0m\u001b[0msample\u001b[0m\u001b[0;34m[\u001b[0m\u001b[0;36m1\u001b[0m\u001b[0;34m]\u001b[0m\u001b[0;34m,\u001b[0m \u001b[0mdict\u001b[0m\u001b[0;34m)\u001b[0m\u001b[0;34m:\u001b[0m\u001b[0;34m\u001b[0m\u001b[0;34m\u001b[0m\u001b[0m\n",
      "\u001b[0;32m<ipython-input-6-4806a5fca210>\u001b[0m in \u001b[0;36mrepresentative_dataset\u001b[0;34m()\u001b[0m\n\u001b[1;32m     43\u001b[0m \u001b[0;32mdef\u001b[0m \u001b[0mrepresentative_dataset\u001b[0m\u001b[0;34m(\u001b[0m\u001b[0;34m)\u001b[0m\u001b[0;34m:\u001b[0m\u001b[0;34m\u001b[0m\u001b[0;34m\u001b[0m\u001b[0m\n\u001b[1;32m     44\u001b[0m   \u001b[0;32mfor\u001b[0m \u001b[0mdata\u001b[0m \u001b[0;32min\u001b[0m \u001b[0mtf\u001b[0m\u001b[0;34m.\u001b[0m\u001b[0mdata\u001b[0m\u001b[0;34m.\u001b[0m\u001b[0mDataset\u001b[0m\u001b[0;34m.\u001b[0m\u001b[0mfrom_tensor_slices\u001b[0m\u001b[0;34m(\u001b[0m\u001b[0;34m(\u001b[0m\u001b[0mx_train\u001b[0m\u001b[0;34m)\u001b[0m\u001b[0;34m)\u001b[0m\u001b[0;34m.\u001b[0m\u001b[0mbatch\u001b[0m\u001b[0;34m(\u001b[0m\u001b[0;36m1\u001b[0m\u001b[0;34m)\u001b[0m\u001b[0;34m.\u001b[0m\u001b[0mtake\u001b[0m\u001b[0;34m(\u001b[0m\u001b[0;36m2000\u001b[0m\u001b[0;34m)\u001b[0m\u001b[0;34m:\u001b[0m\u001b[0;34m\u001b[0m\u001b[0;34m\u001b[0m\u001b[0m\n\u001b[0;32m---> 45\u001b[0;31m     \u001b[0;32myield\u001b[0m \u001b[0;34m[\u001b[0m\u001b[0mdata\u001b[0m\u001b[0;34m,\u001b[0m \u001b[0mmodel\u001b[0m\u001b[0;34m.\u001b[0m\u001b[0mconv_out\u001b[0m\u001b[0;34m(\u001b[0m\u001b[0mdata\u001b[0m\u001b[0;34m)\u001b[0m\u001b[0;34m]\u001b[0m\u001b[0;34m\u001b[0m\u001b[0;34m\u001b[0m\u001b[0m\n\u001b[0m\u001b[1;32m     46\u001b[0m \u001b[0;34m\u001b[0m\u001b[0m\n\u001b[1;32m     47\u001b[0m \u001b[0;34m\u001b[0m\u001b[0m\n",
      "\u001b[0;31mAttributeError\u001b[0m: 'Lenet' object has no attribute 'conv_out'"
     ]
    }
   ],
   "source": [
    "# Tensorflow Lite needs a representative dataset in order to determine the correct quantization parameters\n",
    "def representative_dataset():\n",
    "  for data in tf.data.Dataset.from_tensor_slices((x_train)).batch(1).take(1000):\n",
    "    yield [data]\n",
    "\n",
    "\n",
    "converter = tf.lite.TFLiteConverter.from_keras_model(model)\n",
    "converter.optimizations = [tf.lite.Optimize.DEFAULT] # Recommended optimization\n",
    "converter.representative_dataset = representative_dataset\n",
    "# Specify that the quantized model should only support int8 operations\n",
    "converter.target_spec.supported_ops = [tf.lite.OpsSet.TFLITE_BUILTINS_INT8]\n",
    "converter.inference_input_type = tf.int8\n",
    "converter.inference_output_type = tf.int8\n",
    "\n",
    "tflite_quant_model = converter.convert()\n",
    "\n",
    "with open('lenet5_mnist.tflite', 'wb') as f:\n",
    "  f.write(tflite_quant_model)\n"
   ]
  },
  {
   "cell_type": "markdown",
   "metadata": {
    "id": "DTyrNd-IQYw_"
   },
   "source": [
    "Get dimension of .tflite trained and converted model"
   ]
  },
  {
   "cell_type": "code",
   "execution_count": null,
   "metadata": {
    "colab": {
     "base_uri": "https://localhost:8080/"
    },
    "id": "q312pmfTQe2h",
    "outputId": "f633a96c-fbed-4a63-f473-d0ee06bd478c"
   },
   "outputs": [
    {
     "name": "stdout",
     "output_type": "stream",
     "text": [
      "File size: 69.805 Kilobytes\n"
     ]
    }
   ],
   "source": [
    "convert_bytes(get_file_size(\"lenet5_mnist.tflite\"), \"KB\")"
   ]
  },
  {
   "cell_type": "markdown",
   "metadata": {
    "id": "5cssQmP4TLMX"
   },
   "source": [
    "## Model Analysis"
   ]
  },
  {
   "cell_type": "markdown",
   "metadata": {
    "id": "hiOt-uRdAc6i"
   },
   "source": [
    "### TF Lite Analyzer\n",
    "Analyze the model to get details about tensors and operations used in the inference"
   ]
  },
  {
   "cell_type": "code",
   "execution_count": null,
   "metadata": {
    "colab": {
     "base_uri": "https://localhost:8080/"
    },
    "id": "skPAk_kCfBLV",
    "outputId": "28f9abc4-01c6-4e58-b8a0-eaa7f10579c9"
   },
   "outputs": [
    {
     "name": "stdout",
     "output_type": "stream",
     "text": [
      "=== activation_conv1_edit.tflite ===\n",
      "\n",
      "Your TFLite model has '1' subgraph(s). In the subgraph description below,\n",
      "T# represents the Tensor numbers. For example, in Subgraph#0, the TANH op takes\n",
      "tensor #0 as input and produces tensor #1 as output.\n",
      "\n",
      "Subgraph#0 main(T#0) -> [T#3]\n",
      "  Op#0 TANH(T#0) -> [T#1]\n",
      "  Op#1 AVERAGE_POOL_2D(T#1) -> [T#2]\n",
      "  Op#2 LOGISTIC(T#2) -> [T#3]\n",
      "\n",
      "Tensors of Subgraph#0\n",
      "  T#0(x) shape:[1, 28, 28, 6], type:INT8\n",
      "  T#1(Tanh) shape:[1, 28, 28, 6], type:INT8\n",
      "  T#2(AvgPool) shape:[1, 14, 14, 6], type:INT8\n",
      "  T#3(Identity) shape:[1, 14, 14, 6], type:INT8\n",
      "\n",
      "---------------------------------------------------------------\n",
      "              Model size:       1144 bytes\n",
      "    Non-data buffer size:       1040 bytes (90.91 %)\n",
      "  Total data buffer size:        104 bytes (09.09 %)\n",
      "    (Zero value buffers):          0 bytes (00.00 %)\n",
      "\n",
      "* Buffers of TFLite model are mostly used for constant tensors.\n",
      "  And zero value buffers are buffers filled with zeros.\n",
      "  Non-data buffers area are used to store operators, subgraphs and etc.\n",
      "  You can find more details from https://github.com/tensorflow/tensorflow/blob/master/tensorflow/lite/schema/schema.fbs\n",
      "\n"
     ]
    },
    {
     "data": {
      "text/plain": [
       "[{'name': 'x',\n",
       "  'index': 0,\n",
       "  'shape': array([ 1, 28, 28,  6], dtype=int32),\n",
       "  'shape_signature': array([ 1, 28, 28,  6], dtype=int32),\n",
       "  'dtype': numpy.int8,\n",
       "  'quantization': (0.05561614781618118, -12),\n",
       "  'quantization_parameters': {'scales': array([0.05561615], dtype=float32),\n",
       "   'zero_points': array([-12], dtype=int32),\n",
       "   'quantized_dimension': 0},\n",
       "  'sparsity_parameters': {}},\n",
       " {'name': 'Tanh',\n",
       "  'index': 1,\n",
       "  'shape': array([ 1, 28, 28,  6], dtype=int32),\n",
       "  'shape_signature': array([ 1, 28, 28,  6], dtype=int32),\n",
       "  'dtype': numpy.int8,\n",
       "  'quantization': (0.0078125, 0),\n",
       "  'quantization_parameters': {'scales': array([0.0078125], dtype=float32),\n",
       "   'zero_points': array([0], dtype=int32),\n",
       "   'quantized_dimension': 0},\n",
       "  'sparsity_parameters': {}},\n",
       " {'name': 'AvgPool',\n",
       "  'index': 2,\n",
       "  'shape': array([ 1, 14, 14,  6], dtype=int32),\n",
       "  'shape_signature': array([ 1, 14, 14,  6], dtype=int32),\n",
       "  'dtype': numpy.int8,\n",
       "  'quantization': (0.0078125, 0),\n",
       "  'quantization_parameters': {'scales': array([0.0078125], dtype=float32),\n",
       "   'zero_points': array([0], dtype=int32),\n",
       "   'quantized_dimension': 0},\n",
       "  'sparsity_parameters': {}},\n",
       " {'name': 'Identity',\n",
       "  'index': 3,\n",
       "  'shape': array([ 1, 14, 14,  6], dtype=int32),\n",
       "  'shape_signature': array([ 1, 14, 14,  6], dtype=int32),\n",
       "  'dtype': numpy.int8,\n",
       "  'quantization': (0.00390625, -128),\n",
       "  'quantization_parameters': {'scales': array([0.00390625], dtype=float32),\n",
       "   'zero_points': array([-128], dtype=int32),\n",
       "   'quantized_dimension': 0},\n",
       "  'sparsity_parameters': {}}]"
      ]
     },
     "execution_count": 4,
     "metadata": {},
     "output_type": "execute_result"
    }
   ],
   "source": [
    "tf.lite.experimental.Analyzer.analyze(\"activation_conv1_edit.tflite\")\n",
    "interpreter = tf.lite.Interpreter(model_path=\"activation_conv1_edit.tflite\")\n",
    "interpreter.allocate_tensors()\n",
    "# Get names of input and output\n",
    "interpreter.get_tensor_details()"
   ]
  },
  {
   "cell_type": "markdown",
   "metadata": {
    "id": "Lec9VYGXD0w0"
   },
   "source": []
  },
  {
   "cell_type": "markdown",
   "metadata": {
    "id": "JTuveg1IzdQL"
   },
   "source": [
    "###Netron\n",
    "As an alternative https://netron.app could be exploited to get a more user-friendly and schematic view of the .tflite model"
   ]
  },
  {
   "cell_type": "markdown",
   "metadata": {
    "id": "1BOrBjVtA8Rp"
   },
   "source": [
    "Build the Tensorflow Lite interpreter"
   ]
  },
  {
   "cell_type": "code",
   "execution_count": null,
   "metadata": {
    "colab": {
     "base_uri": "https://localhost:8080/"
    },
    "id": "h8Q8W9jos5Pu",
    "outputId": "47bdc337-95fe-4cfe-a723-d8f641078528"
   },
   "outputs": [
    {
     "data": {
      "text/plain": [
       "{'serving_default': {'inputs': ['input_1'], 'outputs': ['output_1']}}"
      ]
     },
     "execution_count": 12,
     "metadata": {},
     "output_type": "execute_result"
    }
   ],
   "source": [
    "interpreter = tf.lite.Interpreter('lenet5_mnist.tflite', experimental_preserve_all_tensors=True)\n",
    "interpreter.allocate_tensors()\n",
    "sig = interpreter.get_signature_runner()\n",
    "# Get names of input and output\n",
    "interpreter.get_signature_list()"
   ]
  },
  {
   "cell_type": "markdown",
   "metadata": {
    "id": "D2m9JzLhZN88"
   },
   "source": [
    "###Output Tensor Analysis"
   ]
  },
  {
   "cell_type": "markdown",
   "metadata": {
    "id": "9FGgEGUrXnn8"
   },
   "source": [
    "Get the output tensor's details"
   ]
  },
  {
   "cell_type": "code",
   "execution_count": null,
   "metadata": {
    "colab": {
     "base_uri": "https://localhost:8080/"
    },
    "id": "3dT-RuIIvEmb",
    "outputId": "cd545428-f546-421f-df40-1788b0f633d2"
   },
   "outputs": [
    {
     "data": {
      "text/plain": [
       "{'serving_default': {'inputs': ['args_0', 'args_1'],\n",
       "  'outputs': ['out', 'out_dense']}}"
      ]
     },
     "execution_count": 106,
     "metadata": {},
     "output_type": "execute_result"
    }
   ],
   "source": [
    "interpreter.get_signature_list()"
   ]
  },
  {
   "cell_type": "code",
   "execution_count": null,
   "metadata": {
    "colab": {
     "base_uri": "https://localhost:8080/"
    },
    "id": "h8RDwX23XD22",
    "outputId": "adf1eb04-bd60-4835-8b06-37f5c477e882"
   },
   "outputs": [
    {
     "data": {
      "text/plain": [
       "[{'name': 'serving_default_args_0:0',\n",
       "  'index': 0,\n",
       "  'shape': array([ 1, 32, 32,  1], dtype=int32),\n",
       "  'shape_signature': array([-1, 32, 32,  1], dtype=int32),\n",
       "  'dtype': numpy.int8,\n",
       "  'quantization': (0.003921568859368563, -128),\n",
       "  'quantization_parameters': {'scales': array([0.00392157], dtype=float32),\n",
       "   'zero_points': array([-128], dtype=int32),\n",
       "   'quantized_dimension': 0},\n",
       "  'sparsity_parameters': {}},\n",
       " {'name': 'serving_default_args_1:0',\n",
       "  'index': 1,\n",
       "  'shape': array([  1, 120], dtype=int32),\n",
       "  'shape_signature': array([ -1, 120], dtype=int32),\n",
       "  'dtype': numpy.int8,\n",
       "  'quantization': (0.006880663800984621, 3),\n",
       "  'quantization_parameters': {'scales': array([0.00688066], dtype=float32),\n",
       "   'zero_points': array([3], dtype=int32),\n",
       "   'quantized_dimension': 0},\n",
       "  'sparsity_parameters': {}}]"
      ]
     },
     "execution_count": 101,
     "metadata": {},
     "output_type": "execute_result"
    }
   ],
   "source": [
    "interpreter.get_input_details()"
   ]
  },
  {
   "cell_type": "code",
   "execution_count": null,
   "metadata": {
    "colab": {
     "base_uri": "https://localhost:8080/"
    },
    "id": "NC-KxL1OYDkw",
    "outputId": "05272a6d-1c6e-4265-b5f2-84f3f25f0415"
   },
   "outputs": [
    {
     "data": {
      "text/plain": [
       "array([[[ -73],\n",
       "        [ -33],\n",
       "        [  25],\n",
       "        [  26],\n",
       "        [  45]],\n",
       "\n",
       "       [[ -28],\n",
       "        [  62],\n",
       "        [  82],\n",
       "        [ 118],\n",
       "        [  85]],\n",
       "\n",
       "       [[   3],\n",
       "        [  55],\n",
       "        [ 127],\n",
       "        [ 117],\n",
       "        [  76]],\n",
       "\n",
       "       [[ -66],\n",
       "        [  56],\n",
       "        [  99],\n",
       "        [  39],\n",
       "        [   0]],\n",
       "\n",
       "       [[-108],\n",
       "        [ -33],\n",
       "        [ -67],\n",
       "        [ -96],\n",
       "        [-109]]], dtype=int8)"
      ]
     },
     "execution_count": 14,
     "metadata": {},
     "output_type": "execute_result"
    }
   ],
   "source": [
    "first_layer_kernel = interpreter.get_tensor(11).astype(np.int8)\n",
    "#import struct\n",
    "#first_layer_kernel[0,:,:,0].tobytes().hex()\n",
    "first_layer_kernel[0]"
   ]
  },
  {
   "cell_type": "code",
   "execution_count": null,
   "metadata": {
    "colab": {
     "base_uri": "https://localhost:8080/"
    },
    "id": "v94lRM6vHiH5",
    "outputId": "9a7013ea-3b14-4d3a-f370-bf74aee55ae7"
   },
   "outputs": [
    {
     "name": "stdout",
     "output_type": "stream",
     "text": [
      "=== lenet5_edited.tflite ===\n",
      "\n",
      "Your TFLite model has '1' subgraph(s). In the subgraph description below,\n",
      "T# represents the Tensor numbers. For example, in Subgraph#0, the FULLY_CONNECTED op takes\n",
      "tensor #1 and tensor #14 and tensor #12 as input and produces tensor #15 as output.\n",
      "\n",
      "Subgraph#0 main(T#0, T#1) -> [T#33, T#18]\n",
      "  Op#0 FULLY_CONNECTED(T#1, T#14, T#12[-815, -67, -347, 943, -314, ...]) -> [T#15]\n",
      "  Op#1 TANH(T#15) -> [T#16]\n",
      "  Op#2 FULLY_CONNECTED(T#16, T#11, T#9[-79, -1298, 2288, -174, 493, ...]) -> [T#17]\n",
      "  Op#3 SOFTMAX(T#17) -> [T#18]\n",
      "  Op#4 CONV_2D(T#0, T#8, T#7[-28847, 16208, -15145, -21816, 15629, ...]) -> [T#19]\n",
      "  Op#5 TANH(T#19) -> [T#20]\n",
      "  Op#6 AVERAGE_POOL_2D(T#20) -> [T#21]\n",
      "  Op#7 LOGISTIC(T#21) -> [T#22]\n",
      "  Op#8 CONV_2D(T#22, T#6, T#5[271, 453, -12072, -13127, -44, ...]) -> [T#23]\n",
      "  Op#9 TANH(T#23) -> [T#24]\n",
      "  Op#10 AVERAGE_POOL_2D(T#24) -> [T#25]\n",
      "  Op#11 LOGISTIC(T#25) -> [T#26]\n",
      "  Op#12 CONV_2D(T#26, T#4, T#3[-103, -1609, -72, -528, -311, ...]) -> [T#27]\n",
      "  Op#13 TANH(T#27) -> [T#28]\n",
      "  Op#14 RESHAPE(T#28, T#2[-1, 120]) -> [T#29]\n",
      "  Op#15 FULLY_CONNECTED(T#29, T#14, T#13[-735, -60, -314, 851, -284, ...]) -> [T#30]\n",
      "  Op#16 TANH(T#30) -> [T#31]\n",
      "  Op#17 FULLY_CONNECTED(T#31, T#11, T#10[-79, -1298, 2288, -174, 493, ...]) -> [T#32]\n",
      "  Op#18 SOFTMAX(T#32) -> [T#33]\n",
      "\n",
      "Tensors of Subgraph#0\n",
      "  T#0(serving_default_args_0:0) shape_signature:[-1, 32, 32, 1], type:INT8\n",
      "  T#1(serving_default_args_1:0) shape_signature:[-1, 120], type:INT8\n",
      "  T#2(lenet_21/sequential_63/flatten_20/Const) shape:[2], type:INT32 RO 8 bytes, buffer: 3, data:[-1, 120]\n",
      "  T#3(lenet_21/sequential_63/conv2d_63/BiasAdd/ReadVariableOp) shape:[120], type:INT32 RO 480 bytes, buffer: 4, data:[-103, -1609, -72, -528, -311, ...]\n",
      "  T#4(lenet_21/sequential_63/conv2d_63/Conv2D) shape:[120, 5, 5, 16], type:INT8 RO 48000 bytes, buffer: 5, data:[., ., ., ., ., ...]\n",
      "  T#5(lenet_21/sequential_62/conv2d_62/BiasAdd/ReadVariableOp) shape:[16], type:INT32 RO 64 bytes, buffer: 6, data:[271, 453, -12072, -13127, -44, ...]\n",
      "  T#6(lenet_21/sequential_62/conv2d_62/Conv2D) shape:[16, 5, 5, 6], type:INT8 RO 2400 bytes, buffer: 7, data:[., \n",
      ", ., ., ., ...]\n",
      "  T#7(lenet_21/sequential_61/conv2d_61/BiasAdd/ReadVariableOp) shape:[6], type:INT32 RO 24 bytes, buffer: 8, data:[-28847, 16208, -15145, -21816, 15629, ...]\n",
      "  T#8(lenet_21/sequential_61/conv2d_61/Conv2D) shape:[6, 5, 5, 1], type:INT8 RO 150 bytes, buffer: 9, data:[., ., ., ., -, ...]\n",
      "  T#9(lenet_21/dense_41/BiasAdd/ReadVariableOp) shape:[10], type:INT32 RO 40 bytes, buffer: 10, data:[-79, -1298, 2288, -174, 493, ...]\n",
      "  T#10(lenet_21/dense_41/BiasAdd/ReadVariableOp1) shape:[10], type:INT32 RO 40 bytes, buffer: 10, data:[-79, -1298, 2288, -174, 493, ...]\n",
      "  T#11(lenet_21/dense_41/MatMul_1) shape:[10, 84], type:INT8 RO 840 bytes, buffer: 12, data:[3, ., ., ., ., ...]\n",
      "  T#12(lenet_21/dense_40/BiasAdd/ReadVariableOp) shape:[84], type:INT32 RO 336 bytes, buffer: 13, data:[-815, -67, -347, 943, -314, ...]\n",
      "  T#13(lenet_21/dense_40/BiasAdd/ReadVariableOp1) shape:[84], type:INT32 RO 336 bytes, buffer: 14, data:[-735, -60, -314, 851, -284, ...]\n",
      "  T#14(lenet_21/dense_40/MatMul_1) shape:[84, 120], type:INT8 RO 10080 bytes, buffer: 15, data:[\n",
      ", ., ., ., ., ...]\n",
      "  T#15(lenet_21/dense_40/MatMul;lenet_21/dense_40/BiasAdd) shape_signature:[-1, 84], type:INT8\n",
      "  T#16(lenet_21/dense_40/Tanh) shape_signature:[-1, 84], type:INT8\n",
      "  T#17(lenet_21/dense_41/MatMul;lenet_21/dense_41/BiasAdd) shape_signature:[-1, 10], type:INT8\n",
      "  T#18(StatefulPartitionedCall:1) shape_signature:[-1, 10], type:INT8\n",
      "  T#19(lenet_21/sequential_61/conv2d_61/BiasAdd;lenet_21/sequential_61/conv2d_61/Conv2D;lenet_21/sequential_61/conv2d_61/BiasAdd/ReadVariableOp) shape_signature:[-1, 28, 28, 6], type:INT8\n",
      "  T#20(lenet_21/sequential_61/conv2d_61/Tanh) shape_signature:[-1, 28, 28, 6], type:INT8\n",
      "  T#21(lenet_21/sequential_61/average_pooling2d_41/AvgPool) shape_signature:[-1, 14, 14, 6], type:INT8\n",
      "  T#22(lenet_21/sequential_61/activation_40/Sigmoid) shape_signature:[-1, 14, 14, 6], type:INT8\n",
      "  T#23(lenet_21/sequential_62/conv2d_62/BiasAdd;lenet_21/sequential_62/conv2d_62/Conv2D;lenet_21/sequential_62/conv2d_62/BiasAdd/ReadVariableOp) shape_signature:[-1, 10, 10, 16], type:INT8\n",
      "  T#24(lenet_21/sequential_62/conv2d_62/Tanh) shape_signature:[-1, 10, 10, 16], type:INT8\n",
      "  T#25(lenet_21/sequential_62/average_pooling2d_42/AvgPool) shape_signature:[-1, 5, 5, 16], type:INT8\n",
      "  T#26(lenet_21/sequential_62/activation_41/Sigmoid) shape_signature:[-1, 5, 5, 16], type:INT8\n",
      "  T#27(lenet_21/sequential_63/conv2d_63/BiasAdd;lenet_21/sequential_63/conv2d_63/Conv2D;lenet_21/sequential_63/conv2d_63/BiasAdd/ReadVariableOp) shape_signature:[-1, 1, 1, 120], type:INT8\n",
      "  T#28(lenet_21/sequential_63/conv2d_63/Tanh) shape_signature:[-1, 1, 1, 120], type:INT8\n",
      "  T#29(lenet_21/sequential_63/flatten_20/Reshape) shape_signature:[-1, 120], type:INT8\n",
      "  T#30(lenet_21/dense_40/MatMul_1;lenet_21/dense_40/BiasAdd_1) shape_signature:[-1, 84], type:INT8\n",
      "  T#31(lenet_21/dense_40/Tanh_1) shape_signature:[-1, 84], type:INT8\n",
      "  T#32(lenet_21/dense_41/MatMul_1;lenet_21/dense_41/BiasAdd_1) shape_signature:[-1, 10], type:INT8\n",
      "  T#33(StatefulPartitionedCall:0) shape_signature:[-1, 10], type:INT8\n",
      "\n",
      "---------------------------------------------------------------\n",
      "Your TFLite model has '1' signature_def(s).\n",
      "\n",
      "Signature#0 key: 'serving_default'\n",
      "- Subgraph: Subgraph#0\n",
      "- Inputs: \n",
      "    'args_0' : T#0\n",
      "    'args_1' : T#1\n",
      "- Outputs: \n",
      "    'out' : T#33\n",
      "    'out_dense' : T#18\n",
      "\n",
      "---------------------------------------------------------------\n",
      "              Model size:      73272 bytes\n",
      "    Non-data buffer size:      10410 bytes (14.21 %)\n",
      "  Total data buffer size:      62862 bytes (85.79 %)\n",
      "    (Zero value buffers):          0 bytes (00.00 %)\n",
      "\n",
      "* Buffers of TFLite model are mostly used for constant tensors.\n",
      "  And zero value buffers are buffers filled with zeros.\n",
      "  Non-data buffers area are used to store operators, subgraphs and etc.\n",
      "  You can find more details from https://github.com/tensorflow/tensorflow/blob/master/tensorflow/lite/schema/schema.fbs\n",
      "\n",
      "=== lenet5_mnist.tflite ===\n",
      "\n",
      "Your TFLite model has '1' subgraph(s). In the subgraph description below,\n",
      "T# represents the Tensor numbers. For example, in Subgraph#0, the CONV_2D op takes\n",
      "tensor #0 and tensor #11 and tensor #10 as input and produces tensor #12 as output.\n",
      "\n",
      "Subgraph#0 main(T#0) -> [T#26]\n",
      "  Op#0 CONV_2D(T#0, T#11, T#10[-28847, 16208, -15145, -21816, 15629, ...]) -> [T#12]\n",
      "  Op#1 TANH(T#12) -> [T#13]\n",
      "  Op#2 AVERAGE_POOL_2D(T#13) -> [T#14]\n",
      "  Op#3 LOGISTIC(T#14) -> [T#15]\n",
      "  Op#4 CONV_2D(T#15, T#9, T#8[271, 453, -12072, -13127, -44, ...]) -> [T#16]\n",
      "  Op#5 TANH(T#16) -> [T#17]\n",
      "  Op#6 AVERAGE_POOL_2D(T#17) -> [T#18]\n",
      "  Op#7 LOGISTIC(T#18) -> [T#19]\n",
      "  Op#8 CONV_2D(T#19, T#7, T#6[-103, -1609, -72, -528, -311, ...]) -> [T#20]\n",
      "  Op#9 TANH(T#20) -> [T#21]\n",
      "  Op#10 RESHAPE(T#21, T#1[-1, 120]) -> [T#22]\n",
      "  Op#11 FULLY_CONNECTED(T#22, T#5, T#4[-735, -60, -314, 851, -284, ...]) -> [T#23]\n",
      "  Op#12 TANH(T#23) -> [T#24]\n",
      "  Op#13 FULLY_CONNECTED(T#24, T#3, T#2[-79, -1298, 2288, -174, 493, ...]) -> [T#25]\n",
      "  Op#14 SOFTMAX(T#25) -> [T#26]\n",
      "\n",
      "Tensors of Subgraph#0\n",
      "  T#0(serving_default_input_1:0) shape_signature:[-1, 32, 32, 1], type:INT8\n",
      "  T#1(lenet/sequential_2/flatten/Const) shape:[2], type:INT32 RO 8 bytes, buffer: 2, data:[-1, 120]\n",
      "  T#2(lenet/dense_1/BiasAdd/ReadVariableOp) shape:[10], type:INT32 RO 40 bytes, buffer: 3, data:[-79, -1298, 2288, -174, 493, ...]\n",
      "  T#3(lenet/dense_1/MatMul) shape:[10, 84], type:INT8 RO 840 bytes, buffer: 4, data:[3, ., ., ., ., ...]\n",
      "  T#4(lenet/dense/BiasAdd/ReadVariableOp) shape:[84], type:INT32 RO 336 bytes, buffer: 5, data:[-735, -60, -314, 851, -284, ...]\n",
      "  T#5(lenet/dense/MatMul) shape:[84, 120], type:INT8 RO 10080 bytes, buffer: 6, data:[\n",
      ", ., ., ., ., ...]\n",
      "  T#6(lenet/sequential_2/conv2d_2/BiasAdd/ReadVariableOp) shape:[120], type:INT32 RO 480 bytes, buffer: 7, data:[-103, -1609, -72, -528, -311, ...]\n",
      "  T#7(lenet/sequential_2/conv2d_2/Conv2D) shape:[120, 5, 5, 16], type:INT8 RO 48000 bytes, buffer: 8, data:[., ., ., ., ., ...]\n",
      "  T#8(lenet/sequential_1/conv2d_1/BiasAdd/ReadVariableOp) shape:[16], type:INT32 RO 64 bytes, buffer: 9, data:[271, 453, -12072, -13127, -44, ...]\n",
      "  T#9(lenet/sequential_1/conv2d_1/Conv2D) shape:[16, 5, 5, 6], type:INT8 RO 2400 bytes, buffer: 10, data:[., \n",
      ", ., ., ., ...]\n",
      "  T#10(lenet/sequential/conv2d/BiasAdd/ReadVariableOp) shape:[6], type:INT32 RO 24 bytes, buffer: 11, data:[-28847, 16208, -15145, -21816, 15629, ...]\n",
      "  T#11(lenet/sequential/conv2d/Conv2D) shape:[6, 5, 5, 1], type:INT8 RO 150 bytes, buffer: 12, data:[., ., ., ., -, ...]\n",
      "  T#12(lenet/sequential/conv2d/BiasAdd;lenet/sequential/conv2d/Conv2D;lenet/sequential/conv2d/BiasAdd/ReadVariableOp) shape_signature:[-1, 28, 28, 6], type:INT8\n",
      "  T#13(lenet/sequential/conv2d/Tanh) shape_signature:[-1, 28, 28, 6], type:INT8\n",
      "  T#14(lenet/sequential/average_pooling2d/AvgPool) shape_signature:[-1, 14, 14, 6], type:INT8\n",
      "  T#15(lenet/sequential/activation/Sigmoid) shape_signature:[-1, 14, 14, 6], type:INT8\n",
      "  T#16(lenet/sequential_1/conv2d_1/BiasAdd;lenet/sequential_1/conv2d_1/Conv2D;lenet/sequential_1/conv2d_1/BiasAdd/ReadVariableOp) shape_signature:[-1, 10, 10, 16], type:INT8\n",
      "  T#17(lenet/sequential_1/conv2d_1/Tanh) shape_signature:[-1, 10, 10, 16], type:INT8\n",
      "  T#18(lenet/sequential_1/average_pooling2d_1/AvgPool) shape_signature:[-1, 5, 5, 16], type:INT8\n",
      "  T#19(lenet/sequential_1/activation_1/Sigmoid) shape_signature:[-1, 5, 5, 16], type:INT8\n",
      "  T#20(lenet/sequential_2/conv2d_2/BiasAdd;lenet/sequential_2/conv2d_2/Conv2D;lenet/sequential_2/conv2d_2/BiasAdd/ReadVariableOp) shape_signature:[-1, 1, 1, 120], type:INT8\n",
      "  T#21(lenet/sequential_2/conv2d_2/Tanh) shape_signature:[-1, 1, 1, 120], type:INT8\n",
      "  T#22(lenet/sequential_2/flatten/Reshape) shape_signature:[-1, 120], type:INT8\n",
      "  T#23(lenet/dense/MatMul;lenet/dense/BiasAdd) shape_signature:[-1, 84], type:INT8\n",
      "  T#24(lenet/dense/Tanh) shape_signature:[-1, 84], type:INT8\n",
      "  T#25(lenet/dense_1/MatMul;lenet/dense_1/BiasAdd) shape_signature:[-1, 10], type:INT8\n",
      "  T#26(StatefulPartitionedCall:0) shape_signature:[-1, 10], type:INT8\n",
      "\n",
      "---------------------------------------------------------------\n",
      "Your TFLite model has '1' signature_def(s).\n",
      "\n",
      "Signature#0 key: 'serving_default'\n",
      "- Subgraph: Subgraph#0\n",
      "- Inputs: \n",
      "    'input_1' : T#0\n",
      "- Outputs: \n",
      "    'output_1' : T#26\n",
      "\n",
      "---------------------------------------------------------------\n",
      "              Model size:      71480 bytes\n",
      "    Non-data buffer size:       8954 bytes (12.53 %)\n",
      "  Total data buffer size:      62526 bytes (87.47 %)\n",
      "    (Zero value buffers):          0 bytes (00.00 %)\n",
      "\n",
      "* Buffers of TFLite model are mostly used for constant tensors.\n",
      "  And zero value buffers are buffers filled with zeros.\n",
      "  Non-data buffers area are used to store operators, subgraphs and etc.\n",
      "  You can find more details from https://github.com/tensorflow/tensorflow/blob/master/tensorflow/lite/schema/schema.fbs\n",
      "\n"
     ]
    },
    {
     "data": {
      "text/plain": [
       "[{'name': 'serving_default_input_1:0',\n",
       "  'index': 0,\n",
       "  'shape': array([ 1, 32, 32,  1], dtype=int32),\n",
       "  'shape_signature': array([-1, 32, 32,  1], dtype=int32),\n",
       "  'dtype': numpy.int8,\n",
       "  'quantization': (0.003921568859368563, -128),\n",
       "  'quantization_parameters': {'scales': array([0.00392157], dtype=float32),\n",
       "   'zero_points': array([-128], dtype=int32),\n",
       "   'quantized_dimension': 0},\n",
       "  'sparsity_parameters': {}},\n",
       " {'name': 'lenet/sequential_2/flatten/Const',\n",
       "  'index': 1,\n",
       "  'shape': array([2], dtype=int32),\n",
       "  'shape_signature': array([2], dtype=int32),\n",
       "  'dtype': numpy.int32,\n",
       "  'quantization': (0.0, 0),\n",
       "  'quantization_parameters': {'scales': array([], dtype=float32),\n",
       "   'zero_points': array([], dtype=int32),\n",
       "   'quantized_dimension': 0},\n",
       "  'sparsity_parameters': {}},\n",
       " {'name': 'lenet/dense_1/BiasAdd/ReadVariableOp',\n",
       "  'index': 2,\n",
       "  'shape': array([10], dtype=int32),\n",
       "  'shape_signature': array([10], dtype=int32),\n",
       "  'dtype': numpy.int32,\n",
       "  'quantization': (3.7200734368525445e-05, 0),\n",
       "  'quantization_parameters': {'scales': array([3.7200734e-05], dtype=float32),\n",
       "   'zero_points': array([0], dtype=int32),\n",
       "   'quantized_dimension': 0},\n",
       "  'sparsity_parameters': {}},\n",
       " {'name': 'lenet/dense_1/MatMul',\n",
       "  'index': 3,\n",
       "  'shape': array([10, 84], dtype=int32),\n",
       "  'shape_signature': array([10, 84], dtype=int32),\n",
       "  'dtype': numpy.int8,\n",
       "  'quantization': (0.004761693999171257, 0),\n",
       "  'quantization_parameters': {'scales': array([0.00476169], dtype=float32),\n",
       "   'zero_points': array([0], dtype=int32),\n",
       "   'quantized_dimension': 0},\n",
       "  'sparsity_parameters': {}},\n",
       " {'name': 'lenet/dense/BiasAdd/ReadVariableOp',\n",
       "  'index': 4,\n",
       "  'shape': array([84], dtype=int32),\n",
       "  'shape_signature': array([84], dtype=int32),\n",
       "  'dtype': numpy.int32,\n",
       "  'quantization': (3.997467501903884e-05, 0),\n",
       "  'quantization_parameters': {'scales': array([3.9974675e-05], dtype=float32),\n",
       "   'zero_points': array([0], dtype=int32),\n",
       "   'quantized_dimension': 0},\n",
       "  'sparsity_parameters': {}},\n",
       " {'name': 'lenet/dense/MatMul',\n",
       "  'index': 5,\n",
       "  'shape': array([ 84, 120], dtype=int32),\n",
       "  'shape_signature': array([ 84, 120], dtype=int32),\n",
       "  'dtype': numpy.int8,\n",
       "  'quantization': (0.005116758402436972, 0),\n",
       "  'quantization_parameters': {'scales': array([0.00511676], dtype=float32),\n",
       "   'zero_points': array([0], dtype=int32),\n",
       "   'quantized_dimension': 0},\n",
       "  'sparsity_parameters': {}},\n",
       " {'name': 'lenet/sequential_2/conv2d_2/BiasAdd/ReadVariableOp',\n",
       "  'index': 6,\n",
       "  'shape': array([120], dtype=int32),\n",
       "  'shape_signature': array([120], dtype=int32),\n",
       "  'dtype': numpy.int32,\n",
       "  'quantization': (0.0, 0),\n",
       "  'quantization_parameters': {'scales': array([6.1193323e-06, 5.0782319e-06, 3.7486463e-06, 6.3105263e-06,\n",
       "          6.4221513e-06, 5.2682340e-06, 4.0402992e-06, 5.9686445e-06,\n",
       "          5.8788019e-06, 6.0122711e-06, 5.2137220e-06, 4.8965317e-06,\n",
       "          4.9223004e-06, 4.3616656e-06, 5.4446668e-06, 6.1272685e-06,\n",
       "          5.2354903e-06, 4.5301626e-06, 4.8573802e-06, 6.5909358e-06,\n",
       "          5.6131530e-06, 5.3394060e-06, 5.6932031e-06, 6.3511202e-06,\n",
       "          5.3477147e-06, 5.4524003e-06, 4.6216674e-06, 4.0496784e-06,\n",
       "          5.3106437e-06, 5.8246410e-06, 4.1041208e-06, 5.2190353e-06,\n",
       "          5.2908449e-06, 7.5042444e-06, 6.5125387e-06, 5.9275144e-06,\n",
       "          5.0168046e-06, 4.0997670e-06, 5.3656950e-06, 7.6334654e-06,\n",
       "          6.4096912e-06, 4.3271057e-06, 5.3077438e-06, 5.2479104e-06,\n",
       "          5.5823270e-06, 4.8054262e-06, 5.4773100e-06, 4.9682817e-06,\n",
       "          4.9494661e-06, 5.6729059e-06, 5.2580881e-06, 5.9475633e-06,\n",
       "          5.6633448e-06, 5.3192939e-06, 5.4320176e-06, 5.6801441e-06,\n",
       "          6.2225017e-06, 5.7213551e-06, 6.2874997e-06, 5.9016925e-06,\n",
       "          6.9618727e-06, 5.7705060e-06, 4.8328111e-06, 6.4030696e-06,\n",
       "          5.1029419e-06, 6.6521193e-06, 5.7068664e-06, 6.6589109e-06,\n",
       "          5.3552781e-06, 5.4329016e-06, 4.7170406e-06, 6.7353217e-06,\n",
       "          5.4292204e-06, 6.0572147e-06, 6.2184276e-06, 6.2859581e-06,\n",
       "          7.1317863e-06, 6.6954308e-06, 6.8882186e-06, 6.9123575e-06,\n",
       "          5.3119552e-06, 5.6606204e-06, 6.1346359e-06, 6.2975655e-06,\n",
       "          5.5139512e-06, 6.2033964e-06, 5.5940009e-06, 4.4541457e-06,\n",
       "          5.4854968e-06, 5.4121456e-06, 6.1925612e-06, 4.8076167e-06,\n",
       "          6.1539854e-06, 5.4048601e-06, 5.9080335e-06, 6.0350526e-06,\n",
       "          5.5489745e-06, 4.4773142e-06, 5.5679679e-06, 5.6406670e-06,\n",
       "          8.3921650e-06, 6.8764948e-06, 5.0229764e-06, 7.2383218e-06,\n",
       "          5.9409786e-06, 5.9178178e-06, 4.5977445e-06, 5.4469419e-06,\n",
       "          6.1783308e-06, 6.5695949e-06, 5.3503472e-06, 6.0240618e-06,\n",
       "          6.1952956e-06, 4.5848983e-06, 5.6781109e-06, 5.4569036e-06,\n",
       "          5.9867843e-06, 6.8319050e-06, 6.3253533e-06, 5.9187646e-06],\n",
       "         dtype=float32),\n",
       "   'zero_points': array([0, 0, 0, 0, 0, 0, 0, 0, 0, 0, 0, 0, 0, 0, 0, 0, 0, 0, 0, 0, 0, 0,\n",
       "          0, 0, 0, 0, 0, 0, 0, 0, 0, 0, 0, 0, 0, 0, 0, 0, 0, 0, 0, 0, 0, 0,\n",
       "          0, 0, 0, 0, 0, 0, 0, 0, 0, 0, 0, 0, 0, 0, 0, 0, 0, 0, 0, 0, 0, 0,\n",
       "          0, 0, 0, 0, 0, 0, 0, 0, 0, 0, 0, 0, 0, 0, 0, 0, 0, 0, 0, 0, 0, 0,\n",
       "          0, 0, 0, 0, 0, 0, 0, 0, 0, 0, 0, 0, 0, 0, 0, 0, 0, 0, 0, 0, 0, 0,\n",
       "          0, 0, 0, 0, 0, 0, 0, 0, 0, 0], dtype=int32),\n",
       "   'quantized_dimension': 0},\n",
       "  'sparsity_parameters': {}},\n",
       " {'name': 'lenet/sequential_2/conv2d_2/Conv2D',\n",
       "  'index': 7,\n",
       "  'shape': array([120,   5,   5,  16], dtype=int32),\n",
       "  'shape_signature': array([120,   5,   5,  16], dtype=int32),\n",
       "  'dtype': numpy.int8,\n",
       "  'quantization': (0.0, 0),\n",
       "  'quantization_parameters': {'scales': array([0.00156655, 0.00130003, 0.00095965, 0.00161549, 0.00164407,\n",
       "          0.00134867, 0.00103432, 0.00152797, 0.00150497, 0.00153914,\n",
       "          0.00133471, 0.00125351, 0.00126011, 0.00111659, 0.00139383,\n",
       "          0.00156858, 0.00134029, 0.00115972, 0.00124349, 0.00168728,\n",
       "          0.00143697, 0.00136689, 0.00145746, 0.00162589, 0.00136901,\n",
       "          0.00139581, 0.00118315, 0.00103672, 0.00135952, 0.00149111,\n",
       "          0.00105065, 0.00133607, 0.00135446, 0.00192109, 0.00166721,\n",
       "          0.00151744, 0.0012843 , 0.00104954, 0.00137362, 0.00195417,\n",
       "          0.00164088, 0.00110774, 0.00135878, 0.00134347, 0.00142908,\n",
       "          0.00123019, 0.00140219, 0.00127188, 0.00126706, 0.00145226,\n",
       "          0.00134607, 0.00152258, 0.00144982, 0.00136174, 0.0013906 ,\n",
       "          0.00145412, 0.00159296, 0.00146467, 0.0016096 , 0.00151083,\n",
       "          0.00178224, 0.00147725, 0.0012372 , 0.00163919, 0.00130635,\n",
       "          0.00170294, 0.00146096, 0.00170468, 0.00137095, 0.00139082,\n",
       "          0.00120756, 0.00172424, 0.00138988, 0.00155065, 0.00159192,\n",
       "          0.00160921, 0.00182574, 0.00171403, 0.00176338, 0.00176956,\n",
       "          0.00135986, 0.00144912, 0.00157047, 0.00161218, 0.00141157,\n",
       "          0.00158807, 0.00143206, 0.00114026, 0.00140429, 0.00138551,\n",
       "          0.0015853 , 0.00123075, 0.00157542, 0.00138364, 0.00151246,\n",
       "          0.00154497, 0.00142054, 0.00114619, 0.0014254 , 0.00144401,\n",
       "          0.00214839, 0.00176038, 0.00128588, 0.00185301, 0.00152089,\n",
       "          0.00151496, 0.00117702, 0.00139442, 0.00158165, 0.00168182,\n",
       "          0.00136969, 0.00154216, 0.001586  , 0.00117373, 0.0014536 ,\n",
       "          0.00139697, 0.00153262, 0.00174897, 0.00161929, 0.0015152 ],\n",
       "         dtype=float32),\n",
       "   'zero_points': array([0, 0, 0, 0, 0, 0, 0, 0, 0, 0, 0, 0, 0, 0, 0, 0, 0, 0, 0, 0, 0, 0,\n",
       "          0, 0, 0, 0, 0, 0, 0, 0, 0, 0, 0, 0, 0, 0, 0, 0, 0, 0, 0, 0, 0, 0,\n",
       "          0, 0, 0, 0, 0, 0, 0, 0, 0, 0, 0, 0, 0, 0, 0, 0, 0, 0, 0, 0, 0, 0,\n",
       "          0, 0, 0, 0, 0, 0, 0, 0, 0, 0, 0, 0, 0, 0, 0, 0, 0, 0, 0, 0, 0, 0,\n",
       "          0, 0, 0, 0, 0, 0, 0, 0, 0, 0, 0, 0, 0, 0, 0, 0, 0, 0, 0, 0, 0, 0,\n",
       "          0, 0, 0, 0, 0, 0, 0, 0, 0, 0], dtype=int32),\n",
       "   'quantized_dimension': 0},\n",
       "  'sparsity_parameters': {}},\n",
       " {'name': 'lenet/sequential_1/conv2d_1/BiasAdd/ReadVariableOp',\n",
       "  'index': 8,\n",
       "  'shape': array([16], dtype=int32),\n",
       "  'shape_signature': array([16], dtype=int32),\n",
       "  'dtype': numpy.int32,\n",
       "  'quantization': (0.0, 0),\n",
       "  'quantization_parameters': {'scales': array([1.4442178e-05, 1.2244815e-05, 5.8405981e-06, 5.5668870e-06,\n",
       "          1.1260083e-05, 1.2118382e-05, 5.4796042e-06, 1.2269288e-05,\n",
       "          6.2812328e-06, 1.5399637e-05, 6.0751613e-06, 5.7889688e-06,\n",
       "          6.1792530e-06, 5.9300719e-06, 5.3752792e-06, 1.1114510e-05],\n",
       "         dtype=float32),\n",
       "   'zero_points': array([0, 0, 0, 0, 0, 0, 0, 0, 0, 0, 0, 0, 0, 0, 0, 0], dtype=int32),\n",
       "   'quantized_dimension': 0},\n",
       "  'sparsity_parameters': {}},\n",
       " {'name': 'lenet/sequential_1/conv2d_1/Conv2D',\n",
       "  'index': 9,\n",
       "  'shape': array([16,  5,  5,  6], dtype=int32),\n",
       "  'shape_signature': array([16,  5,  5,  6], dtype=int32),\n",
       "  'dtype': numpy.int8,\n",
       "  'quantization': (0.0, 0),\n",
       "  'quantization_parameters': {'scales': array([0.0036972 , 0.00313467, 0.00149519, 0.00142512, 0.00288258,\n",
       "          0.00310231, 0.00140278, 0.00314094, 0.001608  , 0.00394231,\n",
       "          0.00155524, 0.00148198, 0.00158189, 0.0015181 , 0.00137607,\n",
       "          0.00284531], dtype=float32),\n",
       "   'zero_points': array([0, 0, 0, 0, 0, 0, 0, 0, 0, 0, 0, 0, 0, 0, 0, 0], dtype=int32),\n",
       "   'quantized_dimension': 0},\n",
       "  'sparsity_parameters': {}},\n",
       " {'name': 'lenet/sequential/conv2d/BiasAdd/ReadVariableOp',\n",
       "  'index': 10,\n",
       "  'shape': array([6], dtype=int32),\n",
       "  'shape_signature': array([6], dtype=int32),\n",
       "  'dtype': numpy.int32,\n",
       "  'quantization': (0.0, 0),\n",
       "  'quantization_parameters': {'scales': array([2.3021070e-05, 2.8138382e-05, 3.0988525e-05, 2.4449737e-05,\n",
       "          2.8222974e-05, 3.3232605e-05], dtype=float32),\n",
       "   'zero_points': array([0, 0, 0, 0, 0, 0], dtype=int32),\n",
       "   'quantized_dimension': 0},\n",
       "  'sparsity_parameters': {}},\n",
       " {'name': 'lenet/sequential/conv2d/Conv2D',\n",
       "  'index': 11,\n",
       "  'shape': array([6, 5, 5, 1], dtype=int32),\n",
       "  'shape_signature': array([6, 5, 5, 1], dtype=int32),\n",
       "  'dtype': numpy.int8,\n",
       "  'quantization': (0.0, 0),\n",
       "  'quantization_parameters': {'scales': array([0.00587037, 0.00717529, 0.00790207, 0.00623468, 0.00719686,\n",
       "          0.00847431], dtype=float32),\n",
       "   'zero_points': array([0, 0, 0, 0, 0, 0], dtype=int32),\n",
       "   'quantized_dimension': 0},\n",
       "  'sparsity_parameters': {}},\n",
       " {'name': 'lenet/sequential/conv2d/BiasAdd;lenet/sequential/conv2d/Conv2D;lenet/sequential/conv2d/BiasAdd/ReadVariableOp',\n",
       "  'index': 12,\n",
       "  'shape': array([ 1, 28, 28,  6], dtype=int32),\n",
       "  'shape_signature': array([-1, 28, 28,  6], dtype=int32),\n",
       "  'dtype': numpy.int8,\n",
       "  'quantization': (0.05533444136381149, -12),\n",
       "  'quantization_parameters': {'scales': array([0.05533444], dtype=float32),\n",
       "   'zero_points': array([-12], dtype=int32),\n",
       "   'quantized_dimension': 0},\n",
       "  'sparsity_parameters': {}},\n",
       " {'name': 'lenet/sequential/conv2d/Tanh',\n",
       "  'index': 13,\n",
       "  'shape': array([ 1, 28, 28,  6], dtype=int32),\n",
       "  'shape_signature': array([-1, 28, 28,  6], dtype=int32),\n",
       "  'dtype': numpy.int8,\n",
       "  'quantization': (0.0078125, 0),\n",
       "  'quantization_parameters': {'scales': array([0.0078125], dtype=float32),\n",
       "   'zero_points': array([0], dtype=int32),\n",
       "   'quantized_dimension': 0},\n",
       "  'sparsity_parameters': {}},\n",
       " {'name': 'lenet/sequential/average_pooling2d/AvgPool',\n",
       "  'index': 14,\n",
       "  'shape': array([ 1, 14, 14,  6], dtype=int32),\n",
       "  'shape_signature': array([-1, 14, 14,  6], dtype=int32),\n",
       "  'dtype': numpy.int8,\n",
       "  'quantization': (0.0078125, 0),\n",
       "  'quantization_parameters': {'scales': array([0.0078125], dtype=float32),\n",
       "   'zero_points': array([0], dtype=int32),\n",
       "   'quantized_dimension': 0},\n",
       "  'sparsity_parameters': {}},\n",
       " {'name': 'lenet/sequential/activation/Sigmoid',\n",
       "  'index': 15,\n",
       "  'shape': array([ 1, 14, 14,  6], dtype=int32),\n",
       "  'shape_signature': array([-1, 14, 14,  6], dtype=int32),\n",
       "  'dtype': numpy.int8,\n",
       "  'quantization': (0.00390625, -128),\n",
       "  'quantization_parameters': {'scales': array([0.00390625], dtype=float32),\n",
       "   'zero_points': array([-128], dtype=int32),\n",
       "   'quantized_dimension': 0},\n",
       "  'sparsity_parameters': {}},\n",
       " {'name': 'lenet/sequential_1/conv2d_1/BiasAdd;lenet/sequential_1/conv2d_1/Conv2D;lenet/sequential_1/conv2d_1/BiasAdd/ReadVariableOp',\n",
       "  'index': 16,\n",
       "  'shape': array([ 1, 10, 10, 16], dtype=int32),\n",
       "  'shape_signature': array([-1, 10, 10, 16], dtype=int32),\n",
       "  'dtype': numpy.int8,\n",
       "  'quantization': (0.04205252602696419, 28),\n",
       "  'quantization_parameters': {'scales': array([0.04205253], dtype=float32),\n",
       "   'zero_points': array([28], dtype=int32),\n",
       "   'quantized_dimension': 0},\n",
       "  'sparsity_parameters': {}},\n",
       " {'name': 'lenet/sequential_1/conv2d_1/Tanh',\n",
       "  'index': 17,\n",
       "  'shape': array([ 1, 10, 10, 16], dtype=int32),\n",
       "  'shape_signature': array([-1, 10, 10, 16], dtype=int32),\n",
       "  'dtype': numpy.int8,\n",
       "  'quantization': (0.0078125, 0),\n",
       "  'quantization_parameters': {'scales': array([0.0078125], dtype=float32),\n",
       "   'zero_points': array([0], dtype=int32),\n",
       "   'quantized_dimension': 0},\n",
       "  'sparsity_parameters': {}},\n",
       " {'name': 'lenet/sequential_1/average_pooling2d_1/AvgPool',\n",
       "  'index': 18,\n",
       "  'shape': array([ 1,  5,  5, 16], dtype=int32),\n",
       "  'shape_signature': array([-1,  5,  5, 16], dtype=int32),\n",
       "  'dtype': numpy.int8,\n",
       "  'quantization': (0.0078125, 0),\n",
       "  'quantization_parameters': {'scales': array([0.0078125], dtype=float32),\n",
       "   'zero_points': array([0], dtype=int32),\n",
       "   'quantized_dimension': 0},\n",
       "  'sparsity_parameters': {}},\n",
       " {'name': 'lenet/sequential_1/activation_1/Sigmoid',\n",
       "  'index': 19,\n",
       "  'shape': array([ 1,  5,  5, 16], dtype=int32),\n",
       "  'shape_signature': array([-1,  5,  5, 16], dtype=int32),\n",
       "  'dtype': numpy.int8,\n",
       "  'quantization': (0.00390625, -128),\n",
       "  'quantization_parameters': {'scales': array([0.00390625], dtype=float32),\n",
       "   'zero_points': array([-128], dtype=int32),\n",
       "   'quantized_dimension': 0},\n",
       "  'sparsity_parameters': {}},\n",
       " {'name': 'lenet/sequential_2/conv2d_2/BiasAdd;lenet/sequential_2/conv2d_2/Conv2D;lenet/sequential_2/conv2d_2/BiasAdd/ReadVariableOp',\n",
       "  'index': 20,\n",
       "  'shape': array([  1,   1,   1, 120], dtype=int32),\n",
       "  'shape_signature': array([ -1,   1,   1, 120], dtype=int32),\n",
       "  'dtype': numpy.int8,\n",
       "  'quantization': (0.010792302899062634, 10),\n",
       "  'quantization_parameters': {'scales': array([0.0107923], dtype=float32),\n",
       "   'zero_points': array([10], dtype=int32),\n",
       "   'quantized_dimension': 0},\n",
       "  'sparsity_parameters': {}},\n",
       " {'name': 'lenet/sequential_2/conv2d_2/Tanh',\n",
       "  'index': 21,\n",
       "  'shape': array([  1,   1,   1, 120], dtype=int32),\n",
       "  'shape_signature': array([ -1,   1,   1, 120], dtype=int32),\n",
       "  'dtype': numpy.int8,\n",
       "  'quantization': (0.0078125, 0),\n",
       "  'quantization_parameters': {'scales': array([0.0078125], dtype=float32),\n",
       "   'zero_points': array([0], dtype=int32),\n",
       "   'quantized_dimension': 0},\n",
       "  'sparsity_parameters': {}},\n",
       " {'name': 'lenet/sequential_2/flatten/Reshape',\n",
       "  'index': 22,\n",
       "  'shape': array([  1, 120], dtype=int32),\n",
       "  'shape_signature': array([ -1, 120], dtype=int32),\n",
       "  'dtype': numpy.int8,\n",
       "  'quantization': (0.0078125, 0),\n",
       "  'quantization_parameters': {'scales': array([0.0078125], dtype=float32),\n",
       "   'zero_points': array([0], dtype=int32),\n",
       "   'quantized_dimension': 0},\n",
       "  'sparsity_parameters': {}},\n",
       " {'name': 'lenet/dense/MatMul;lenet/dense/BiasAdd',\n",
       "  'index': 23,\n",
       "  'shape': array([ 1, 84], dtype=int32),\n",
       "  'shape_signature': array([-1, 84], dtype=int32),\n",
       "  'dtype': numpy.int8,\n",
       "  'quantization': (0.06151371821761131, 7),\n",
       "  'quantization_parameters': {'scales': array([0.06151372], dtype=float32),\n",
       "   'zero_points': array([7], dtype=int32),\n",
       "   'quantized_dimension': 0},\n",
       "  'sparsity_parameters': {}},\n",
       " {'name': 'lenet/dense/Tanh',\n",
       "  'index': 24,\n",
       "  'shape': array([ 1, 84], dtype=int32),\n",
       "  'shape_signature': array([-1, 84], dtype=int32),\n",
       "  'dtype': numpy.int8,\n",
       "  'quantization': (0.0078125, 0),\n",
       "  'quantization_parameters': {'scales': array([0.0078125], dtype=float32),\n",
       "   'zero_points': array([0], dtype=int32),\n",
       "   'quantized_dimension': 0},\n",
       "  'sparsity_parameters': {}},\n",
       " {'name': 'lenet/dense_1/MatMul;lenet/dense_1/BiasAdd',\n",
       "  'index': 25,\n",
       "  'shape': array([ 1, 10], dtype=int32),\n",
       "  'shape_signature': array([-1, 10], dtype=int32),\n",
       "  'dtype': numpy.int8,\n",
       "  'quantization': (0.09972357749938965, 5),\n",
       "  'quantization_parameters': {'scales': array([0.09972358], dtype=float32),\n",
       "   'zero_points': array([5], dtype=int32),\n",
       "   'quantized_dimension': 0},\n",
       "  'sparsity_parameters': {}},\n",
       " {'name': 'StatefulPartitionedCall:0',\n",
       "  'index': 26,\n",
       "  'shape': array([ 1, 10], dtype=int32),\n",
       "  'shape_signature': array([-1, 10], dtype=int32),\n",
       "  'dtype': numpy.int8,\n",
       "  'quantization': (0.00390625, -128),\n",
       "  'quantization_parameters': {'scales': array([0.00390625], dtype=float32),\n",
       "   'zero_points': array([-128], dtype=int32),\n",
       "   'quantized_dimension': 0},\n",
       "  'sparsity_parameters': {}}]"
      ]
     },
     "execution_count": 19,
     "metadata": {},
     "output_type": "execute_result"
    }
   ],
   "source": [
    "interpreter = tf.lite.Interpreter(model_path=\"lenet5_mnist.tflite\", experimental_preserve_all_tensors=True)\n",
    "interpreter_edited = tf.lite.Interpreter(model_path=\"lenet5_edited.tflite\")\n",
    "\n",
    "tf.lite.experimental.Analyzer.analyze(model_path=\"lenet5_edited.tflite\")\n",
    "tf.lite.experimental.Analyzer.analyze(model_path=\"lenet5_mnist.tflite\")\n",
    "\n",
    "interpreter.get_tensor_details()"
   ]
  },
  {
   "cell_type": "code",
   "execution_count": null,
   "metadata": {
    "colab": {
     "base_uri": "https://localhost:8080/"
    },
    "id": "WXWtHAfJJrsq",
    "outputId": "6844da5e-c10f-4413-b1ab-7ae76c958556"
   },
   "outputs": [
    {
     "data": {
      "text/plain": [
       "[{'name': 'serving_default_args_0:0',\n",
       "  'index': 0,\n",
       "  'shape': array([ 1, 32, 32,  1], dtype=int32),\n",
       "  'shape_signature': array([-1, 32, 32,  1], dtype=int32),\n",
       "  'dtype': numpy.int8,\n",
       "  'quantization': (0.003921568859368563, -128),\n",
       "  'quantization_parameters': {'scales': array([0.00392157], dtype=float32),\n",
       "   'zero_points': array([-128], dtype=int32),\n",
       "   'quantized_dimension': 0},\n",
       "  'sparsity_parameters': {}},\n",
       " {'name': 'serving_default_args_1:0',\n",
       "  'index': 1,\n",
       "  'shape': array([  1, 120], dtype=int32),\n",
       "  'shape_signature': array([ -1, 120], dtype=int32),\n",
       "  'dtype': numpy.int8,\n",
       "  'quantization': (0.0078125, 0),\n",
       "  'quantization_parameters': {'scales': array([0.0078125], dtype=float32),\n",
       "   'zero_points': array([0], dtype=int32),\n",
       "   'quantized_dimension': 0},\n",
       "  'sparsity_parameters': {}},\n",
       " {'name': 'lenet_21/sequential_63/flatten_20/Const',\n",
       "  'index': 2,\n",
       "  'shape': array([2], dtype=int32),\n",
       "  'shape_signature': array([2], dtype=int32),\n",
       "  'dtype': numpy.int32,\n",
       "  'quantization': (0.0, 0),\n",
       "  'quantization_parameters': {'scales': array([], dtype=float32),\n",
       "   'zero_points': array([], dtype=int32),\n",
       "   'quantized_dimension': 0},\n",
       "  'sparsity_parameters': {}},\n",
       " {'name': 'lenet_21/sequential_63/conv2d_63/BiasAdd/ReadVariableOp',\n",
       "  'index': 3,\n",
       "  'shape': array([120], dtype=int32),\n",
       "  'shape_signature': array([120], dtype=int32),\n",
       "  'dtype': numpy.int32,\n",
       "  'quantization': (0.0, 0),\n",
       "  'quantization_parameters': {'scales': array([6.1193323e-06, 5.0782319e-06, 3.7486463e-06, 6.3105263e-06,\n",
       "          6.4221513e-06, 5.2682340e-06, 4.0402992e-06, 5.9686445e-06,\n",
       "          5.8788019e-06, 6.0122711e-06, 5.2137220e-06, 4.8965317e-06,\n",
       "          4.9223004e-06, 4.3616656e-06, 5.4446668e-06, 6.1272685e-06,\n",
       "          5.2354903e-06, 4.5301626e-06, 4.8573802e-06, 6.5909358e-06,\n",
       "          5.6131530e-06, 5.3394060e-06, 5.6932031e-06, 6.3511202e-06,\n",
       "          5.3477147e-06, 5.4524003e-06, 4.6216674e-06, 4.0496784e-06,\n",
       "          5.3106437e-06, 5.8246410e-06, 4.1041208e-06, 5.2190353e-06,\n",
       "          5.2908449e-06, 7.5042444e-06, 6.5125387e-06, 5.9275144e-06,\n",
       "          5.0168046e-06, 4.0997670e-06, 5.3656950e-06, 7.6334654e-06,\n",
       "          6.4096912e-06, 4.3271057e-06, 5.3077438e-06, 5.2479104e-06,\n",
       "          5.5823270e-06, 4.8054262e-06, 5.4773100e-06, 4.9682817e-06,\n",
       "          4.9494661e-06, 5.6729059e-06, 5.2580881e-06, 5.9475633e-06,\n",
       "          5.6633448e-06, 5.3192939e-06, 5.4320176e-06, 5.6801441e-06,\n",
       "          6.2225017e-06, 5.7213551e-06, 6.2874997e-06, 5.9016925e-06,\n",
       "          6.9618727e-06, 5.7705060e-06, 4.8328111e-06, 6.4030696e-06,\n",
       "          5.1029419e-06, 6.6521193e-06, 5.7068664e-06, 6.6589109e-06,\n",
       "          5.3552781e-06, 5.4329016e-06, 4.7170406e-06, 6.7353217e-06,\n",
       "          5.4292204e-06, 6.0572147e-06, 6.2184276e-06, 6.2859581e-06,\n",
       "          7.1317863e-06, 6.6954308e-06, 6.8882186e-06, 6.9123575e-06,\n",
       "          5.3119552e-06, 5.6606204e-06, 6.1346359e-06, 6.2975655e-06,\n",
       "          5.5139512e-06, 6.2033964e-06, 5.5940009e-06, 4.4541457e-06,\n",
       "          5.4854968e-06, 5.4121456e-06, 6.1925612e-06, 4.8076167e-06,\n",
       "          6.1539854e-06, 5.4048601e-06, 5.9080335e-06, 6.0350526e-06,\n",
       "          5.5489745e-06, 4.4773142e-06, 5.5679679e-06, 5.6406670e-06,\n",
       "          8.3921650e-06, 6.8764948e-06, 5.0229764e-06, 7.2383218e-06,\n",
       "          5.9409786e-06, 5.9178178e-06, 4.5977445e-06, 5.4469419e-06,\n",
       "          6.1783308e-06, 6.5695949e-06, 5.3503472e-06, 6.0240618e-06,\n",
       "          6.1952956e-06, 4.5848983e-06, 5.6781109e-06, 5.4569036e-06,\n",
       "          5.9867843e-06, 6.8319050e-06, 6.3253533e-06, 5.9187646e-06],\n",
       "         dtype=float32),\n",
       "   'zero_points': array([0, 0, 0, 0, 0, 0, 0, 0, 0, 0, 0, 0, 0, 0, 0, 0, 0, 0, 0, 0, 0, 0,\n",
       "          0, 0, 0, 0, 0, 0, 0, 0, 0, 0, 0, 0, 0, 0, 0, 0, 0, 0, 0, 0, 0, 0,\n",
       "          0, 0, 0, 0, 0, 0, 0, 0, 0, 0, 0, 0, 0, 0, 0, 0, 0, 0, 0, 0, 0, 0,\n",
       "          0, 0, 0, 0, 0, 0, 0, 0, 0, 0, 0, 0, 0, 0, 0, 0, 0, 0, 0, 0, 0, 0,\n",
       "          0, 0, 0, 0, 0, 0, 0, 0, 0, 0, 0, 0, 0, 0, 0, 0, 0, 0, 0, 0, 0, 0,\n",
       "          0, 0, 0, 0, 0, 0, 0, 0, 0, 0], dtype=int32),\n",
       "   'quantized_dimension': 0},\n",
       "  'sparsity_parameters': {}},\n",
       " {'name': 'lenet_21/sequential_63/conv2d_63/Conv2D',\n",
       "  'index': 4,\n",
       "  'shape': array([120,   5,   5,  16], dtype=int32),\n",
       "  'shape_signature': array([120,   5,   5,  16], dtype=int32),\n",
       "  'dtype': numpy.int8,\n",
       "  'quantization': (0.0, 0),\n",
       "  'quantization_parameters': {'scales': array([0.00156655, 0.00130003, 0.00095965, 0.00161549, 0.00164407,\n",
       "          0.00134867, 0.00103432, 0.00152797, 0.00150497, 0.00153914,\n",
       "          0.00133471, 0.00125351, 0.00126011, 0.00111659, 0.00139383,\n",
       "          0.00156858, 0.00134029, 0.00115972, 0.00124349, 0.00168728,\n",
       "          0.00143697, 0.00136689, 0.00145746, 0.00162589, 0.00136901,\n",
       "          0.00139581, 0.00118315, 0.00103672, 0.00135952, 0.00149111,\n",
       "          0.00105065, 0.00133607, 0.00135446, 0.00192109, 0.00166721,\n",
       "          0.00151744, 0.0012843 , 0.00104954, 0.00137362, 0.00195417,\n",
       "          0.00164088, 0.00110774, 0.00135878, 0.00134347, 0.00142908,\n",
       "          0.00123019, 0.00140219, 0.00127188, 0.00126706, 0.00145226,\n",
       "          0.00134607, 0.00152258, 0.00144982, 0.00136174, 0.0013906 ,\n",
       "          0.00145412, 0.00159296, 0.00146467, 0.0016096 , 0.00151083,\n",
       "          0.00178224, 0.00147725, 0.0012372 , 0.00163919, 0.00130635,\n",
       "          0.00170294, 0.00146096, 0.00170468, 0.00137095, 0.00139082,\n",
       "          0.00120756, 0.00172424, 0.00138988, 0.00155065, 0.00159192,\n",
       "          0.00160921, 0.00182574, 0.00171403, 0.00176338, 0.00176956,\n",
       "          0.00135986, 0.00144912, 0.00157047, 0.00161218, 0.00141157,\n",
       "          0.00158807, 0.00143206, 0.00114026, 0.00140429, 0.00138551,\n",
       "          0.0015853 , 0.00123075, 0.00157542, 0.00138364, 0.00151246,\n",
       "          0.00154497, 0.00142054, 0.00114619, 0.0014254 , 0.00144401,\n",
       "          0.00214839, 0.00176038, 0.00128588, 0.00185301, 0.00152089,\n",
       "          0.00151496, 0.00117702, 0.00139442, 0.00158165, 0.00168182,\n",
       "          0.00136969, 0.00154216, 0.001586  , 0.00117373, 0.0014536 ,\n",
       "          0.00139697, 0.00153262, 0.00174897, 0.00161929, 0.0015152 ],\n",
       "         dtype=float32),\n",
       "   'zero_points': array([0, 0, 0, 0, 0, 0, 0, 0, 0, 0, 0, 0, 0, 0, 0, 0, 0, 0, 0, 0, 0, 0,\n",
       "          0, 0, 0, 0, 0, 0, 0, 0, 0, 0, 0, 0, 0, 0, 0, 0, 0, 0, 0, 0, 0, 0,\n",
       "          0, 0, 0, 0, 0, 0, 0, 0, 0, 0, 0, 0, 0, 0, 0, 0, 0, 0, 0, 0, 0, 0,\n",
       "          0, 0, 0, 0, 0, 0, 0, 0, 0, 0, 0, 0, 0, 0, 0, 0, 0, 0, 0, 0, 0, 0,\n",
       "          0, 0, 0, 0, 0, 0, 0, 0, 0, 0, 0, 0, 0, 0, 0, 0, 0, 0, 0, 0, 0, 0,\n",
       "          0, 0, 0, 0, 0, 0, 0, 0, 0, 0], dtype=int32),\n",
       "   'quantized_dimension': 0},\n",
       "  'sparsity_parameters': {}},\n",
       " {'name': 'lenet_21/sequential_62/conv2d_62/BiasAdd/ReadVariableOp',\n",
       "  'index': 5,\n",
       "  'shape': array([16], dtype=int32),\n",
       "  'shape_signature': array([16], dtype=int32),\n",
       "  'dtype': numpy.int32,\n",
       "  'quantization': (0.0, 0),\n",
       "  'quantization_parameters': {'scales': array([1.4442178e-05, 1.2244815e-05, 5.8405981e-06, 5.5668870e-06,\n",
       "          1.1260083e-05, 1.2118382e-05, 5.4796042e-06, 1.2269288e-05,\n",
       "          6.2812328e-06, 1.5399637e-05, 6.0751613e-06, 5.7889688e-06,\n",
       "          6.1792530e-06, 5.9300719e-06, 5.3752792e-06, 1.1114510e-05],\n",
       "         dtype=float32),\n",
       "   'zero_points': array([0, 0, 0, 0, 0, 0, 0, 0, 0, 0, 0, 0, 0, 0, 0, 0], dtype=int32),\n",
       "   'quantized_dimension': 0},\n",
       "  'sparsity_parameters': {}},\n",
       " {'name': 'lenet_21/sequential_62/conv2d_62/Conv2D',\n",
       "  'index': 6,\n",
       "  'shape': array([16,  5,  5,  6], dtype=int32),\n",
       "  'shape_signature': array([16,  5,  5,  6], dtype=int32),\n",
       "  'dtype': numpy.int8,\n",
       "  'quantization': (0.0, 0),\n",
       "  'quantization_parameters': {'scales': array([0.0036972 , 0.00313467, 0.00149519, 0.00142512, 0.00288258,\n",
       "          0.00310231, 0.00140278, 0.00314094, 0.001608  , 0.00394231,\n",
       "          0.00155524, 0.00148198, 0.00158189, 0.0015181 , 0.00137607,\n",
       "          0.00284531], dtype=float32),\n",
       "   'zero_points': array([0, 0, 0, 0, 0, 0, 0, 0, 0, 0, 0, 0, 0, 0, 0, 0], dtype=int32),\n",
       "   'quantized_dimension': 0},\n",
       "  'sparsity_parameters': {}},\n",
       " {'name': 'lenet_21/sequential_61/conv2d_61/BiasAdd/ReadVariableOp',\n",
       "  'index': 7,\n",
       "  'shape': array([6], dtype=int32),\n",
       "  'shape_signature': array([6], dtype=int32),\n",
       "  'dtype': numpy.int32,\n",
       "  'quantization': (0.0, 0),\n",
       "  'quantization_parameters': {'scales': array([2.3021070e-05, 2.8138382e-05, 3.0988525e-05, 2.4449737e-05,\n",
       "          2.8222974e-05, 3.3232605e-05], dtype=float32),\n",
       "   'zero_points': array([0, 0, 0, 0, 0, 0], dtype=int32),\n",
       "   'quantized_dimension': 0},\n",
       "  'sparsity_parameters': {}},\n",
       " {'name': 'lenet_21/sequential_61/conv2d_61/Conv2D',\n",
       "  'index': 8,\n",
       "  'shape': array([6, 5, 5, 1], dtype=int32),\n",
       "  'shape_signature': array([6, 5, 5, 1], dtype=int32),\n",
       "  'dtype': numpy.int8,\n",
       "  'quantization': (0.0, 0),\n",
       "  'quantization_parameters': {'scales': array([0.00587037, 0.00717529, 0.00790207, 0.00623468, 0.00719686,\n",
       "          0.00847431], dtype=float32),\n",
       "   'zero_points': array([0, 0, 0, 0, 0, 0], dtype=int32),\n",
       "   'quantized_dimension': 0},\n",
       "  'sparsity_parameters': {}},\n",
       " {'name': 'lenet_21/dense_41/BiasAdd/ReadVariableOp',\n",
       "  'index': 9,\n",
       "  'shape': array([10], dtype=int32),\n",
       "  'shape_signature': array([10], dtype=int32),\n",
       "  'dtype': numpy.int32,\n",
       "  'quantization': (3.7200734368525445e-05, 0),\n",
       "  'quantization_parameters': {'scales': array([3.7200734e-05], dtype=float32),\n",
       "   'zero_points': array([0], dtype=int32),\n",
       "   'quantized_dimension': 0},\n",
       "  'sparsity_parameters': {}},\n",
       " {'name': 'lenet_21/dense_41/BiasAdd/ReadVariableOp1',\n",
       "  'index': 10,\n",
       "  'shape': array([10], dtype=int32),\n",
       "  'shape_signature': array([10], dtype=int32),\n",
       "  'dtype': numpy.int32,\n",
       "  'quantization': (3.7200734368525445e-05, 0),\n",
       "  'quantization_parameters': {'scales': array([3.7200734e-05], dtype=float32),\n",
       "   'zero_points': array([0], dtype=int32),\n",
       "   'quantized_dimension': 0},\n",
       "  'sparsity_parameters': {}},\n",
       " {'name': 'lenet_21/dense_41/MatMul_1',\n",
       "  'index': 11,\n",
       "  'shape': array([10, 84], dtype=int32),\n",
       "  'shape_signature': array([10, 84], dtype=int32),\n",
       "  'dtype': numpy.int8,\n",
       "  'quantization': (0.004761693999171257, 0),\n",
       "  'quantization_parameters': {'scales': array([0.00476169], dtype=float32),\n",
       "   'zero_points': array([0], dtype=int32),\n",
       "   'quantized_dimension': 0},\n",
       "  'sparsity_parameters': {}},\n",
       " {'name': 'lenet_21/dense_40/BiasAdd/ReadVariableOp',\n",
       "  'index': 12,\n",
       "  'shape': array([84], dtype=int32),\n",
       "  'shape_signature': array([84], dtype=int32),\n",
       "  'dtype': numpy.int32,\n",
       "  'quantization': (3.997467501903884e-05, 0),\n",
       "  'quantization_parameters': {'scales': array([3.9974675e-05], dtype=float32),\n",
       "   'zero_points': array([0], dtype=int32),\n",
       "   'quantized_dimension': 0},\n",
       "  'sparsity_parameters': {}},\n",
       " {'name': 'lenet_21/dense_40/BiasAdd/ReadVariableOp1',\n",
       "  'index': 13,\n",
       "  'shape': array([84], dtype=int32),\n",
       "  'shape_signature': array([84], dtype=int32),\n",
       "  'dtype': numpy.int32,\n",
       "  'quantization': (3.997467501903884e-05, 0),\n",
       "  'quantization_parameters': {'scales': array([3.9974675e-05], dtype=float32),\n",
       "   'zero_points': array([0], dtype=int32),\n",
       "   'quantized_dimension': 0},\n",
       "  'sparsity_parameters': {}},\n",
       " {'name': 'lenet_21/dense_40/MatMul_1',\n",
       "  'index': 14,\n",
       "  'shape': array([ 84, 120], dtype=int32),\n",
       "  'shape_signature': array([ 84, 120], dtype=int32),\n",
       "  'dtype': numpy.int8,\n",
       "  'quantization': (0.005116758402436972, 0),\n",
       "  'quantization_parameters': {'scales': array([0.00511676], dtype=float32),\n",
       "   'zero_points': array([0], dtype=int32),\n",
       "   'quantized_dimension': 0},\n",
       "  'sparsity_parameters': {}},\n",
       " {'name': 'lenet_21/dense_40/MatMul;lenet_21/dense_40/BiasAdd',\n",
       "  'index': 15,\n",
       "  'shape': array([ 1, 84], dtype=int32),\n",
       "  'shape_signature': array([-1, 84], dtype=int32),\n",
       "  'dtype': numpy.int8,\n",
       "  'quantization': (0.061513714492321014, 7),\n",
       "  'quantization_parameters': {'scales': array([0.06151371], dtype=float32),\n",
       "   'zero_points': array([7], dtype=int32),\n",
       "   'quantized_dimension': 0},\n",
       "  'sparsity_parameters': {}},\n",
       " {'name': 'lenet_21/dense_40/Tanh',\n",
       "  'index': 16,\n",
       "  'shape': array([ 1, 84], dtype=int32),\n",
       "  'shape_signature': array([-1, 84], dtype=int32),\n",
       "  'dtype': numpy.int8,\n",
       "  'quantization': (0.0078125, 0),\n",
       "  'quantization_parameters': {'scales': array([0.0078125], dtype=float32),\n",
       "   'zero_points': array([0], dtype=int32),\n",
       "   'quantized_dimension': 0},\n",
       "  'sparsity_parameters': {}},\n",
       " {'name': 'lenet_21/dense_41/MatMul;lenet_21/dense_41/BiasAdd',\n",
       "  'index': 17,\n",
       "  'shape': array([ 1, 10], dtype=int32),\n",
       "  'shape_signature': array([-1, 10], dtype=int32),\n",
       "  'dtype': numpy.int8,\n",
       "  'quantization': (0.10003606230020523, 5),\n",
       "  'quantization_parameters': {'scales': array([0.10003606], dtype=float32),\n",
       "   'zero_points': array([5], dtype=int32),\n",
       "   'quantized_dimension': 0},\n",
       "  'sparsity_parameters': {}},\n",
       " {'name': 'StatefulPartitionedCall:1',\n",
       "  'index': 18,\n",
       "  'shape': array([ 1, 10], dtype=int32),\n",
       "  'shape_signature': array([-1, 10], dtype=int32),\n",
       "  'dtype': numpy.int8,\n",
       "  'quantization': (0.00390625, -128),\n",
       "  'quantization_parameters': {'scales': array([0.00390625], dtype=float32),\n",
       "   'zero_points': array([-128], dtype=int32),\n",
       "   'quantized_dimension': 0},\n",
       "  'sparsity_parameters': {}},\n",
       " {'name': 'lenet_21/sequential_61/conv2d_61/BiasAdd;lenet_21/sequential_61/conv2d_61/Conv2D;lenet_21/sequential_61/conv2d_61/BiasAdd/ReadVariableOp',\n",
       "  'index': 19,\n",
       "  'shape': array([ 1, 28, 28,  6], dtype=int32),\n",
       "  'shape_signature': array([-1, 28, 28,  6], dtype=int32),\n",
       "  'dtype': numpy.int8,\n",
       "  'quantization': (0.05561614781618118, -12),\n",
       "  'quantization_parameters': {'scales': array([0.05561615], dtype=float32),\n",
       "   'zero_points': array([-12], dtype=int32),\n",
       "   'quantized_dimension': 0},\n",
       "  'sparsity_parameters': {}},\n",
       " {'name': 'lenet_21/sequential_61/conv2d_61/Tanh',\n",
       "  'index': 20,\n",
       "  'shape': array([ 1, 28, 28,  6], dtype=int32),\n",
       "  'shape_signature': array([-1, 28, 28,  6], dtype=int32),\n",
       "  'dtype': numpy.int8,\n",
       "  'quantization': (0.0078125, 0),\n",
       "  'quantization_parameters': {'scales': array([0.0078125], dtype=float32),\n",
       "   'zero_points': array([0], dtype=int32),\n",
       "   'quantized_dimension': 0},\n",
       "  'sparsity_parameters': {}},\n",
       " {'name': 'lenet_21/sequential_61/average_pooling2d_41/AvgPool',\n",
       "  'index': 21,\n",
       "  'shape': array([ 1, 14, 14,  6], dtype=int32),\n",
       "  'shape_signature': array([-1, 14, 14,  6], dtype=int32),\n",
       "  'dtype': numpy.int8,\n",
       "  'quantization': (0.0078125, 0),\n",
       "  'quantization_parameters': {'scales': array([0.0078125], dtype=float32),\n",
       "   'zero_points': array([0], dtype=int32),\n",
       "   'quantized_dimension': 0},\n",
       "  'sparsity_parameters': {}},\n",
       " {'name': 'lenet_21/sequential_61/activation_40/Sigmoid',\n",
       "  'index': 22,\n",
       "  'shape': array([ 1, 14, 14,  6], dtype=int32),\n",
       "  'shape_signature': array([-1, 14, 14,  6], dtype=int32),\n",
       "  'dtype': numpy.int8,\n",
       "  'quantization': (0.00390625, -128),\n",
       "  'quantization_parameters': {'scales': array([0.00390625], dtype=float32),\n",
       "   'zero_points': array([-128], dtype=int32),\n",
       "   'quantized_dimension': 0},\n",
       "  'sparsity_parameters': {}},\n",
       " {'name': 'lenet_21/sequential_62/conv2d_62/BiasAdd;lenet_21/sequential_62/conv2d_62/Conv2D;lenet_21/sequential_62/conv2d_62/BiasAdd/ReadVariableOp',\n",
       "  'index': 23,\n",
       "  'shape': array([ 1, 10, 10, 16], dtype=int32),\n",
       "  'shape_signature': array([-1, 10, 10, 16], dtype=int32),\n",
       "  'dtype': numpy.int8,\n",
       "  'quantization': (0.04252227023243904, 28),\n",
       "  'quantization_parameters': {'scales': array([0.04252227], dtype=float32),\n",
       "   'zero_points': array([28], dtype=int32),\n",
       "   'quantized_dimension': 0},\n",
       "  'sparsity_parameters': {}},\n",
       " {'name': 'lenet_21/sequential_62/conv2d_62/Tanh',\n",
       "  'index': 24,\n",
       "  'shape': array([ 1, 10, 10, 16], dtype=int32),\n",
       "  'shape_signature': array([-1, 10, 10, 16], dtype=int32),\n",
       "  'dtype': numpy.int8,\n",
       "  'quantization': (0.0078125, 0),\n",
       "  'quantization_parameters': {'scales': array([0.0078125], dtype=float32),\n",
       "   'zero_points': array([0], dtype=int32),\n",
       "   'quantized_dimension': 0},\n",
       "  'sparsity_parameters': {}},\n",
       " {'name': 'lenet_21/sequential_62/average_pooling2d_42/AvgPool',\n",
       "  'index': 25,\n",
       "  'shape': array([ 1,  5,  5, 16], dtype=int32),\n",
       "  'shape_signature': array([-1,  5,  5, 16], dtype=int32),\n",
       "  'dtype': numpy.int8,\n",
       "  'quantization': (0.0078125, 0),\n",
       "  'quantization_parameters': {'scales': array([0.0078125], dtype=float32),\n",
       "   'zero_points': array([0], dtype=int32),\n",
       "   'quantized_dimension': 0},\n",
       "  'sparsity_parameters': {}},\n",
       " {'name': 'lenet_21/sequential_62/activation_41/Sigmoid',\n",
       "  'index': 26,\n",
       "  'shape': array([ 1,  5,  5, 16], dtype=int32),\n",
       "  'shape_signature': array([-1,  5,  5, 16], dtype=int32),\n",
       "  'dtype': numpy.int8,\n",
       "  'quantization': (0.00390625, -128),\n",
       "  'quantization_parameters': {'scales': array([0.00390625], dtype=float32),\n",
       "   'zero_points': array([-128], dtype=int32),\n",
       "   'quantized_dimension': 0},\n",
       "  'sparsity_parameters': {}},\n",
       " {'name': 'lenet_21/sequential_63/conv2d_63/BiasAdd;lenet_21/sequential_63/conv2d_63/Conv2D;lenet_21/sequential_63/conv2d_63/BiasAdd/ReadVariableOp',\n",
       "  'index': 27,\n",
       "  'shape': array([  1,   1,   1, 120], dtype=int32),\n",
       "  'shape_signature': array([ -1,   1,   1, 120], dtype=int32),\n",
       "  'dtype': numpy.int8,\n",
       "  'quantization': (0.011838337406516075, 18),\n",
       "  'quantization_parameters': {'scales': array([0.01183834], dtype=float32),\n",
       "   'zero_points': array([18], dtype=int32),\n",
       "   'quantized_dimension': 0},\n",
       "  'sparsity_parameters': {}},\n",
       " {'name': 'lenet_21/sequential_63/conv2d_63/Tanh',\n",
       "  'index': 28,\n",
       "  'shape': array([  1,   1,   1, 120], dtype=int32),\n",
       "  'shape_signature': array([ -1,   1,   1, 120], dtype=int32),\n",
       "  'dtype': numpy.int8,\n",
       "  'quantization': (0.0078125, 0),\n",
       "  'quantization_parameters': {'scales': array([0.0078125], dtype=float32),\n",
       "   'zero_points': array([0], dtype=int32),\n",
       "   'quantized_dimension': 0},\n",
       "  'sparsity_parameters': {}},\n",
       " {'name': 'lenet_21/sequential_63/flatten_20/Reshape',\n",
       "  'index': 29,\n",
       "  'shape': array([  1, 120], dtype=int32),\n",
       "  'shape_signature': array([ -1, 120], dtype=int32),\n",
       "  'dtype': numpy.int8,\n",
       "  'quantization': (0.0078125, 0),\n",
       "  'quantization_parameters': {'scales': array([0.0078125], dtype=float32),\n",
       "   'zero_points': array([0], dtype=int32),\n",
       "   'quantized_dimension': 0},\n",
       "  'sparsity_parameters': {}},\n",
       " {'name': 'lenet_21/dense_40/MatMul_1;lenet_21/dense_40/BiasAdd_1',\n",
       "  'index': 30,\n",
       "  'shape': array([ 1, 84], dtype=int32),\n",
       "  'shape_signature': array([-1, 84], dtype=int32),\n",
       "  'dtype': numpy.int8,\n",
       "  'quantization': (0.06151371821761131, 7),\n",
       "  'quantization_parameters': {'scales': array([0.06151372], dtype=float32),\n",
       "   'zero_points': array([7], dtype=int32),\n",
       "   'quantized_dimension': 0},\n",
       "  'sparsity_parameters': {}},\n",
       " {'name': 'lenet_21/dense_40/Tanh_1',\n",
       "  'index': 31,\n",
       "  'shape': array([ 1, 84], dtype=int32),\n",
       "  'shape_signature': array([-1, 84], dtype=int32),\n",
       "  'dtype': numpy.int8,\n",
       "  'quantization': (0.0078125, 0),\n",
       "  'quantization_parameters': {'scales': array([0.0078125], dtype=float32),\n",
       "   'zero_points': array([0], dtype=int32),\n",
       "   'quantized_dimension': 0},\n",
       "  'sparsity_parameters': {}},\n",
       " {'name': 'lenet_21/dense_41/MatMul_1;lenet_21/dense_41/BiasAdd_1',\n",
       "  'index': 32,\n",
       "  'shape': array([ 1, 10], dtype=int32),\n",
       "  'shape_signature': array([-1, 10], dtype=int32),\n",
       "  'dtype': numpy.int8,\n",
       "  'quantization': (0.09972357749938965, 5),\n",
       "  'quantization_parameters': {'scales': array([0.09972358], dtype=float32),\n",
       "   'zero_points': array([5], dtype=int32),\n",
       "   'quantized_dimension': 0},\n",
       "  'sparsity_parameters': {}},\n",
       " {'name': 'StatefulPartitionedCall:0',\n",
       "  'index': 33,\n",
       "  'shape': array([ 1, 10], dtype=int32),\n",
       "  'shape_signature': array([-1, 10], dtype=int32),\n",
       "  'dtype': numpy.int8,\n",
       "  'quantization': (0.00390625, -128),\n",
       "  'quantization_parameters': {'scales': array([0.00390625], dtype=float32),\n",
       "   'zero_points': array([-128], dtype=int32),\n",
       "   'quantized_dimension': 0},\n",
       "  'sparsity_parameters': {}}]"
      ]
     },
     "execution_count": 20,
     "metadata": {},
     "output_type": "execute_result"
    }
   ],
   "source": [
    "interpreter_edited.get_tensor_details()"
   ]
  },
  {
   "cell_type": "markdown",
   "metadata": {
    "id": "E7Y0XFL9ZSP8"
   },
   "source": [
    "###Input Tensor Analysis"
   ]
  },
  {
   "cell_type": "code",
   "execution_count": null,
   "metadata": {
    "colab": {
     "base_uri": "https://localhost:8080/"
    },
    "id": "rfqvH5muzCf6",
    "outputId": "6ace6fdd-784c-4e22-e192-983bbd46e3e9"
   },
   "outputs": [
    {
     "name": "stdout",
     "output_type": "stream",
     "text": [
      "Input scale: 0.003921568859368563\n",
      "Zero point: -128\n"
     ]
    },
    {
     "data": {
      "text/plain": [
       "{'out': array([[-118, -128,  -67,  -36, -128, -119, -128, -128,  -45, -127]],\n",
       "       dtype=int8),\n",
       " 'out_dense': array([[-105, -101,  -94, -105, -108,  -94,  -98, -114,  -94, -110]],\n",
       "       dtype=int8)}"
      ]
     },
     "execution_count": 112,
     "metadata": {},
     "output_type": "execute_result"
    }
   ],
   "source": [
    "input_details = interpreter.get_input_details()[0]\n",
    "input_scale, input_zero_point = input_details[\"quantization\"]\n",
    "print(f\"Input scale: {input_scale}\")\n",
    "print(f\"Zero point: {input_zero_point}\")\n",
    "\n",
    "sig = interpreter.get_signature_runner()\n",
    "interpreter.get_signature_list()\n",
    "sig(args_0=tf.ones((1,32,32,1), tf.int8), args_1=tf.ones((1,120), tf.int8))"
   ]
  },
  {
   "cell_type": "markdown",
   "metadata": {
    "id": "IyEWUuLMlg6D"
   },
   "source": [
    "##Accuracy"
   ]
  },
  {
   "cell_type": "markdown",
   "metadata": {
    "id": "Ui1-WHOCATAJ"
   },
   "source": [
    "Quantize the validation set and cast to int8, then calculate accuracy"
   ]
  },
  {
   "cell_type": "code",
   "execution_count": null,
   "metadata": {
    "colab": {
     "base_uri": "https://localhost:8080/"
    },
    "id": "rKXSAmEjuefJ",
    "outputId": "b8df3c40-b420-4cf6-ba21-24de6b06e8b7"
   },
   "outputs": [
    {
     "name": "stdout",
     "output_type": "stream",
     "text": [
      "Quantized model accuracy on validation set: 95.80\n"
     ]
    }
   ],
   "source": [
    "quantized_val = tf.cast(x_val / input_scale + input_zero_point, tf.int8)\n",
    "outputs = sig(input_1=quantized_val)['output_1']\n",
    "quantized_pred = tf.argmax(outputs, axis=1)\n",
    "print(\"Quantized model accuracy on validation set: {:.02f}\".format((tf.math.count_nonzero(quantized_pred == y_val) / 2000) * 100))"
   ]
  },
  {
   "cell_type": "markdown",
   "metadata": {
    "id": "zL5LZYE7ljqh"
   },
   "source": [
    "##Save tensor as an array of bytes"
   ]
  },
  {
   "cell_type": "markdown",
   "metadata": {
    "id": "v-gVayfyCfBF"
   },
   "source": [
    "Save a Tensor in binary format"
   ]
  },
  {
   "cell_type": "code",
   "execution_count": null,
   "metadata": {
    "id": "-_zO3vXRCI6Y"
   },
   "outputs": [],
   "source": [
    "image = quantized_val[0]\n",
    "with open('image.bin', 'wb') as f:\n",
    "  f.write(bytearray(image))"
   ]
  },
  {
   "cell_type": "markdown",
   "metadata": {
    "id": "TNhqMZoxsN3S"
   },
   "source": [
    "Generate the array of char from the .bin file"
   ]
  },
  {
   "cell_type": "code",
   "execution_count": null,
   "metadata": {
    "colab": {
     "base_uri": "https://localhost:8080/"
    },
    "id": "8i_Tqxhsrnwu",
    "outputId": "f14f4603-f8ab-4410-9784-cca3f83f4628"
   },
   "outputs": [
    {
     "name": "stdout",
     "output_type": "stream",
     "text": [
      "Header file 'image_input.h' generated successfully.\n"
     ]
    }
   ],
   "source": [
    "command = [\"xxd\", \"-i\", 'image.bin']\n",
    "input_file_name = 'image.bin'\n",
    "output_file_name = 'image_input.h'\n",
    "\n",
    "with open(output_file_name, \"w\") as outfile:\n",
    "    result = subprocess.run(command, stdout=outfile, text=True)\n",
    "\n",
    "    if result.returncode == 0:\n",
    "        print(f\"Header file '{output_file_name}' generated successfully.\")\n",
    "    else:\n",
    "        print(\"Error generating header file.\")"
   ]
  },
  {
   "cell_type": "markdown",
   "metadata": {
    "id": "xaQUTKqFU2uU"
   },
   "source": [
    "# Get Golden Output with a given input image"
   ]
  },
  {
   "cell_type": "code",
   "execution_count": null,
   "metadata": {
    "colab": {
     "base_uri": "https://localhost:8080/",
     "height": 1000
    },
    "id": "HggcOFCmEPOa",
    "outputId": "7e95a6e0-4ab2-4629-862f-c3fe4b3aebcb"
   },
   "outputs": [
    {
     "name": "stdout",
     "output_type": "stream",
     "text": [
      "{'out': <tf.Tensor: shape=(1, 10), dtype=float32, numpy=\n",
      "array([[0.09999989, 0.10000001, 0.10000007, 0.10000016, 0.09999985,\n",
      "        0.09999989, 0.09999941, 0.10000043, 0.10000008, 0.10000022]],\n",
      "      dtype=float32)>, 'out_dense': <tf.Tensor: shape=(1, 10), dtype=float32, numpy=\n",
      "array([[0.09420101, 0.09051015, 0.11445776, 0.10434542, 0.09869833,\n",
      "        0.11275383, 0.08072697, 0.09569866, 0.10742386, 0.10118403]],\n",
      "      dtype=float32)>}\n",
      "[[-105 -102 -102 -102 -102 -102 -102 -102 -102 -102]]\n",
      "[[-102 -102 -104 -102 -102 -102 -102 -104 -102 -102]]\n",
      "{'out': <tf.Tensor: shape=(1, 10), dtype=float32, numpy=\n",
      "array([[7.7119657e-05, 8.4893960e-01, 1.2776609e-02, 2.4631536e-03,\n",
      "        1.7322188e-02, 1.3093193e-03, 2.1620376e-02, 9.2544287e-02,\n",
      "        2.5923742e-04, 2.6881429e-03]], dtype=float32)>, 'out_dense': <tf.Tensor: shape=(1, 10), dtype=float32, numpy=\n",
      "array([[0.09420101, 0.09051015, 0.11445776, 0.10434542, 0.09869833,\n",
      "        0.11275383, 0.08072697, 0.09569866, 0.10742386, 0.10118403]],\n",
      "      dtype=float32)>}\n",
      ".npy file content as f32: [0.08984375 0.1015625  0.1015625  0.1015625  0.1015625  0.1015625\n",
      " 0.1015625  0.1015625  0.1015625  0.1015625 ]\n",
      "Predicted percentages:\n",
      "Class 0: 8.98%\n",
      "Class 1: 10.16%\n",
      "Class 2: 10.16%\n",
      "Class 3: 10.16%\n",
      "Class 4: 10.16%\n",
      "Class 5: 10.16%\n",
      "Class 6: 10.16%\n",
      "Class 7: 10.16%\n",
      "Class 8: 10.16%\n",
      "Class 9: 10.16%\n"
     ]
    },
    {
     "data": {
      "image/png": "[encoded data removed]",
      "text/plain": [
       "<Figure size 640x480 with 1 Axes>"
      ]
     },
     "metadata": {},
     "output_type": "display_data"
    },
    {
     "name": "stdout",
     "output_type": "stream",
     "text": [
      "inference output data: [[0.08984375 0.1015625  0.1015625  0.1015625  0.1015625  0.1015625\n",
      "  0.1015625  0.1015625  0.1015625  0.1015625 ]]\n",
      ".npy file content: [[0.08984375 0.1015625  0.1015625  0.1015625  0.1015625  0.1015625\n",
      "  0.1015625  0.1015625  0.1015625  0.1015625 ]]\n"
     ]
    }
   ],
   "source": [
    "import numpy as np\n",
    "import tensorflow as tf\n",
    "import keras\n",
    "from PIL import Image\n",
    "import json\n",
    "\n",
    "# ----------- Quantized model inference -------------\n",
    "interpreter = tf.lite.Interpreter(model_path=\"lenet5_edited.tflite\", experimental_preserve_all_tensors=True)\n",
    "interpreter_edited = tf.lite.Interpreter(model_path=\"lenet5_edited.tflite\")\n",
    "interpreter.allocate_tensors()\n",
    "in_scale, in_zero_point = interpreter.get_input_details()[0][\"quantization\"]\n",
    "out_scale, out_zero_point = interpreter.get_output_details()[0][\"quantization\"]\n",
    "# ---------- END Quantized model inference -----------\n",
    "# --------- NOT Quantized model inference ------------\n",
    "\"\"\"\n",
    "model = tf.keras.models.load_model(\"lenet5.keras\", custom_objects={\"Lenet\": Lenet})\n",
    "in_zero_point = 128\n",
    "in_scale = 0.003921568859368563\n",
    "out_scale = 0.00390625\n",
    "out_zero_point = 128\n",
    "\"\"\"\n",
    "# -------- END NOT Quantized model inference ---------\n",
    "\n",
    "def read_png_input_image():\n",
    "  input_img = np.load(\"input_image_float32.npy\")\n",
    "  input_img = np.expand_dims(input_img, axis=0)\n",
    "\n",
    "  print(model(input_img))\n",
    "\n",
    "def check_patterns(image):\n",
    "  coords = [(15,9),(15,10),(15,11),(15,12),(15,13),(15,14),(15,15),(15,16),(15,17),(15,18),(14,10),(13,11),(12,12),(11,18),(12,18),(13,18),(14,18),(16,18),(17,18),(18,18),(19,18)]\n",
    "  hex_values = ['49', 'e4', '0a', 'd8', '7c', 'f7', '71', 'ae', '7e', 'a6', 'c8', '01', '87', 'f6', '5d', 'f6', '79', 'a6', '3a', 'f2', '7b']\n",
    "  # Convert the hex values to a numerical representation (float32)\n",
    "  # Cast the uint8 values to float32\n",
    "  #float32_values = tf.cast(int8_values, tf.float32)\n",
    "\n",
    "  # Assign the float32 values to the specified coordinates\n",
    "  for i, coord in enumerate(coords):\n",
    "    image[0, coord[0], coord[1], 0] = np.int8(int(hex_values[i], 16))\n",
    "\n",
    "def read_hex_input_image():\n",
    "  with open('./input_image_class_visualization.hex', 'r') as f:\n",
    "      values_str = f.read()\n",
    "\n",
    "  # Convert the hex string to bytes\n",
    "  image_bytes = bytes.fromhex(values_str)\n",
    "\n",
    "  # Convert the bytes to a numpy array\n",
    "  int_values = np.frombuffer(image_bytes, dtype=np.int8)\n",
    "\n",
    "  # Reshape the integer values to the correct shape for the model\n",
    "  input_data = np.load(\"input_image_int8.npy\").reshape((1, 32, 32, 1))\n",
    "  input_data_float = np.load(\"input_image_int8.npy\").reshape((1, 32, 32, 1))\n",
    "  #print(out_model)\n",
    "\n",
    "  # ----------- Quantized model inference -------------\n",
    "\n",
    "  # Get input and output tensors\n",
    "  input_details = interpreter.get_input_details()\n",
    "  output_details = interpreter.get_output_details()\n",
    "  # Get the output tensor\n",
    "  interpreter.allocate_tensors()\n",
    "  interpreter.set_tensor(input_details[0]['index'], input_data)\n",
    "  interpreter.invoke()\n",
    "  tanh_conv3 = interpreter.get_tensor(29)\n",
    "  interpreter.set_tensor(input_details[0]['index'], input_data)\n",
    "  interpreter.set_tensor(input_details[1]['index'], tanh_conv3)\n",
    "  interpreter.invoke()\n",
    "  output_data = interpreter.get_tensor(output_details[0]['index'])\n",
    "  output_dense = interpreter.get_tensor(output_details[1]['index'])\n",
    "  print(output_data)\n",
    "  print(output_dense)\n",
    "  print(model(input_data_float))\n",
    "  output_data = out_scale * (output_data + out_zero_point)\n",
    "  for out in output_data:\n",
    "    print(f\".npy file content as f32: {out}\")\n",
    "\n",
    "  predicted_percentages = output_data * 100\n",
    "  print(\"Predicted percentages:\")\n",
    "  for i, percentage in enumerate(predicted_percentages[0]):\n",
    "    print(f\"Class {i}: {percentage:.2f}%\")\n",
    "\n",
    "  # ---------- END Quantized model inference -----------\n",
    "  # --------- NOT Quantized model inference ------------\n",
    "  \"\"\"\n",
    "  output_data = model(input_data)\n",
    "\n",
    "  output_data = out_scale * (output_data + out_zero_point)\n",
    "  for out in output_data:\n",
    "    print(f\".npy file content as f32: {out}\")\n",
    "\n",
    "  predicted_percentages = output_data * 100\n",
    "  print(\"Predicted percentages:\")\n",
    "  for i, percentage in enumerate(predicted_percentages[0]):\n",
    "    print(f\"Class {i}: {percentage:.2f}%\")\n",
    "  \"\"\"\n",
    "  # -------- END NOT Quantized model inference ---------\n",
    "\n",
    "  # Print the input image\n",
    "  plt.imshow(input_data[0], cmap='gray')\n",
    "  plt.show()\n",
    "\n",
    "  np.save('golden_output.npy', output_data)\n",
    "  print(f\"inference output data: {output_data}\")\n",
    "  out_read = np.load('golden_output.npy')\n",
    "  print(f\".npy file content: {out_read}\")\n",
    "\n",
    "\n",
    "read_png_input_image()\n",
    "read_hex_input_image()"
   ]
  },
  {
   "cell_type": "markdown",
   "metadata": {
    "id": "DmwsPjlmt_Wn"
   },
   "source": [
    "#Save Model Tensors"
   ]
  },
  {
   "cell_type": "code",
   "execution_count": null,
   "metadata": {
    "id": "BxxTY6wEOvD9"
   },
   "outputs": [],
   "source": [
    "import numpy as np\n",
    "import tensorflow as tf\n",
    "\n",
    "interpreter = tf.lite.Interpreter(model_path=\"lenet5_mnist.tflite\")\n",
    "interpreter.allocate_tensors()\n",
    "in_scale, in_zero_point = interpreter.get_input_details()[0][\"quantization\"]\n",
    "out_scale, out_zero_point = interpreter.get_output_details()[0][\"quantization\"]\n",
    "\n",
    "input_details = interpreter.get_input_details()\n",
    "\n",
    "# conv1 tensors\n",
    "conv1_input = interpreter.get_tensor(input_details[0]['index'])\n",
    "#np.save(\"./lenet5_conv1_input_tensor\", conv1_input)\n",
    "conv1_weights = interpreter.get_tensor(11)\n",
    "#np.save(\"./lenet5_conv1_weight_tensor\", conv1_weights)\n",
    "conv1_bias = interpreter.get_tensor(10)\n",
    "#np.save(\"./lenet5_conv1_bias_tensor\", conv1_bias)\n",
    "\n",
    "# conv2 tensors\n",
    "conv2_weights = interpreter.get_tensor(9)\n",
    "#np.save(\"./lenet5_conv2_weight_tensor\", conv2_weights)\n",
    "conv2_bias = interpreter.get_tensor(8)\n",
    "#np.save(\"./lenet5_conv2_bias_tensor\", conv2_bias)\n",
    "\n",
    "# conv3 tensors\n",
    "conv3_weights = interpreter.get_tensor(7)\n",
    "np.save(\"./lenet5_conv3_weight_tensor\", conv3_weights)\n",
    "conv3_bias = interpreter.get_tensor(6)\n",
    "np.save(\"./lenet5_conv3_bias_tensor\", conv3_bias)"
   ]
  },
  {
   "cell_type": "markdown",
   "metadata": {
    "id": "2L-oiE3ZwwNd"
   },
   "source": [
    "# Print Output\n"
   ]
  },
  {
   "cell_type": "code",
   "execution_count": null,
   "metadata": {
    "colab": {
     "base_uri": "https://localhost:8080/"
    },
    "id": "8i9qRCtBvHCI",
    "outputId": "68f405ae-dad8-4c41-ba77-2384e2323403"
   },
   "outputs": [
    {
     "name": "stdout",
     "output_type": "stream",
     "text": [
      "[[-102 -102 -102 -102 -102 -104 -102 -104 -102 -102]]\n",
      "[[0.1015625 0.1015625 0.1015625 0.1015625 0.1015625 0.09375   0.1015625\n",
      "  0.09375   0.1015625 0.1015625]]\n",
      "Predicted percentages:\n",
      "Class 0: 10.16%\n",
      "Class 1: 10.16%\n",
      "Class 2: 10.16%\n",
      "Class 3: 10.16%\n",
      "Class 4: 10.16%\n",
      "Class 5: 9.38%\n",
      "Class 6: 10.16%\n",
      "Class 7: 9.38%\n",
      "Class 8: 10.16%\n",
      "Class 9: 10.16%\n"
     ]
    }
   ],
   "source": [
    "import numpy as np\n",
    "import tensorflow as tf\n",
    "from PIL import Image\n",
    "import json\n",
    "\n",
    "interpreter = tf.lite.Interpreter(model_path=\"lenet5_mnist.tflite\")\n",
    "interpreter.allocate_tensors()\n",
    "in_scale, in_zero_point = interpreter.get_input_details()[0][\"quantization\"]\n",
    "out_scale, out_zero_point = interpreter.get_output_details()[0][\"quantization\"]\n",
    "\n",
    "with open('./input_image_class_visualization.hex', 'r') as f:\n",
    "    values_str = f.read()\n",
    "\n",
    "# Convert the hex string to bytes\n",
    "image_bytes = bytes.fromhex(values_str)\n",
    "\n",
    "# Convert the bytes to a numpy array\n",
    "int_values = np.frombuffer(image_bytes, dtype=np.int8)\n",
    "\n",
    "# Reshape the integer values to the correct shape for the model\n",
    "input_data = int_values.reshape((1, 32, 32, 1))\n",
    "\n",
    "# Get input and output tensors\n",
    "input_details = interpreter.get_input_details()\n",
    "output_details = interpreter.get_output_details()\n",
    "\n",
    "sig = interpreter.get_signature_runner()\n",
    "\n",
    "# Get the output tensor\n",
    "output_data = sig(input_1=input_data)['output_1']\n",
    "print(output_data)\n",
    "#output_data = interpreter.get_tensor(output_details[0]['index'])\n",
    "\n",
    "output_data = out_scale * (output_data + out_zero_point)\n",
    "print(output_data)\n",
    "predicted_percentages = output_data * 100\n",
    "# Print the predicted percentages\n",
    "print(\"Predicted percentages:\")\n",
    "for i, percentage in enumerate(predicted_percentages[0]):\n",
    "    print(f\"Class {i}: {percentage:.2f}%\")"
   ]
  },
  {
   "cell_type": "code",
   "execution_count": null,
   "metadata": {
    "colab": {
     "base_uri": "https://localhost:8080/"
    },
    "id": "dcVTXJS5y3v5",
    "outputId": "7f801e32-a255-4261-af66-7ff1f745dd2f"
   },
   "outputs": [
    {
     "name": "stdout",
     "output_type": "stream",
     "text": [
      "[[-102 -102 -102 -102 -102 -104 -102 -102 -104 -102]]\n",
      "Scores: \n",
      "Class 0: 10.15625%\n",
      "Class 1: 10.15625%\n",
      "Class 2: 10.15625%\n",
      "Class 3: 10.15625%\n",
      "Class 4: 10.15625%\n",
      "Class 5: 9.375%\n",
      "Class 6: 10.15625%\n",
      "Class 7: 10.15625%\n",
      "Class 8: 9.375%\n",
      "Class 9: 10.15625%\n"
     ]
    }
   ],
   "source": [
    "image_int8 = np.load(\"input_image_int8.npy\")\n",
    "interpreter = tf.lite.Interpreter(model_path=\"lenet5_mnist.tflite\")\n",
    "out_scale, out_zero_point = interpreter.get_output_details()[0][\"quantization\"]\n",
    "interpreter.allocate_tensors()\n",
    "sig = interpreter.get_signature_runner()\n",
    "output_data = sig(input_1=image_int8)['output_1']\n",
    "print(output_data)\n",
    "output_data = out_scale * (output_data + out_zero_point)\n",
    "print(\"Scores: \")\n",
    "for i, out in enumerate(output_data[0]):\n",
    "  print(f\"Class {i}: {out * 100.0}%\")\n"
   ]
  },
  {
   "cell_type": "code",
   "execution_count": null,
   "metadata": {
    "colab": {
     "base_uri": "https://localhost:8080/"
    },
    "id": "3e_CbRPFNHDP",
    "outputId": "c7c28c21-f690-4a51-83c3-54a6b05829f4"
   },
   "outputs": [
    {
     "name": "stdout",
     "output_type": "stream",
     "text": [
      "1/1 [==============================] - 0s 290ms/step\n",
      "Scores: \n",
      "Class 0: 9.999984502792358%\n",
      "Class 1: 9.999991208314896%\n",
      "Class 2: 10.00000610947609%\n",
      "Class 3: 10.000008344650269%\n",
      "Class 4: 9.999996423721313%\n",
      "Class 5: 10.000000149011612%\n",
      "Class 6: 9.999945759773254%\n",
      "Class 7: 10.000044107437134%\n",
      "Class 8: 10.00000536441803%\n",
      "Class 9: 10.000015795230865%\n"
     ]
    }
   ],
   "source": [
    "model = tf.keras.models.load_model(\"lenet5.keras\", custom_objects={\"Lenet\": Lenet})\n",
    "image_float32 = np.load(\"input_image_float32.npy\")\n",
    "output_data = model.predict(image_float32[None,:,:,:])\n",
    "print(\"Scores: \")\n",
    "for i, out in enumerate(output_data[0]):\n",
    "  print(f\"Class {i}: {out * 100.0}%\")"
   ]
  },
  {
   "cell_type": "markdown",
   "metadata": {
    "id": "2A9ooDCHX7uD"
   },
   "source": [
    "# IICV Input Image\n",
    "generating a input image exploiting \"inverted\" class visualization and placing patterns in chosen positions"
   ]
  },
  {
   "cell_type": "code",
   "execution_count": null,
   "metadata": {
    "colab": {
     "base_uri": "https://localhost:8080/",
     "height": 1000
    },
    "id": "sUoHUCEbYjUi",
    "outputId": "3b3c5ca8-867d-42f3-f624-fd8cfa88789c"
   },
   "outputs": [
    {
     "name": "stderr",
     "output_type": "stream",
     "text": [
      "<ipython-input-46-e34a0306fe83>:31: DeprecationWarning: NumPy will stop allowing conversion of out-of-bound Python integers to integer arrays.  The conversion of 228 to int8 will fail in the future.\n",
      "For the old behavior, usually:\n",
      "    np.array(value).astype(dtype)\n",
      "will give the desired result (the cast overflows).\n",
      "  float32_values = np.array([(np.int8(int(val, 16)) - in_zero_point) * in_scale for val in hex_values], dtype=np.float32)\n",
      "<ipython-input-46-e34a0306fe83>:31: DeprecationWarning: NumPy will stop allowing conversion of out-of-bound Python integers to integer arrays.  The conversion of 216 to int8 will fail in the future.\n",
      "For the old behavior, usually:\n",
      "    np.array(value).astype(dtype)\n",
      "will give the desired result (the cast overflows).\n",
      "  float32_values = np.array([(np.int8(int(val, 16)) - in_zero_point) * in_scale for val in hex_values], dtype=np.float32)\n",
      "<ipython-input-46-e34a0306fe83>:31: DeprecationWarning: NumPy will stop allowing conversion of out-of-bound Python integers to integer arrays.  The conversion of 247 to int8 will fail in the future.\n",
      "For the old behavior, usually:\n",
      "    np.array(value).astype(dtype)\n",
      "will give the desired result (the cast overflows).\n",
      "  float32_values = np.array([(np.int8(int(val, 16)) - in_zero_point) * in_scale for val in hex_values], dtype=np.float32)\n",
      "<ipython-input-46-e34a0306fe83>:31: DeprecationWarning: NumPy will stop allowing conversion of out-of-bound Python integers to integer arrays.  The conversion of 174 to int8 will fail in the future.\n",
      "For the old behavior, usually:\n",
      "    np.array(value).astype(dtype)\n",
      "will give the desired result (the cast overflows).\n",
      "  float32_values = np.array([(np.int8(int(val, 16)) - in_zero_point) * in_scale for val in hex_values], dtype=np.float32)\n",
      "<ipython-input-46-e34a0306fe83>:31: DeprecationWarning: NumPy will stop allowing conversion of out-of-bound Python integers to integer arrays.  The conversion of 166 to int8 will fail in the future.\n",
      "For the old behavior, usually:\n",
      "    np.array(value).astype(dtype)\n",
      "will give the desired result (the cast overflows).\n",
      "  float32_values = np.array([(np.int8(int(val, 16)) - in_zero_point) * in_scale for val in hex_values], dtype=np.float32)\n",
      "<ipython-input-46-e34a0306fe83>:31: DeprecationWarning: NumPy will stop allowing conversion of out-of-bound Python integers to integer arrays.  The conversion of 200 to int8 will fail in the future.\n",
      "For the old behavior, usually:\n",
      "    np.array(value).astype(dtype)\n",
      "will give the desired result (the cast overflows).\n",
      "  float32_values = np.array([(np.int8(int(val, 16)) - in_zero_point) * in_scale for val in hex_values], dtype=np.float32)\n",
      "<ipython-input-46-e34a0306fe83>:31: DeprecationWarning: NumPy will stop allowing conversion of out-of-bound Python integers to integer arrays.  The conversion of 135 to int8 will fail in the future.\n",
      "For the old behavior, usually:\n",
      "    np.array(value).astype(dtype)\n",
      "will give the desired result (the cast overflows).\n",
      "  float32_values = np.array([(np.int8(int(val, 16)) - in_zero_point) * in_scale for val in hex_values], dtype=np.float32)\n",
      "<ipython-input-46-e34a0306fe83>:31: DeprecationWarning: NumPy will stop allowing conversion of out-of-bound Python integers to integer arrays.  The conversion of 246 to int8 will fail in the future.\n",
      "For the old behavior, usually:\n",
      "    np.array(value).astype(dtype)\n",
      "will give the desired result (the cast overflows).\n",
      "  float32_values = np.array([(np.int8(int(val, 16)) - in_zero_point) * in_scale for val in hex_values], dtype=np.float32)\n",
      "<ipython-input-46-e34a0306fe83>:31: DeprecationWarning: NumPy will stop allowing conversion of out-of-bound Python integers to integer arrays.  The conversion of 242 to int8 will fail in the future.\n",
      "For the old behavior, usually:\n",
      "    np.array(value).astype(dtype)\n",
      "will give the desired result (the cast overflows).\n",
      "  float32_values = np.array([(np.int8(int(val, 16)) - in_zero_point) * in_scale for val in hex_values], dtype=np.float32)\n"
     ]
    },
    {
     "name": "stdout",
     "output_type": "stream",
     "text": [
      "Step 0, Loss: [-0.56684595] Probs: [[6.83163181e-02 1.22230276e-05 1.88122801e-02 1.00768954e-02\n",
      "  1.09727924e-04 1.13614224e-01 1.32392415e-05 1.65426871e-04\n",
      "  7.78763831e-01 1.01158721e-02]]\n",
      "Step 200, Loss: [-0.8367761] Probs: [[1.4280134e-01 9.7149772e-05 1.4285566e-01 1.4285243e-01 4.1462630e-05\n",
      "  1.4286107e-01 1.7065891e-07 1.4283526e-01 1.4284080e-01 1.4281462e-01]]\n",
      "Step 400, Loss: [-0.8367768] Probs: [[1.4279959e-01 9.8239208e-05 1.4285931e-01 1.4285062e-01 4.1128165e-05\n",
      "  1.4286166e-01 1.7208671e-07 1.4283909e-01 1.4283451e-01 1.4281572e-01]]\n",
      "Step 600, Loss: [-0.83677745] Probs: [[1.4279801e-01 9.9558623e-05 1.4285885e-01 1.4285068e-01 4.0723004e-05\n",
      "  1.4286317e-01 1.7387447e-07 1.4284012e-01 1.4283434e-01 1.4281437e-01]]\n",
      "Step 800, Loss: [-0.8367784] Probs: [[1.4279655e-01 1.0112917e-04 1.4285809e-01 1.4285055e-01 4.0227631e-05\n",
      "  1.4286500e-01 1.7584293e-07 1.4284126e-01 1.4283411e-01 1.4281292e-01]]\n",
      "Step 1000, Loss: [-0.83677936] Probs: [[1.4279522e-01 1.0297455e-04 1.4285760e-01 1.4285040e-01 3.9628900e-05\n",
      "  1.4286652e-01 1.7786245e-07 1.4284325e-01 1.4283283e-01 1.4281145e-01]]\n",
      "Step 1200, Loss: [-0.83678067] Probs: [[1.4279492e-01 1.0515715e-04 1.4285935e-01 1.4285013e-01 3.8906455e-05\n",
      "  1.4286733e-01 1.7988268e-07 1.4284362e-01 1.4283183e-01 1.4280854e-01]]\n",
      "Step 1400, Loss: [-0.83678204] Probs: [[1.42792657e-01 1.07779815e-04 1.42857790e-01 1.42849997e-01\n",
      "  3.80245147e-05 1.42870471e-01 1.81744483e-07 1.42845675e-01\n",
      "  1.42830387e-01 1.42807052e-01]]\n",
      "Step 1600, Loss: [-0.83678395] Probs: [[1.4278965e-01 1.1108294e-04 1.4285822e-01 1.4285077e-01 3.6927180e-05\n",
      "  1.4287239e-01 1.8340960e-07 1.4284804e-01 1.4282842e-01 1.4280428e-01]]\n",
      "Step 1800, Loss: [-0.83678645] Probs: [[1.42787635e-01 1.15448034e-04 1.42855301e-01 1.42849460e-01\n",
      "  3.55261800e-05 1.42876640e-01 1.84761234e-07 1.42852232e-01\n",
      "  1.42825007e-01 1.42802507e-01]]\n",
      "Step 2000, Loss: [-0.8367899] Probs: [[1.4278230e-01 1.2143115e-04 1.4285742e-01 1.4285204e-01 3.3723842e-05\n",
      "  1.4287871e-01 1.8564350e-07 1.4285745e-01 1.4282048e-01 1.4279623e-01]]\n",
      "Step 2200, Loss: [-0.8367952] Probs: [[1.4277300e-01 1.3007683e-04 1.4286010e-01 1.4285067e-01 3.1423857e-05\n",
      "  1.4288579e-01 1.8633240e-07 1.4286985e-01 1.4281614e-01 1.4278281e-01]]\n",
      "Step 2400, Loss: [-0.8368026] Probs: [[1.4276035e-01 1.4143846e-04 1.4287581e-01 1.4284812e-01 2.8898652e-05\n",
      "  1.4288555e-01 1.8820032e-07 1.4290708e-01 1.4279860e-01 1.4275397e-01]]\n",
      "Step 2600, Loss: [-0.8368125] Probs: [[1.4276099e-01 1.5604879e-04 1.4291117e-01 1.4284772e-01 2.6268306e-05\n",
      "  1.4284053e-01 1.9177821e-07 1.4293632e-01 1.4278108e-01 1.4273970e-01]]\n",
      "Step 2800, Loss: [-0.8368298] Probs: [[1.4274511e-01 1.7998152e-04 1.4288029e-01 1.4283349e-01 2.3085513e-05\n",
      "  1.4290723e-01 2.0024014e-07 1.4298078e-01 1.4275666e-01 1.4269319e-01]]\n",
      "Step 3000, Loss: [-0.83607906] Probs: [[1.4353986e-01 2.1408481e-04 1.3296930e-01 1.4196731e-01 2.0449701e-05\n",
      "  1.5234962e-01 2.2902010e-07 1.3269088e-01 1.4986974e-01 1.4637856e-01]]\n",
      "Step 3200, Loss: [-0.83691484] Probs: [[1.4271632e-01 2.8967595e-04 1.4291687e-01 1.4280018e-01 1.6047259e-05\n",
      "  1.4294319e-01 2.9522184e-07 1.4308901e-01 1.4263420e-01 1.4259422e-01]]\n",
      "Step 3400, Loss: [-0.838086] Probs: [[1.4240848e-01 1.9436529e-03 1.4369172e-01 1.4152515e-01 1.3334658e-05\n",
      "  1.4596123e-01 7.2668872e-06 1.4136133e-01 1.4247724e-01 1.4061064e-01]]\n",
      "Step 3600, Loss: [-1.] Probs: [[0.10004526 0.10003132 0.09999195 0.09997809 0.09998549 0.10002945\n",
      "  0.10003029 0.09998844 0.09998028 0.09993944]]\n",
      "Step 3800, Loss: [-1.] Probs: [[0.10000008 0.10000005 0.09999997 0.09999996 0.09999995 0.09999994\n",
      "  0.10000007 0.09999988 0.10000014 0.09999997]]\n",
      "Step 4000, Loss: [-0.99999994] Probs: [[0.10000007 0.09999993 0.09999999 0.09999998 0.10000007 0.10000011\n",
      "  0.10000014 0.09999988 0.09999996 0.09999989]]\n",
      "Step 4200, Loss: [-1.0000001] Probs: [[0.10000017 0.09999994 0.09999989 0.10000008 0.0999999  0.09999996\n",
      "  0.09999969 0.09999993 0.10000025 0.1000002 ]]\n",
      "Step 4400, Loss: [-1.] Probs: [[0.09999991 0.10000014 0.10000011 0.09999997 0.09999982 0.09999996\n",
      "  0.09999995 0.10000005 0.10000014 0.09999998]]\n",
      "Step 4600, Loss: [-1.] Probs: [[0.10000008 0.09999982 0.09999994 0.10000011 0.10000013 0.09999991\n",
      "  0.09999959 0.10000022 0.10000001 0.10000025]]\n",
      "Step 4800, Loss: [-1.] Probs: [[0.09999991 0.1000001  0.10000001 0.1        0.09999992 0.10000005\n",
      "  0.10000001 0.10000001 0.10000001 0.09999994]]\n",
      "Step 5000, Loss: [-1.] Probs: [[0.10000004 0.09999987 0.09999992 0.10000005 0.10000006 0.09999996\n",
      "  0.09999986 0.1000001  0.10000003 0.1000001 ]]\n",
      "Step 5200, Loss: [-1.] Probs: [[0.1        0.10000008 0.10000005 0.09999998 0.09999993 0.10000011\n",
      "  0.10000032 0.09999971 0.10000002 0.0999998 ]]\n",
      "Step 5400, Loss: [-1.0000001] Probs: [[0.10000003 0.09999991 0.09999994 0.09999997 0.10000012 0.10000001\n",
      "  0.10000017 0.09999997 0.09999996 0.09999993]]\n",
      "Step 5600, Loss: [-1.] Probs: [[0.09999993 0.10000006 0.09999997 0.10000004 0.09999997 0.09999995\n",
      "  0.09999982 0.10000017 0.10000003 0.10000008]]\n",
      "Step 5800, Loss: [-1.] Probs: [[0.10000002 0.09999993 0.09999979 0.09999989 0.1000002  0.09999992\n",
      "  0.09999979 0.10000011 0.10000005 0.10000025]]\n",
      "Step 6000, Loss: [-1.] Probs: [[0.1000001  0.09999992 0.09999995 0.09999997 0.10000012 0.09999999\n",
      "  0.10000024 0.09999981 0.09999999 0.09999993]]\n",
      "Step 6200, Loss: [-1.] Probs: [[0.09999993 0.10000001 0.09999994 0.10000005 0.09999998 0.10000001\n",
      "  0.09999961 0.10000023 0.10000002 0.10000014]]\n",
      "Step 6400, Loss: [-1.] Probs: [[0.09999997 0.10000014 0.10000007 0.09999996 0.09999994 0.09999993\n",
      "  0.10000021 0.09999996 0.09999999 0.09999989]]\n",
      "Step 6600, Loss: [-1.0000001] Probs: [[0.10000014 0.09999996 0.09999984 0.09999999 0.09999996 0.10000002\n",
      "  0.09999981 0.09999995 0.10000021 0.10000014]]\n",
      "Step 6800, Loss: [-1.] Probs: [[0.1000002  0.0999999  0.09999993 0.0999998  0.10000017 0.1000001\n",
      "  0.10000088 0.09999946 0.09999986 0.09999971]]\n",
      "Step 7000, Loss: [-1.0000001] Probs: [[0.09999997 0.10000015 0.10000007 0.09999997 0.09999985 0.09999993\n",
      "  0.10000036 0.09999993 0.09999992 0.09999979]]\n",
      "Step 7200, Loss: [-1.] Probs: [[0.09999999 0.10000003 0.10000008 0.09999997 0.1        0.10000003\n",
      "  0.10000036 0.09999984 0.09999987 0.0999998 ]]\n",
      "Step 7400, Loss: [-1.] Probs: [[0.09999994 0.10000011 0.10000005 0.09999999 0.09999996 0.10000005\n",
      "  0.10000017 0.0999999  0.10000001 0.09999987]]\n",
      "Step 7600, Loss: [-1.0000001] Probs: [[0.10000002 0.09999985 0.09999993 0.09999997 0.10000015 0.09999999\n",
      "  0.0999999  0.10000002 0.09999999 0.10000013]]\n",
      "Step 7800, Loss: [-1.] Probs: [[0.10000008 0.09999986 0.10000002 0.09999996 0.1000001  0.09999998\n",
      "  0.09999999 0.10000002 0.09999996 0.1000001 ]]\n",
      "tf.Tensor(\n",
      "[[0.09999989 0.10000001 0.10000007 0.10000016 0.09999985 0.09999989\n",
      "  0.09999941 0.10000043 0.10000008 0.10000022]], shape=(1, 10), dtype=float32)\n",
      "Balanced Image:\n"
     ]
    },
    {
     "name": "stderr",
     "output_type": "stream",
     "text": [
      "<ipython-input-46-e34a0306fe83>:42: DeprecationWarning: NumPy will stop allowing conversion of out-of-bound Python integers to integer arrays.  The conversion of 228 to int8 will fail in the future.\n",
      "For the old behavior, usually:\n",
      "    np.array(value).astype(dtype)\n",
      "will give the desired result (the cast overflows).\n",
      "  input_image[0, coord[0], coord[1], 0].assign(np.int8(int(hex_values[i], 16)))\n",
      "<ipython-input-46-e34a0306fe83>:42: DeprecationWarning: NumPy will stop allowing conversion of out-of-bound Python integers to integer arrays.  The conversion of 216 to int8 will fail in the future.\n",
      "For the old behavior, usually:\n",
      "    np.array(value).astype(dtype)\n",
      "will give the desired result (the cast overflows).\n",
      "  input_image[0, coord[0], coord[1], 0].assign(np.int8(int(hex_values[i], 16)))\n",
      "<ipython-input-46-e34a0306fe83>:42: DeprecationWarning: NumPy will stop allowing conversion of out-of-bound Python integers to integer arrays.  The conversion of 247 to int8 will fail in the future.\n",
      "For the old behavior, usually:\n",
      "    np.array(value).astype(dtype)\n",
      "will give the desired result (the cast overflows).\n",
      "  input_image[0, coord[0], coord[1], 0].assign(np.int8(int(hex_values[i], 16)))\n",
      "<ipython-input-46-e34a0306fe83>:42: DeprecationWarning: NumPy will stop allowing conversion of out-of-bound Python integers to integer arrays.  The conversion of 174 to int8 will fail in the future.\n",
      "For the old behavior, usually:\n",
      "    np.array(value).astype(dtype)\n",
      "will give the desired result (the cast overflows).\n",
      "  input_image[0, coord[0], coord[1], 0].assign(np.int8(int(hex_values[i], 16)))\n",
      "<ipython-input-46-e34a0306fe83>:42: DeprecationWarning: NumPy will stop allowing conversion of out-of-bound Python integers to integer arrays.  The conversion of 166 to int8 will fail in the future.\n",
      "For the old behavior, usually:\n",
      "    np.array(value).astype(dtype)\n",
      "will give the desired result (the cast overflows).\n",
      "  input_image[0, coord[0], coord[1], 0].assign(np.int8(int(hex_values[i], 16)))\n",
      "<ipython-input-46-e34a0306fe83>:42: DeprecationWarning: NumPy will stop allowing conversion of out-of-bound Python integers to integer arrays.  The conversion of 200 to int8 will fail in the future.\n",
      "For the old behavior, usually:\n",
      "    np.array(value).astype(dtype)\n",
      "will give the desired result (the cast overflows).\n",
      "  input_image[0, coord[0], coord[1], 0].assign(np.int8(int(hex_values[i], 16)))\n",
      "<ipython-input-46-e34a0306fe83>:42: DeprecationWarning: NumPy will stop allowing conversion of out-of-bound Python integers to integer arrays.  The conversion of 135 to int8 will fail in the future.\n",
      "For the old behavior, usually:\n",
      "    np.array(value).astype(dtype)\n",
      "will give the desired result (the cast overflows).\n",
      "  input_image[0, coord[0], coord[1], 0].assign(np.int8(int(hex_values[i], 16)))\n",
      "<ipython-input-46-e34a0306fe83>:42: DeprecationWarning: NumPy will stop allowing conversion of out-of-bound Python integers to integer arrays.  The conversion of 246 to int8 will fail in the future.\n",
      "For the old behavior, usually:\n",
      "    np.array(value).astype(dtype)\n",
      "will give the desired result (the cast overflows).\n",
      "  input_image[0, coord[0], coord[1], 0].assign(np.int8(int(hex_values[i], 16)))\n",
      "<ipython-input-46-e34a0306fe83>:42: DeprecationWarning: NumPy will stop allowing conversion of out-of-bound Python integers to integer arrays.  The conversion of 242 to int8 will fail in the future.\n",
      "For the old behavior, usually:\n",
      "    np.array(value).astype(dtype)\n",
      "will give the desired result (the cast overflows).\n",
      "  input_image[0, coord[0], coord[1], 0].assign(np.int8(int(hex_values[i], 16)))\n"
     ]
    },
    {
     "data": {
      "image/png": "[encoded data removed]",
      "text/plain": [
       "<Figure size 640x480 with 1 Axes>"
      ]
     },
     "metadata": {},
     "output_type": "display_data"
    }
   ],
   "source": [
    "import tensorflow as tf\n",
    "import numpy as np\n",
    "import matplotlib.pyplot as plt\n",
    "\n",
    "# ----------- Quantized model inference -------------\n",
    "interpreter = tf.lite.Interpreter(model_path=\"lenet5_mnist.tflite\")\n",
    "interpreter.allocate_tensors()\n",
    "in_scale, in_zero_point = interpreter.get_input_details()[0][\"quantization\"]\n",
    "# ---------- END Quantized model inference -----------\n",
    "# --------- NOT Quantized model inference ------------\n",
    "\"\"\"\n",
    "model = tf.keras.models.load_model(\"lenet5.keras\", custom_objects={\"Lenet\": Lenet})\n",
    "in_zero_point = 128\n",
    "in_scale = 0.003921568859368563\n",
    "\"\"\"\n",
    "# -------- END NOT Quantized model inference ---------\n",
    "\n",
    "input_mask = tf.Variable(tf.ones((1, 32, 32, 1)))\n",
    "coords = [(15,9),(15,10),(15,11),(15,12),(15,13),(15,14),(15,15),(15,16),(15,17),(15,18),(14,10),(13,11),(12,12),(11,18),(12,18),(13,18),(14,18),(16,18),(17,18),(18,18),(19,18)]\n",
    "for coord in coords:\n",
    "  input_mask[0, coord[0], coord[1], 0].assign(0)\n",
    "\n",
    "# Maintain constant values as f32 for the given coordinates (containing patterns)\n",
    "def apply_constants(image):\n",
    "  coords = [(15,9),(15,10),(15,11),(15,12),(15,13),(15,14),(15,15),(15,16),(15,17),(15,18),(14,10),(13,11),(12,12),(11,18),(12,18),(13,18),(14,18),(16,18),(17,18),(18,18),(19,18)]\n",
    "  hex_values = ['49', 'e4', '0a', 'd8', '7c', 'f7', '71', 'ae', '7e', '36', 'c8', '01', '87', 'f6', '5d', 'f6', '79', 'a6', '3a', 'f2', '7b']\n",
    "  # Convert the hex values to a numerical representation (float32)\n",
    "  float32_values = np.array([(np.int8(int(val, 16)) - in_zero_point) * in_scale for val in hex_values], dtype=np.float32)\n",
    "\n",
    "  # Assign the float32 values to the specified coordinates\n",
    "  for i, coord in enumerate(coords):\n",
    "    input_image[0, coord[0], coord[1], 0].assign(float32_values[i])\n",
    "\n",
    "# Maintain constant values as int8 for the given coordinates (containing patterns)\n",
    "def apply_constants_int8(image):\n",
    "  coords = [(15,9),(15,10),(15,11),(15,12),(15,13),(15,14),(15,15),(15,16),(15,17),(15,18),(14,10),(13,11),(12,12),(11,18),(12,18),(13,18),(14,18),(16,18),(17,18),(18,18),(19,18)]\n",
    "  hex_values = ['49', 'e4', '0a', 'd8', '7c', 'f7', '71', 'ae', '7e', '36', 'c8', '01', '87', 'f6', '5d', 'f6', '79', 'a6', '3a', 'f2', '7b']\n",
    "  for i, coord in enumerate(coords):\n",
    "    input_image[0, coord[0], coord[1], 0].assign(np.int8(int(hex_values[i], 16)))\n",
    "\n",
    "# Define the loss function: we want to minimize the variance of the predicted probabilities\n",
    "def loss_function(image):\n",
    "    logits = model(image)\n",
    "    target = tf.ones_like(logits) * 0.1\n",
    "    return tf.losses.cosine_similarity(target, logits)\n",
    "\n",
    "#------------------------------------------------------------------------#\n",
    "\n",
    "# Load the pre-trained model running the corresponding code snippet above\n",
    "\n",
    "# Initialize a random image with the shape expected by the model (e.g., 224x224x3 for a typical image model)\n",
    "input_image = tf.Variable(tf.random.uniform((1,32,32,1)), dtype=tf.float32)\n",
    "\n",
    "# Define the optimizer\n",
    "learning_rate_schedule = tf.keras.optimizers.schedules.ExponentialDecay(.1, 5000, .1)\n",
    "optimizer = tf.optimizers.Adam(learning_rate=learning_rate_schedule)\n",
    "\n",
    "# Optimization loop\n",
    "for step in range(8000):  # Number of optimization steps\n",
    "    with tf.GradientTape() as tape:\n",
    "      tape.watch(input_image)\n",
    "      input_image.assign(tf.clip_by_value(input_image, 0.0, 1.0))\n",
    "      apply_constants(input_image)\n",
    "      loss = loss_function(input_image)\n",
    "    # Compute gradients\n",
    "    gradients = tape.gradient(loss, [input_image])\n",
    "    # Apply gradients to the input image\n",
    "    optimizer.apply_gradients(zip(gradients, [input_image]))\n",
    "    if step % 200 == 0:\n",
    "      print(f\"Step {step}, Loss: {loss.numpy()} Probs: {model(input_image)}\")\n",
    "\n",
    "apply_constants(input_image)\n",
    "print(model(input_image))\n",
    "\n",
    "# numpy image as tensor\n",
    "balanced_image = input_image.numpy().reshape((1, 32, 32, 1))\n",
    "np.save(\"input_image_float32.npy\", balanced_image)\n",
    "\n",
    "# image as png image\n",
    "tf.keras.utils.save_img('input_image_class_vis.png', balanced_image, color_mode='grayscale')\n",
    "\n",
    "# image\n",
    "# Normalize the image values to be between 0 and 255\n",
    "balanced_image = balanced_image / in_scale + in_zero_point\n",
    "# force patterns to maintain their value, no quantization needed\n",
    "apply_constants_int8(balanced_image)\n",
    "balanced_image = balanced_image.astype(np.int8)\n",
    "print(\"Balanced Image:\")\n",
    "# Convert the numpy array to a PIL image\n",
    "np.save(\"input_image_int8.npy\", balanced_image)\n",
    "pil_image = tf.keras.preprocessing.image.array_to_img(balanced_image)\n",
    "# Display the image using matplotlib\n",
    "plt.imshow(pil_image, cmap='gray')\n",
    "plt.show()\n",
    "\n",
    "# Convert the image to bytes\n",
    "#balanced_image_int8 = balanced_image.astype(np.int8)\n",
    "image_bytes = bytes(balanced_image)\n",
    "\n",
    "# Convert the bytes to hex\n",
    "image_hex = ' '.join(format(byte, '02x') for byte in image_bytes)\n",
    "\n",
    "with open('input_image_class_visualization.hex', 'w') as f:\n",
    "    f.write(image_hex)\n"
   ]
  }
 ],
 "metadata": {
  "accelerator": "GPU",
  "colab": {
   "collapsed_sections": [
    "MtJz7wpnMvIn",
    "JTuveg1IzdQL",
    "IyEWUuLMlg6D",
    "zL5LZYE7ljqh",
    "DmwsPjlmt_Wn"
   ],
   "gpuType": "T4",
   "provenance": []
  },
  "kernelspec": {
   "display_name": "Python 3",
   "name": "python3"
  },
  "language_info": {
   "name": "python"
  }
 },
 "nbformat": 4,
 "nbformat_minor": 0
}
